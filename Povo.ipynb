{
 "cells": [
  {
   "cell_type": "code",
   "execution_count": 2,
   "id": "4081dcf8",
   "metadata": {},
   "outputs": [],
   "source": [
    "from Bio.Blast import NCBIXML \n",
    "from Bio.Blast import NCBIWWW\n",
    "import requests, sys, json\n",
    "import re\n",
    "from Bio import SeqIO\n",
    "from Bio import Entrez\n",
    "from Bio import Medline\n",
    "import pandas as pd\n",
    "import numpy as np\n",
    "from tqdm import tqdm\n",
    "from Bio import SearchIO\n",
    "from Bio.SwissProt import KeyWList\n",
    "from Bio import SwissProt\n",
    "from Bio import ExPASy\n",
    "from Bio.SeqRecord import SeqRecord\n",
    "from Bio.Align import MultipleSeqAlignment\n",
    "from Bio.Seq import Seq\n",
    "from Bio import AlignIO\n",
    "from Bio.Align import AlignInfo\n",
    "from Bio.SeqFeature import SeqFeature, FeatureLocation\n",
    "from Bio.Phylo.TreeConstruction import DistanceCalculator\n",
    "from Bio.Phylo.TreeConstruction import DistanceTreeConstructor\n",
    "from Bio import Phylo\n",
    "import mysql.connector as SQLC\n",
    "import mysql.connector\n",
    "from datetime import date"
   ]
  },
  {
   "cell_type": "markdown",
   "id": "c9ddb00a",
   "metadata": {},
   "source": [
    "### Start povoation:"
   ]
  },
  {
   "cell_type": "code",
   "execution_count": 1,
   "id": "7e6cca28",
   "metadata": {
    "scrolled": true
   },
   "outputs": [
    {
     "name": "stdout",
     "output_type": "stream",
     "text": [
      "escolha o que quer pesquisar: irs1\n",
      "escolha o nº de genes que quer obter (máximo 20): 10\n",
      "['3667', '3667', '16367', '25467', '559281', '3077574', '100512686', '538598', '459985', '100607873']\n"
     ]
    }
   ],
   "source": [
    "#Extrair ids:\n",
    "\n",
    "import time\n",
    "from datetime import datetime\n",
    "\n",
    "\n",
    "data_e_hora_atuais = datetime.now()\n",
    "\n",
    "query= input('escolha o que quer pesquisar: ')\n",
    "def url_get(i):\n",
    "    url_list= [ ]\n",
    "    url = \"https://www.ncbi.nlm.nih.gov/gene/?term={}\".format( query )\n",
    "    url_list.append(url)\n",
    "    return url_list\n",
    "url_get(1)\n",
    "\n",
    "import requests, sys, json\n",
    "content = []\n",
    "for url in url_get(1):\n",
    "    r = requests.get(url)\n",
    "    content.append(r.content)\n",
    "#print(content)\n",
    "\n",
    "import requests\n",
    "from bs4 import BeautifulSoup\n",
    "\n",
    "# Parsing the HTML\n",
    "for c in content:\n",
    "    soup = BeautifulSoup(c, 'html.parser')\n",
    "    a= soup.get_text()\n",
    "    \n",
    "import re\n",
    "existe = re.findall(r\"ID:\\s+\\d*(?=\\D)\", a, re.DOTALL)\n",
    "\n",
    "c= ', '.join(existe)\n",
    "h= c.replace('ID: ','')\n",
    "IDS= h.split(', ')\n",
    "\n",
    "n_genes= IDS[0:int(input('escolha o nº de genes que quer obter (máximo 20): '))]\n",
    "numero_genes= len(n_genes)\n",
    "print(n_genes)\n",
    "\n",
    "\n"
   ]
  },
  {
   "cell_type": "code",
   "execution_count": 44,
   "id": "2c510459",
   "metadata": {},
   "outputs": [],
   "source": [
    "#Povoação \"History\"\n",
    "\n",
    "DataBase = SQLC.connect(\n",
    "    host =\"geo.di.uminho.pt\",\n",
    "    user =\"bioinformatica\",\n",
    "    password =\"20221207\",\n",
    "    database =\"AP_db_KRG\"\n",
    ")\n",
    "DataBase.autocommit = True # allows the change be done\n",
    "\n",
    "Cursor_2 = DataBase.cursor()\n",
    "try:\n",
    "    sql= \"INSERT INTO History (search, Genes_number_input, Day)   VALUES (%s, %s, %s)\"\n",
    "    val=(query, numero_genes, data_e_hora_atuais)\n",
    "    Cursor_2.execute(sql,val)\n",
    "    \n",
    "except mysql.connector.Error as e:\n",
    "    print(\"Erro na escrita na base de dados: {}\".format(e) )    \n",
    "finally:\n",
    "    DataBase.close()\n",
    "    \n",
    "    search_id =[]\n",
    "DataBase = SQLC.connect(\n",
    "    host =\"geo.di.uminho.pt\",\n",
    "    user =\"bioinformatica\",\n",
    "    password =\"20221207\",\n",
    "    database =\"AP_db_KRG\"\n",
    ")\n",
    "DataBase.autocommit = True # allows the change be done\n",
    "\n",
    "Cursor_2 = DataBase.cursor()\n",
    "try:\n",
    "    sql= \"Select ID_search FROM History\"\n",
    "    Cursor_2.execute(sql)\n",
    "    for row in Cursor_2:\n",
    "        #print(row)\n",
    "        search_id.append(str(row))       \n",
    "except mysql.connector.Error as e:\n",
    "    print(\"Erro na escrita na base de dados: {}\".format(e) )    \n",
    "finally:\n",
    "    DataBase.close()\n",
    "    \n",
    "div= ', '.join(search_id)\n",
    "h= div.replace(\"(\",'')\n",
    "hh= h.replace(\",)\",'')\n",
    "SEARCH_ID= hh.split(', ')\n",
    "Hist= SEARCH_ID[-1]"
   ]
  },
  {
   "cell_type": "code",
   "execution_count": 3,
   "id": "653959df",
   "metadata": {},
   "outputs": [
    {
     "name": "stderr",
     "output_type": "stream",
     "text": [
      "C:\\Users\\rodri\\anaconda3\\lib\\site-packages\\Bio\\Entrez\\__init__.py:658: UserWarning: \n",
      "Email address is not specified.\n",
      "\n",
      "To make use of NCBI's E-utilities, NCBI requires you to specify your\n",
      "email address with each request.  As an example, if your email address\n",
      "is A.N.Other@example.com, you can specify it as follows:\n",
      "   from Bio import Entrez\n",
      "   Entrez.email = 'A.N.Other@example.com'\n",
      "In case of excessive usage of the E-utilities, NCBI will attempt to contact\n",
      "a user at the email address provided before blocking access to the\n",
      "E-utilities.\n",
      "  warnings.warn(\n"
     ]
    },
    {
     "name": "stdout",
     "output_type": "stream",
     "text": [
      "['X03907.1', 'AA928418.1', 'AAADR0035516.1', 'L20655.1', 'AAADU0045050.1']\n"
     ]
    }
   ],
   "source": [
    "#Extrair ids NCBI:\n",
    "\n",
    "Ids=[]\n",
    "database = 'nucleotide'\n",
    "email= 'rodrigoce9@gmail.com'\n",
    "idlist= n_genes\n",
    "handle = Entrez.efetch(db=database, id=idlist, rettype=\"gb\") \n",
    "records = list(SeqIO.parse(handle,\"gb\"))\n",
    "handle.close()\n",
    "for info in records:\n",
    "    Ids.append(info.id)\n",
    "    #print(info.id)\n",
    "print (Ids)"
   ]
  },
  {
   "cell_type": "code",
   "execution_count": null,
   "id": "88ce0d32",
   "metadata": {},
   "outputs": [],
   "source": []
  },
  {
   "cell_type": "code",
   "execution_count": 4,
   "id": "ec4f1fdd",
   "metadata": {},
   "outputs": [
    {
     "name": "stdout",
     "output_type": "stream",
     "text": [
      "['https://www.ncbi.nlm.nih.gov/nuccore/X03907.1', 'https://www.ncbi.nlm.nih.gov/nuccore/AA928418.1', 'https://www.ncbi.nlm.nih.gov/nuccore/AAADR0035516.1', 'https://www.ncbi.nlm.nih.gov/nuccore/L20655.1', 'https://www.ncbi.nlm.nih.gov/nuccore/AAADU0045050.1']\n"
     ]
    }
   ],
   "source": [
    "import time\n",
    "def url_get_id(i):\n",
    "    url_list= [ ]\n",
    "    for id in i:\n",
    "        url = \"https://www.ncbi.nlm.nih.gov/nuccore/{}\".format( id )\n",
    "        url_list.append(url)\n",
    "    return url_list\n",
    "link_genebank= url_get_id(Ids)\n",
    "print(link_genebank)"
   ]
  },
  {
   "cell_type": "code",
   "execution_count": 34,
   "id": "cca38fc3",
   "metadata": {
    "scrolled": true
   },
   "outputs": [
    {
     "name": "stdout",
     "output_type": "stream",
     "text": [
      "['A.thaliana gene (LHCP AB 165) for chlorophyll a/b binding protein']\n",
      "['A.thaliana gene (LHCP AB 165) for chlorophyll a/b binding protein', \"on49g12.s1 NCI_CGAP_Co8 Homo sapiens cDNA clone IMAGE:1560070 3' similar to gb:L06105 FARNESYL-DIPHOSPHATE FARNESYLTRANSFERASE (HUMAN), mRNA sequence\"]\n",
      "['A.thaliana gene (LHCP AB 165) for chlorophyll a/b binding protein', \"on49g12.s1 NCI_CGAP_Co8 Homo sapiens cDNA clone IMAGE:1560070 3' similar to gb:L06105 FARNESYL-DIPHOSPHATE FARNESYLTRANSFERASE (HUMAN), mRNA sequence\", 'Mus musculus strain C57BL/6J']\n",
      "['A.thaliana gene (LHCP AB 165) for chlorophyll a/b binding protein', \"on49g12.s1 NCI_CGAP_Co8 Homo sapiens cDNA clone IMAGE:1560070 3' similar to gb:L06105 FARNESYL-DIPHOSPHATE FARNESYLTRANSFERASE (HUMAN), mRNA sequence\", 'Mus musculus strain C57BL/6J', 'Simian T-cell lymphotropic virus type I p24 protein (gag) gene, partial cds']\n",
      "['A.thaliana gene (LHCP AB 165) for chlorophyll a/b binding protein', \"on49g12.s1 NCI_CGAP_Co8 Homo sapiens cDNA clone IMAGE:1560070 3' similar to gb:L06105 FARNESYL-DIPHOSPHATE FARNESYLTRANSFERASE (HUMAN), mRNA sequence\", 'Mus musculus strain C57BL/6J', 'Simian T-cell lymphotropic virus type I p24 protein (gag) gene, partial cds', 'Mus musculus strain C57BL/6J']\n"
     ]
    }
   ],
   "source": [
    "#Extrair description NCBI:\n",
    "\n",
    "database = 'nucleotide'\n",
    "email= 'rodrigoce9@gmail.com'\n",
    "idlist= n_genes\n",
    "handle = Entrez.efetch(db=database, id=idlist, rettype=\"gb\") \n",
    "records = list(SeqIO.parse(handle,\"gb\"))\n",
    "handle.close()\n",
    "description=[]\n",
    "for info in records:\n",
    "    #print(info.id)\n",
    "    #print(info.description)\n",
    "    description.append(info.description)\n",
    "    print (description)"
   ]
  },
  {
   "cell_type": "code",
   "execution_count": 35,
   "id": "30c6ef8a",
   "metadata": {},
   "outputs": [
    {
     "name": "stdout",
     "output_type": "stream",
     "text": [
      "['Arabidopsis thaliana', 'Homo sapiens', 'Mus musculus', 'Simian T-lymphotropic virus 1', 'Mus musculus']\n"
     ]
    }
   ],
   "source": [
    "#organismos\n",
    "\n",
    "Organismos=[]\n",
    "database = 'nucleotide'\n",
    "email= 'rodrigoce9@gmail.com'\n",
    "idlist= n_genes\n",
    "handle = Entrez.efetch(db=database, id=idlist, rettype=\"gb\") \n",
    "records = list(SeqIO.parse(handle,\"gb\"))\n",
    "handle.close()\n",
    "for info in records:\n",
    "    Organismos.append(info.annotations['organism'])\n",
    "print(Organismos)"
   ]
  },
  {
   "cell_type": "code",
   "execution_count": 50,
   "id": "75783b0b",
   "metadata": {},
   "outputs": [
    {
     "name": "stdout",
     "output_type": "stream",
     "text": [
      "AL329769.1\n",
      "GGGACAGATC ... CCCCANTCTT\n",
      "\n",
      "X61083.1\n",
      "AACTCCTTCC ... GAGGCCGCAA\n",
      "\n",
      "U02356.1\n",
      "CCCCGAGGCC ... GGTTGGAGAC\n",
      "\n",
      "AASW01042081.1\n",
      "ATTTTGTCAT ... GAATCCACCA\n",
      "\n",
      "Y00554.1\n",
      "GTCGACAACG ... CTTGTCGCTT\n",
      "\n",
      "EL279606.1\n",
      "GAAAGGGAAT ... ACAGAAGACA\n",
      "\n",
      "EC941813.1\n",
      "TTGATTTCAT ... GGGTCCCTTG\n",
      "\n",
      "X61884.1\n",
      "GGCGATGTGT ... ACATGTGATG\n",
      "\n",
      "AAADZ0085841.1\n",
      "GGGGTGTGGC ... GTGGATTTGC\n",
      "\n"
     ]
    }
   ],
   "source": [
    "#Biopython\n",
    "database = 'nucleotide'\n",
    "email= 'rodrigoce9@gmail.com'\n",
    "idlist= n_genes\n",
    "handle = Entrez.efetch(db=database, id=idlist, rettype=\"gb\") \n",
    "records = list(SeqIO.parse(handle,\"gb\"))\n",
    "handle.close()\n",
    "seq=[]\n",
    "for info in records:\n",
    "    print(info.id)\n",
    "    print(info.seq[0:10],'...',info.seq[-10:])\n",
    "    print()\n",
    "    seq.append(info.seq[0:10])"
   ]
  },
  {
   "cell_type": "code",
   "execution_count": 36,
   "id": "7c0b83dd",
   "metadata": {},
   "outputs": [
    {
     "name": "stdout",
     "output_type": "stream",
     "text": [
      "[25, 28, 25, 28, 5]\n"
     ]
    }
   ],
   "source": [
    "Adenina=[]\n",
    "database = 'nucleotide'\n",
    "email= 'rodrigoce9@gmail.com'\n",
    "idlist= n_genes\n",
    "handle = Entrez.efetch(db=database, id=idlist, rettype=\"gb\") \n",
    "records = list(SeqIO.parse(handle,\"gb\"))\n",
    "handle.close()\n",
    "seq=[]\n",
    "for info in records:\n",
    "    c=info.seq\n",
    "    count= c.count('A')\n",
    "    perc= int(count/len(c)*100)\n",
    "    Adenina.append(perc)\n",
    "print (Adenina)"
   ]
  },
  {
   "cell_type": "code",
   "execution_count": 37,
   "id": "a110cbb2",
   "metadata": {},
   "outputs": [
    {
     "name": "stdout",
     "output_type": "stream",
     "text": [
      "[24, 21, 30, 30, 30]\n"
     ]
    }
   ],
   "source": [
    "Citosina=[]\n",
    "database = 'nucleotide'\n",
    "email= 'rodrigoce9@gmail.com'\n",
    "idlist= n_genes\n",
    "handle = Entrez.efetch(db=database, id=idlist, rettype=\"gb\") \n",
    "records = list(SeqIO.parse(handle,\"gb\"))\n",
    "handle.close()\n",
    "seq=[]\n",
    "for info in records:\n",
    "    c=info.seq\n",
    "    count= c.count('C')\n",
    "    perc= int(count/len(c)*100)\n",
    "    Citosina.append(perc)\n",
    "print (Citosina)"
   ]
  },
  {
   "cell_type": "code",
   "execution_count": 38,
   "id": "265b7cc5",
   "metadata": {},
   "outputs": [
    {
     "name": "stdout",
     "output_type": "stream",
     "text": [
      "[24, 23, 25, 19, 50]\n"
     ]
    }
   ],
   "source": [
    "Guanina=[]\n",
    "database = 'nucleotide'\n",
    "email= 'rodrigoce9@gmail.com'\n",
    "idlist= n_genes\n",
    "handle = Entrez.efetch(db=database, id=idlist, rettype=\"gb\") \n",
    "records = list(SeqIO.parse(handle,\"gb\"))\n",
    "handle.close()\n",
    "seq=[]\n",
    "for info in records:\n",
    "    c=info.seq\n",
    "    count= c.count('G')\n",
    "    perc= int(count/len(c)*100)\n",
    "    Guanina.append(perc)\n",
    "print (Guanina)"
   ]
  },
  {
   "cell_type": "code",
   "execution_count": 39,
   "id": "6ce5e908",
   "metadata": {},
   "outputs": [
    {
     "name": "stdout",
     "output_type": "stream",
     "text": [
      "[25, 27, 20, 21, 15]\n"
     ]
    }
   ],
   "source": [
    "Timina=[]\n",
    "database = 'nucleotide'\n",
    "email= 'rodrigoce9@gmail.com'\n",
    "idlist= n_genes\n",
    "handle = Entrez.efetch(db=database, id=idlist, rettype=\"gb\") \n",
    "records = list(SeqIO.parse(handle,\"gb\"))\n",
    "handle.close()\n",
    "seq=[]\n",
    "for info in records:\n",
    "    c=info.seq\n",
    "    count= c.count('T')\n",
    "    perc= int(count/len(c)*100)\n",
    "    Timina.append(perc)\n",
    "print (Timina)"
   ]
  },
  {
   "cell_type": "code",
   "execution_count": 40,
   "id": "231bbfe9",
   "metadata": {},
   "outputs": [
    {
     "name": "stdout",
     "output_type": "stream",
     "text": [
      "['20-FEB-1995', '06-JAN-2011', '20-SEP-2005', '13-MAR-1994', '20-SEP-2005']\n"
     ]
    }
   ],
   "source": [
    "data=[]\n",
    "database = 'nucleotide'\n",
    "email= 'rodrigoce9@gmail.com'\n",
    "idlist= n_genes\n",
    "handle = Entrez.efetch(db=database, id=idlist, rettype=\"gb\") \n",
    "records = list(SeqIO.parse(handle,\"gb\"))\n",
    "handle.close()\n",
    "for info in records:\n",
    "    data.append(info.annotations['date'])\n",
    "print(data)"
   ]
  },
  {
   "cell_type": "code",
   "execution_count": 41,
   "id": "45f03635",
   "metadata": {},
   "outputs": [
    {
     "name": "stdout",
     "output_type": "stream",
     "text": [
      "[999, 725, 20, 92, 20]\n"
     ]
    }
   ],
   "source": [
    "database = 'nucleotide'\n",
    "email= 'rodrigoce9@gmail.com'\n",
    "idlist= n_genes\n",
    "handle = Entrez.efetch(db=database, id=idlist, rettype=\"gb\") \n",
    "records = list(SeqIO.parse(handle,\"gb\"))\n",
    "handle.close()\n",
    "tam=[]\n",
    "for info in records:\n",
    "    tam.append(len(info.seq))\n",
    "\n",
    "print(tam)"
   ]
  },
  {
   "cell_type": "code",
   "execution_count": 42,
   "id": "33f5c4ef",
   "metadata": {},
   "outputs": [],
   "source": [
    "#Permitir a povoação em uma coluna de cada vez:\n",
    "\n",
    "import mysql.connector as SQLC\n",
    "import mysql.connector\n",
    "\n",
    "DataBase = SQLC.connect(\n",
    "    host =\"geo.di.uminho.pt\",\n",
    "    user =\"bioinformatica\",\n",
    "    password =\"20221207\",\n",
    "    database =\"AP_db_KRG\"\n",
    ")\n",
    "DataBase.autocommit = True # allows the change be done\n",
    "\n",
    "Cursor = DataBase.cursor()\n",
    "try: \n",
    "    Cursor.execute(\"SET GLOBAL sql_mode = ''\")\n",
    "except mysql.connector.Error as e:\n",
    "    print(\"Erro na escrita na base de dados: {}\".format(e) )    \n",
    "finally:\n",
    "    DataBase.close()"
   ]
  },
  {
   "cell_type": "code",
   "execution_count": 46,
   "id": "be09ac67",
   "metadata": {},
   "outputs": [],
   "source": [
    "#Povoação \"Gene\"\n",
    "\n",
    "import mysql.connector as SQLC\n",
    "import mysql.connector\n",
    "\n",
    "#tab = (\"INSERT INTO Gene (ID_genebank) VALUES ('{}')\".format(value)) # %s overwrites the same value\n",
    "\n",
    "des = (description)\n",
    "DataBase = SQLC.connect(\n",
    "    host =\"geo.di.uminho.pt\",\n",
    "    user =\"bioinformatica\",\n",
    "    password =\"20221207\",\n",
    "    database =\"AP_db_KRG\"\n",
    ")\n",
    "DataBase.autocommit = True # allows the change be done\n",
    "\n",
    "Cursor = DataBase.cursor()\n",
    "try:\n",
    "    for index, value in enumerate(Ids):\n",
    "        #print(value)\n",
    "        #print(des[index])\n",
    "        sql= \"INSERT INTO Gene (ID_genebank, Description, Organism, length, Adenina, Citosina, Guanina, Timina, Link, ID_search) VALUES ( %s, %s, %s, %s, %s, %s, %s, %s, %s, %s)\"\n",
    "        val=(value, des[index], Organismos[index], tam[index], Adenina[index], Citosina[index], Guanina[index], Timina[index], link_genebank[index], Hist)\n",
    "#         print(type(des[index]))\n",
    "        Cursor.execute(sql,val)\n",
    "#         for values in des:\n",
    "#             Cursor.execute(f\"INSERT INTO Gene ( Description)  VALUES ('{values}')\")\n",
    "except mysql.connector.Error as e:\n",
    "    print(\"Erro na escrita na base de dados: {}\".format(e) )    \n",
    "finally:\n",
    "    DataBase.close()"
   ]
  },
  {
   "cell_type": "code",
   "execution_count": 56,
   "id": "cb54c109",
   "metadata": {},
   "outputs": [],
   "source": [
    "# buscar info pubmed\n",
    "\n",
    "import requests\n",
    "content_id = []\n",
    "for url in url_get_id(Ids):\n",
    "    r_id = requests.get(url)\n",
    "    content_id.append(r_id.content)\n",
    "    \n",
    "import requests\n",
    "from bs4 import BeautifulSoup\n",
    "listas=[]\n",
    "# Parsing the HTML\n",
    "for c in content_id:\n",
    "    soup_id = BeautifulSoup(c, 'html.parser')\n",
    "\n",
    "    # Procurar um tag meta com um determinado atributo\n",
    "    lines = soup_id.find_all('meta', {'name':\"ncbi_uidlist\"} )\n",
    "\n",
    "    id = \"\"\n",
    "    url = \"\"\n",
    "    for line in lines:\n",
    "        #print(line)\n",
    "        #if 'name' in line.attrs:\n",
    "        #    print(line.attrs['name'])\n",
    "        if 'content' in line.attrs:\n",
    "            # print(line.attrs['content'])\t\t\n",
    "            id = line.attrs['content']\n",
    "\n",
    "    if id:\n",
    "        url = \"https://www.ncbi.nlm.nih.gov/sviewer/viewer.fcgi?id={}&db=nuccore&report=genbank&conwithfeat=on&hide-cdd=on&retmode=text&maxdownloadsize=5000000\".format(id)\n",
    "\n",
    "    r2 = requests.get(url)\n",
    "    r4= r2.content.decode('utf-8')\n",
    "    #r4= str(r2.content)\n",
    "    listas.append(r4)\n",
    "cc= ', '.join(listas)\n",
    "er= cc.replace('//','')\n",
    "final= er.split(', ')\n",
    "#print (er)\n",
    "\n",
    "output_dict = {}\n",
    "for x in final:\n",
    "    #print (x)\n",
    "    version = re.search(r'VERSION\\s+(.*?)\\s', x)\n",
    "    pubmed = re.search(r'PUBMED\\s+(.*?)\\s', x)\n",
    "    if version:\n",
    "#         print(version.group(1))\n",
    "        versionf=version.group(1)\n",
    "        output_dict.setdefault(version.group(1), [])\n",
    "    if pubmed:\n",
    "#         print(pubmed.group(1))\n",
    "        output_dict[versionf].append(pubmed.group(1))\n",
    "#     else:\n",
    "       # output_dict[version.group(1)].append(\"N/A\")\n",
    "\n",
    "#print(output_dict)\n",
    "\n",
    "id_ncbii = []\n",
    "ID_PUB = []\n",
    "for key, vals in output_dict.items():\n",
    "    if vals:\n",
    "        for val in vals:\n",
    "            id_ncbii.append(key)\n",
    "            ID_PUB.append(val)\n",
    "    else:\n",
    "        id_ncbii.append(key)\n",
    "        ID_PUB.append(\"N/A\")\n",
    "        \n",
    "titles= []\n",
    "authors=[]\n",
    "source=[]\n",
    "affiliation=[]\n",
    "database = 'PubMed'\n",
    "email= 'rodrigoce9@gmail.com'\n",
    "idlist= ID_PUB\n",
    "counter = 0\n",
    "for i in idlist:\n",
    "    if i!= \"N/A\":\n",
    "        handle = Entrez.efetch(db=database, id=i, rettype=\"medline\", retmode=\"text\") \n",
    "        records = Medline.parse(handle)\n",
    "        for info in records:\n",
    "            #print(f'id: {i}')\n",
    "            #print(\"title:\", info.get(\"TI\", \"-\"))\n",
    "            titles.append(info.get(\"TI\", \"-\"))\n",
    "            #print('authors: ', info.get(\"AU\", \"-\"))\n",
    "            authors_string = info.get(\"AU\", \"-\")\n",
    "            if len(authors_string) > 5:\n",
    "                authors_h = authors_string[0:5]\n",
    "                authors.append(authors_h)\n",
    "            else:\n",
    "                authors.append(authors_string) \n",
    "            #print(\"source:\", info.get(\"SO\", \"-\"))\n",
    "            source.append(info.get(\"SO\", \"-\"))\n",
    "            #print(\"affiliation: \", info.get(\"AD\", \"N/A\") ) # FAZER O IF/ELSE PARA O CASO DE NÃO TER AFFILIATION\n",
    "            affiliation_string= info.get(\"AD\", [\"N/A\"])\n",
    "            if len(affiliation_string) > 5:\n",
    "                affiliation_h = affiliation_string[0:5]\n",
    "                affiliation.append(affiliation_h)\n",
    "            else:\n",
    "                affiliation.append(affiliation_string)\n",
    "            #print()\n",
    "            counter += 1\n",
    "    else:\n",
    "        #print(f'id: {i} - N/A')\n",
    "        titles.append(\"N/A\")\n",
    "        authors.append([\"N/A\"])\n",
    "        source.append(\"N/A\")\n",
    "        affiliation.append([\"N/A\"])\n",
    "        #print()\n",
    "        counter += 1\n",
    "        \n",
    "#agrupar titles\n",
    "titles = [ [title] for title in titles]\n",
    "\n",
    "# agrupar dois\n",
    "doi_list = []\n",
    "for x in source:\n",
    "    match = re.search(\"doi: (.*)\", x)\n",
    "    if match:\n",
    "        doi_list.append(match.group(1))\n",
    "    else:\n",
    "        doi_list.append(\"N/A\")\n",
    "        \n",
    "#agrupar authors\n",
    "id_authors_dict = {i: authors[counter] if i != \"N/A\" else [\"N/A\"] for counter, i in enumerate(idlist)}        \n",
    "        \n",
    "pubmed_list = []\n",
    "authors_list = []\n",
    "for key, vals in id_authors_dict.items():\n",
    "    if vals:\n",
    "        for val in vals:\n",
    "            pubmed_list.append(key)\n",
    "            authors_list.append(val)\n",
    "\n",
    "#agrupar affi\n",
    "single_affiliation_list = []\n",
    "for i in affiliation:\n",
    "    single_affiliation_list.extend(i)\n",
    "    \n",
    "\n",
    "id_affiliation_dict = {i: [single_affiliation_list[counter]] if i != \"N/A\" else [\"N/A\"] for counter, i in enumerate(idlist)}\n",
    "\n",
    "pubmed_affi_list = []\n",
    "affi_list = []\n",
    "for key, vals in id_affiliation_dict.items():\n",
    "    if vals:\n",
    "        for val in vals:\n",
    "            pubmed_affi_list.append(key)\n",
    "            affi_list.append(val)\n",
    "    else:\n",
    "        pubmed_affi_list.append(key)\n",
    "        affi_list.append([\"N/A\"])\n",
    "\n",
    "\n",
    "    "
   ]
  },
  {
   "cell_type": "code",
   "execution_count": null,
   "id": "0942443a",
   "metadata": {},
   "outputs": [],
   "source": [
    "#Povoar \"PubMed\"\n",
    "\n",
    "DataBase = SQLC.connect(\n",
    "    host =\"geo.di.uminho.pt\",\n",
    "    user =\"bioinformatica\",\n",
    "    password =\"20221207\",\n",
    "    database =\"AP_db_KRG\"\n",
    ")\n",
    "DataBase.autocommit = True # allows the change be done\n",
    "\n",
    "Cursor = DataBase.cursor()\n",
    "try:\n",
    "    for index, value in enumerate(ID_PUB):\n",
    "        #print(value)\n",
    "        #print(des[index])\n",
    "        sql= \"INSERT INTO PubMed (ID_PumMed, title, Doi_number) VALUES (%s, %s, %s)\"\n",
    "        val=(str(ID_PUB[index]), str(titles[index]), str(doi_list[index]) )\n",
    "#         print(type(des[index]))\n",
    "        Cursor.execute(sql,val)\n",
    "#         for values in des:\n",
    "#             Cursor.execute(f\"INSERT INTO Gene ( Description)  VALUES ('{values}')\")\n",
    "except mysql.connector.Error as e:\n",
    "    print(\"Erro na escrita na base de dados: {}\".format(e) )    \n",
    "finally:\n",
    "    DataBase.close()"
   ]
  },
  {
   "cell_type": "code",
   "execution_count": 31,
   "id": "671d1994",
   "metadata": {},
   "outputs": [
    {
     "name": "stdout",
     "output_type": "stream",
     "text": [
      "['1', '2', '3', '4', '5', '6', '7', '8', '9', '10', '11', '12', '13', '14', '15', '16', '17', '18']\n"
     ]
    }
   ],
   "source": [
    "#retirar os valores AI\n",
    "ID_AI=[]\n",
    "DataBase = SQLC.connect(\n",
    "    host =\"geo.di.uminho.pt\",\n",
    "    user =\"bioinformatica\",\n",
    "    password =\"20221207\",\n",
    "    database =\"AP_db_KRG\"\n",
    ")\n",
    "DataBase.autocommit = True # allows the change be done\n",
    "\n",
    "Cursor = DataBase.cursor()\n",
    "try:\n",
    "    sql= \"Select ID_AI_PubMed FROM PubMed\"\n",
    "    Cursor.execute(sql)\n",
    "    for row in Cursor:\n",
    "        #print(row)\n",
    "        ID_AI.append(str(row))       \n",
    "except mysql.connector.Error as e:\n",
    "    print(\"Erro na escrita na base de dados: {}\".format(e) )    \n",
    "finally:\n",
    "    DataBase.close()\n",
    "    \n",
    "div_= ', '.join(ID_AI)\n",
    "h_= div_.replace(\"(\",'')\n",
    "hh_= h_.replace(\",)\",'')\n",
    "SEARCH_ID_= hh_.split(', ')\n",
    "print(SEARCH_ID_)"
   ]
  },
  {
   "cell_type": "code",
   "execution_count": 49,
   "id": "8d823660",
   "metadata": {},
   "outputs": [],
   "source": [
    "#Povação \"Gene-Pubmed\"\n",
    "DataBase = SQLC.connect(\n",
    "    host =\"geo.di.uminho.pt\",\n",
    "    user =\"bioinformatica\",\n",
    "    password =\"20221207\",\n",
    "    database =\"AP_db_KRG\"\n",
    ")\n",
    "DataBase.autocommit = True # allows the change be done\n",
    "\n",
    "Cursor = DataBase.cursor()\n",
    "try:\n",
    "    for index, value in enumerate(id_ncbii):\n",
    "        \n",
    "        sql= \"INSERT INTO gene_PubMed (ID_genebank, ID_AI_PubMed) VALUES (%s, %s)\"\n",
    "        val=(id_ncbii[index], SEARCH_ID_[index])\n",
    "    \n",
    "        Cursor.execute(sql,val)\n",
    "\n",
    "except mysql.connector.Error as e:\n",
    "    print(\"Erro na escrita na base de dados: {}\".format(e) )    \n",
    "finally:\n",
    "    DataBase.close()"
   ]
  },
  {
   "cell_type": "code",
   "execution_count": 18,
   "id": "3b51048f",
   "metadata": {},
   "outputs": [],
   "source": [
    "#Povação \"authors\"\n",
    "DataBase = SQLC.connect(\n",
    "    host =\"geo.di.uminho.pt\",\n",
    "    user =\"bioinformatica\",\n",
    "    password =\"20221207\",\n",
    "    database =\"AP_db_KRG\"\n",
    ")\n",
    "DataBase.autocommit = True # allows the change be done\n",
    "\n",
    "Cursor = DataBase.cursor()\n",
    "try:\n",
    "    for index, value in enumerate(authors_list):\n",
    "        \n",
    "        sql= \"INSERT INTO Authors (Name) VALUES (%s)\"\n",
    "        val=(authors_list[index],)\n",
    "    \n",
    "        Cursor.execute(sql,val)\n",
    "\n",
    "except mysql.connector.Error as e:\n",
    "    print(\"Erro na escrita na base de dados: {}\".format(e) )    \n",
    "finally:\n",
    "    DataBase.close()"
   ]
  },
  {
   "cell_type": "code",
   "execution_count": 19,
   "id": "a75c59a8",
   "metadata": {},
   "outputs": [
    {
     "name": "stdout",
     "output_type": "stream",
     "text": [
      "['1', '2', '3', '4', '5', '6', '7', '8', '9', '10', '11', '12', '13', '14', '15', '16', '17', '18', '19', '20', '21', '22', '23', '24', '25', '26', '27', '28', '29', '30', '31', '32', '33', '34']\n"
     ]
    }
   ],
   "source": [
    "#retirar os valores AI de authors\n",
    "ID_AI_Authors=[]\n",
    "DataBase = SQLC.connect(\n",
    "    host =\"geo.di.uminho.pt\",\n",
    "    user =\"bioinformatica\",\n",
    "    password =\"20221207\",\n",
    "    database =\"AP_db_KRG\"\n",
    ")\n",
    "DataBase.autocommit = True # allows the change be done\n",
    "\n",
    "Cursor = DataBase.cursor()\n",
    "try:\n",
    "    sql= \"Select ID_Authors FROM Authors\"\n",
    "    Cursor.execute(sql)\n",
    "    for row in Cursor:\n",
    "        #print(row)\n",
    "        ID_AI_Authors.append(str(row))       \n",
    "except mysql.connector.Error as e:\n",
    "    print(\"Erro na escrita na base de dados: {}\".format(e) )    \n",
    "finally:\n",
    "    DataBase.close()\n",
    "    \n",
    "div_Authors= ', '.join(ID_AI_Authors)\n",
    "h_Authors= div_Authors.replace(\"(\",'')\n",
    "hh_Authors= h_Authors.replace(\",)\",'')\n",
    "SEARCH_ID_Authors= hh_Authors.split(', ')\n",
    "print(SEARCH_ID_Authors)"
   ]
  },
  {
   "cell_type": "code",
   "execution_count": 30,
   "id": "440e5e3b",
   "metadata": {},
   "outputs": [
    {
     "name": "stdout",
     "output_type": "stream",
     "text": [
      "Erro na escrita na base de dados: 1452 (23000): Cannot add or update a child row: a foreign key constraint fails (`AP_db_KRG`.`PubMed_Authors`, CONSTRAINT `authors` FOREIGN KEY (`ID_Authors`) REFERENCES `Authors` (`ID_Authors`) ON DELETE NO ACTION ON UPDATE NO ACTION)\n"
     ]
    }
   ],
   "source": [
    "#Povação \"Pubmed-Authors\"\n",
    "DataBase = SQLC.connect(\n",
    "    host =\"geo.di.uminho.pt\",\n",
    "    user =\"bioinformatica\",\n",
    "    password =\"20221207\",\n",
    "    database =\"AP_db_KRG\"\n",
    ")\n",
    "DataBase.autocommit = True # allows the change be done\n",
    "\n",
    "Cursor = DataBase.cursor()\n",
    "try:\n",
    "    for index, value in enumerate(SEARCH_ID_Authors):\n",
    "        \n",
    "        sql= \"INSERT INTO PubMed_Authors (ID_AI_PubMed, ID_Authors) VALUES (%s, %s)\"\n",
    "        val=(str(SEARCH_ID_[index]),str(SEARCH_ID_Authors))\n",
    "    \n",
    "        Cursor.execute(sql,val)\n",
    "\n",
    "except mysql.connector.Error as e:\n",
    "    print(\"Erro na escrita na base de dados: {}\".format(e) )    \n",
    "finally:\n",
    "    DataBase.close()"
   ]
  },
  {
   "cell_type": "code",
   "execution_count": 58,
   "id": "bfcde1af",
   "metadata": {},
   "outputs": [],
   "source": [
    "#Povação \"affi\"\n",
    "DataBase = SQLC.connect(\n",
    "    host =\"geo.di.uminho.pt\",\n",
    "    user =\"bioinformatica\",\n",
    "    password =\"20221207\",\n",
    "    database =\"AP_db_KRG\"\n",
    ")\n",
    "DataBase.autocommit = True # allows the change be done\n",
    "\n",
    "Cursor = DataBase.cursor()\n",
    "try:\n",
    "    for index, value in enumerate(affi_list):\n",
    "        \n",
    "        sql= \"INSERT INTO Affiliation (Info) VALUES (%s)\"\n",
    "        val=(affi_list[index],)\n",
    "    \n",
    "        Cursor.execute(sql,val)\n",
    "\n",
    "except mysql.connector.Error as e:\n",
    "    print(\"Erro na escrita na base de dados: {}\".format(e) )    \n",
    "finally:\n",
    "    DataBase.close()"
   ]
  },
  {
   "cell_type": "code",
   "execution_count": null,
   "id": "374a9861",
   "metadata": {},
   "outputs": [],
   "source": [
    "#Vizualizar tabela History:Erro na escrita na base de dados: 1062 (23000): Duplicate entry '0' for key 'PRIMARY'\n",
    "\n",
    "\n",
    "import pandas as pd \n",
    "\n",
    "DataBase = SQLC.connect(\n",
    "    host =\"geo.di.uminho.pt\",\n",
    "    user =\"bioinformatica\",\n",
    "    password =\"20221207\",\n",
    "    database =\"AP_db_KRG\"\n",
    ")\n",
    "\n",
    "####### end of connection ####\n",
    "tabela = pd.read_sql(\"Select * FROM Gene\", DataBase)\n",
    "DataBase.close()\n",
    "print(tabela)"
   ]
  },
  {
   "cell_type": "code",
   "execution_count": null,
   "id": "7e5b4943",
   "metadata": {},
   "outputs": [],
   "source": []
  },
  {
   "cell_type": "code",
   "execution_count": null,
   "id": "d24d1f64",
   "metadata": {},
   "outputs": [],
   "source": []
  }
 ],
 "metadata": {
  "kernelspec": {
   "display_name": "Python 3 (ipykernel)",
   "language": "python",
   "name": "python3"
  },
  "language_info": {
   "codemirror_mode": {
    "name": "ipython",
    "version": 3
   },
   "file_extension": ".py",
   "mimetype": "text/x-python",
   "name": "python",
   "nbconvert_exporter": "python",
   "pygments_lexer": "ipython3",
   "version": "3.9.12"
  }
 },
 "nbformat": 4,
 "nbformat_minor": 5
}
