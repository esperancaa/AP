{
 "cells": [
  {
   "cell_type": "code",
   "execution_count": 3,
   "id": "4081dcf8",
   "metadata": {},
   "outputs": [],
   "source": [
    "from Bio.Blast import NCBIXML \n",
    "from Bio.Blast import NCBIWWW\n",
    "import requests, sys, json\n",
    "import re\n",
    "from Bio import SeqIO\n",
    "from Bio import Entrez\n",
    "from Bio import Medline\n",
    "import pandas as pd\n",
    "import numpy as np\n",
    "from tqdm import tqdm\n",
    "from Bio import SearchIO\n",
    "from Bio.SwissProt import KeyWList\n",
    "from Bio import SwissProt\n",
    "from Bio import ExPASy\n",
    "from Bio.SeqRecord import SeqRecord\n",
    "from Bio.Align import MultipleSeqAlignment\n",
    "from Bio.Seq import Seq\n",
    "from Bio import AlignIO\n",
    "from Bio.Align import AlignInfo\n",
    "from Bio.SeqFeature import SeqFeature, FeatureLocation\n",
    "from Bio.Phylo.TreeConstruction import DistanceCalculator\n",
    "from Bio.Phylo.TreeConstruction import DistanceTreeConstructor\n",
    "from Bio import Phylo\n",
    "import mysql.connector as SQLC\n",
    "import mysql.connector"
   ]
  },
  {
   "cell_type": "markdown",
   "id": "433fac86",
   "metadata": {},
   "source": [
    "### Testes:"
   ]
  },
  {
   "cell_type": "code",
   "execution_count": null,
   "id": "7f6b9e5e",
   "metadata": {},
   "outputs": [],
   "source": [
    "import mysql.connector as SQLC\n",
    "\n",
    "DataBase = SQLC.connect(\n",
    "    host =\"geo.di.uminho.pt\",\n",
    "    user =\"bioinformatica\",\n",
    "    password =\"20221207\",\n",
    "    database =\"AP_db_KRG\"\n",
    ")\n",
    "\n",
    "Cursor = DataBase.cursor()\n",
    "\n",
    "Cursor.execute(\"CREATE TABLE genbank (cds varchar(300)\")\n",
    "print(\"Tabela criada\")  "
   ]
  },
  {
   "cell_type": "code",
   "execution_count": null,
   "id": "42223416",
   "metadata": {},
   "outputs": [],
   "source": [
    "database = 'nucleotide'\n",
    "word = 'GLI2 '\n",
    "res= input()\n",
    "email= 'rodrigoce9@gmail.com'\n",
    "Entrez.email= email\n",
    "handle_search=Entrez.esearch(db = database, term=word, retmax= res)\n",
    "record=Entrez.read(handle_search)\n",
    "handle_search.close()\n",
    "idlist= record['IdList']\n",
    "\n",
    "#Ids= []\n",
    "#Pubmed=[]\n",
    "handle = Entrez.efetch(db=database, id=idlist, rettype=\"gb\") \n",
    "records = list(SeqIO.parse(handle,\"gb\"))\n",
    "handle.close()\n",
    "featcds = [ ]\n",
    "for info in records:\n",
    "    a= info.id\n",
    "    Ids.append(a)\n",
    "    for i in range(len(info.features)):\n",
    "        if info.features[i].type == \"CDS\":\n",
    "            featcds.append(i)  #this is appending the index of where CDS is, not the quantity of the CDS\n",
    "            CDS=(str(i))\n",
    "            A= len(CDS)\n",
    "            featcds.append(A)\n",
    "            print (len(CDS))"
   ]
  },
  {
   "cell_type": "code",
   "execution_count": null,
   "id": "35f58a63",
   "metadata": {
    "scrolled": true
   },
   "outputs": [],
   "source": [
    "import mysql.connector as SQLC\n",
    "import mysql.connector\n",
    "\n",
    "database = 'nucleotide'\n",
    "word = 'GLI2 '\n",
    "res= input()\n",
    "email= 'rodrigoce9@gmail.com'\n",
    "Entrez.email= email\n",
    "handle_search=Entrez.esearch(db = database, term=word, retmax= res)\n",
    "record=Entrez.read(handle_search)\n",
    "handle_search.close()\n",
    "idlist= record['IdList']\n",
    "\n",
    "Ids= []\n",
    "#Pubmed=[]\n",
    "handle = Entrez.efetch(db=database, id=idlist, rettype=\"gb\") \n",
    "records = list(SeqIO.parse(handle,\"gb\"))\n",
    "handle.close()\n",
    "featcds = [ ]\n",
    "for info in records:\n",
    "    a= info.id\n",
    "    Ids.append(a)\n",
    "    for i in range(len(info.features)):\n",
    "        if info.features[i].type == \"CDS\":\n",
    "            featcds.append(i)\n",
    "            CDS=(str(i))\n",
    "            A= len(CDS)\n",
    "            B= str(A)\n",
    "#             print (len(CDS))\n",
    "print (featcds)\n",
    "tab = (\"INSERT INTO genbank (cds) VALUES ('{}')\".format(value)) # %s overwrites the same value\n",
    "    \n",
    "# val = (featcds)\n",
    "# tab = ('''INSERT INTO genbank (cds) VALUES (%s)''', (val))\n",
    "#sql= tab + val\n",
    "\n",
    "\n",
    "DataBase = SQLC.connect(\n",
    "    host =\"geo.di.uminho.pt\",\n",
    "    user =\"bioinformatica\",\n",
    "    password =\"20221207\",\n",
    "    database =\"AP_db_KRG\"\n",
    ")\n",
    "DataBase.autocommit = True # allows the change be done\n",
    "\n",
    "Cursor = DataBase.cursor()\n",
    "try:\n",
    "    for value in val:#instead of using loop we can use Cursor.executemany(tab, val)\n",
    "        Cursor.execute(tab)\n",
    "except mysql.connector.Error as e:\n",
    "    print(\"Erro na escrita na base de dados: {}\".format(e) )    \n",
    "finally:\n",
    "    DataBase.close()"
   ]
  },
  {
   "cell_type": "code",
   "execution_count": null,
   "id": "d4c7907c",
   "metadata": {},
   "outputs": [],
   "source": [
    "for value in val:#instead of using loop we can use Cursor.executemany(tab, val)\n",
    "    tab = (\"INSERT INTO genbank (cds) VALUES ('{}')\".format(value)) # %s overwrites the same value\n",
    "    "
   ]
  },
  {
   "cell_type": "markdown",
   "id": "c9ddb00a",
   "metadata": {},
   "source": [
    "### Start povoation:"
   ]
  },
  {
   "cell_type": "markdown",
   "id": "ffc92a33",
   "metadata": {},
   "source": [
    "### Extração de Ids:"
   ]
  },
  {
   "cell_type": "code",
   "execution_count": 1,
   "id": "7e6cca28",
   "metadata": {},
   "outputs": [
    {
     "name": "stdout",
     "output_type": "stream",
     "text": [
      "escolha o que quer pesquisar: virus\n",
      "escolha o nº de genes que quer obter (máximo 20): 3\n",
      "['3123', '57506', '3725']\n"
     ]
    }
   ],
   "source": [
    "import time\n",
    "query= input('escolha o que quer pesquisar: ')\n",
    "def url_get(i):\n",
    "    url_list= [ ]\n",
    "    url = \"https://www.ncbi.nlm.nih.gov/gene/?term={}\".format( query )\n",
    "    url_list.append(url)\n",
    "    return url_list\n",
    "url_get(1)\n",
    "\n",
    "import requests, sys, json\n",
    "content = []\n",
    "for url in url_get(1):\n",
    "    r = requests.get(url)\n",
    "    content.append(r.content)\n",
    "#print(content)\n",
    "\n",
    "import requests\n",
    "from bs4 import BeautifulSoup\n",
    "\n",
    "# Parsing the HTML\n",
    "for c in content:\n",
    "    soup = BeautifulSoup(c, 'html.parser')\n",
    "    a= soup.get_text()\n",
    "    \n",
    "import re\n",
    "existe = re.findall(r\"ID:\\s+\\d*(?=\\D)\", a, re.DOTALL)\n",
    "\n",
    "c= ', '.join(existe)\n",
    "h= c.replace('ID: ','')\n",
    "IDS= h.split(', ')\n",
    "\n",
    "n_genes= IDS[0:int(input('escolha o nº de genes que quer obter (máximo 20): '))]\n",
    "print(n_genes)\n",
    "\n"
   ]
  },
  {
   "cell_type": "code",
   "execution_count": 6,
   "id": "653959df",
   "metadata": {},
   "outputs": [],
   "source": [
    "Ids=[]\n",
    "database = 'nucleotide'\n",
    "email= 'rodrigoce9@gmail.com'\n",
    "idlist= n_genes\n",
    "handle = Entrez.efetch(db=database, id=idlist, rettype=\"gb\") \n",
    "records = list(SeqIO.parse(handle,\"gb\"))\n",
    "handle.close()\n",
    "for info in records:\n",
    "    Ids.append(info.id)\n",
    "    #print(info.id)"
   ]
  },
  {
   "cell_type": "code",
   "execution_count": 5,
   "id": "cca38fc3",
   "metadata": {
    "scrolled": true
   },
   "outputs": [
    {
     "name": "stdout",
     "output_type": "stream",
     "text": [
      "['Yeast gene encoding glyceraldehyde-3-phosphate dehydrogenase (clone pgap11)']\n"
     ]
    }
   ],
   "source": [
    "database = 'nucleotide'\n",
    "email= 'rodrigoce9@gmail.com'\n",
    "idlist= n_genes\n",
    "handle = Entrez.efetch(db=database, id=idlist, rettype=\"gb\") \n",
    "records = list(SeqIO.parse(handle,\"gb\"))\n",
    "handle.close()\n",
    "description=[]\n",
    "for info in records:\n",
    "    #print(info.id)\n",
    "    #print(info.description)\n",
    "    description.append(info.description)\n",
    "    print (description)"
   ]
  },
  {
   "cell_type": "code",
   "execution_count": 8,
   "id": "33f5c4ef",
   "metadata": {},
   "outputs": [],
   "source": [
    "import mysql.connector as SQLC\n",
    "import mysql.connector\n",
    "\n",
    "DataBase = SQLC.connect(\n",
    "    host =\"geo.di.uminho.pt\",\n",
    "    user =\"bioinformatica\",\n",
    "    password =\"20221207\",\n",
    "    database =\"AP_db_KRG\"\n",
    ")\n",
    "DataBase.autocommit = True # allows the change be done\n",
    "\n",
    "Cursor = DataBase.cursor()\n",
    "try: \n",
    "    Cursor.execute(\"SET GLOBAL sql_mode = ''\")\n",
    "except mysql.connector.Error as e:\n",
    "    print(\"Erro na escrita na base de dados: {}\".format(e) )    \n",
    "finally:\n",
    "    DataBase.close()"
   ]
  },
  {
   "cell_type": "code",
   "execution_count": null,
   "id": "7b1115ea",
   "metadata": {},
   "outputs": [],
   "source": [
    "import mysql.connector as SQLC\n",
    "import mysql.connector\n",
    "\n",
    "#tab = (\"INSERT INTO Gene (ID_genebank) VALUES ('{}')\".format(value)) # %s overwrites the same value\n",
    "val = (IDS)\n",
    "    \n",
    "DataBase = SQLC.connect(\n",
    "    host =\"geo.di.uminho.pt\",\n",
    "    user =\"bioinformatica\",\n",
    "    password =\"20221207\",\n",
    "    database =\"AP_db_KRG\"\n",
    ")\n",
    "DataBase.autocommit = True # allows the change be done\n",
    "\n",
    "Cursor = DataBase.cursor()\n",
    "try:\n",
    "    for value in val:\n",
    "        Cursor.execute(\"INSERT INTO Gene (ID_genebank) VALUES ('{}')\".format(value))\n",
    "except mysql.connector.Error as e:\n",
    "    print(\"Erro na escrita na base de dados: {}\".format(e) )    \n",
    "finally:\n",
    "    DataBase.close()\n",
    "    "
   ]
  },
  {
   "cell_type": "code",
   "execution_count": 25,
   "id": "07ce87d7",
   "metadata": {},
   "outputs": [
    {
     "name": "stdout",
     "output_type": "stream",
     "text": [
      "Erro na escrita na base de dados: 1062 (23000): Duplicate entry '0' for key 'PRIMARY'\n"
     ]
    }
   ],
   "source": [
    "import mysql.connector as SQLC\n",
    "import mysql.connector\n",
    "\n",
    "#tab = (\"INSERT INTO Gene (ID_genebank) VALUES ('{}')\".format(value)) # %s overwrites the same value\n",
    "des = (description)\n",
    "\n",
    "DataBase = SQLC.connect(\n",
    "    host =\"geo.di.uminho.pt\",\n",
    "    user =\"bioinformatica\",\n",
    "    password =\"20221207\",\n",
    "    database =\"AP_db_KRG\"\n",
    ")\n",
    "DataBase.autocommit = True # allows the change be done\n",
    "\n",
    "Cursor = DataBase.cursor()\n",
    "try:\n",
    "    for value in n_genes:\n",
    "        Cursor.execute(f\"INSERT INTO Gene (ID_genebank)  VALUES ('{value}')\")\n",
    "        for values in des:\n",
    "            Cursor.execute(f\"INSERT INTO Gene ( Description)  VALUES ('{values}')\")\n",
    "except mysql.connector.Error as e:\n",
    "    print(\"Erro na escrita na base de dados: {}\".format(e) )    \n",
    "finally:\n",
    "    DataBase.close()"
   ]
  },
  {
   "cell_type": "code",
   "execution_count": null,
   "id": "374a9861",
   "metadata": {},
   "outputs": [],
   "source": [
    "import mysql.connector\n",
    "import pandas as pd \n",
    "DataBase = SQLC.connect(\n",
    "    host =\"geo.di.uminho.pt\",\n",
    "    user =\"bioinformatica\",\n",
    "    password =\"20221207\",\n",
    "    database =\"AP_db_KRG\"\n",
    ")\n",
    "####### end of connection ####\n",
    "tabela = pd.read_sql(\"SELECT locusid, length(dnasequence) as comprimento FROM genbank\",my_conn)"
   ]
  },
  {
   "cell_type": "code",
   "execution_count": null,
   "id": "2ff9b3a6",
   "metadata": {},
   "outputs": [],
   "source": []
  }
 ],
 "metadata": {
  "kernelspec": {
   "display_name": "Python 3 (ipykernel)",
   "language": "python",
   "name": "python3"
  },
  "language_info": {
   "codemirror_mode": {
    "name": "ipython",
    "version": 3
   },
   "file_extension": ".py",
   "mimetype": "text/x-python",
   "name": "python",
   "nbconvert_exporter": "python",
   "pygments_lexer": "ipython3",
   "version": "3.9.12"
  }
 },
 "nbformat": 4,
 "nbformat_minor": 5
}
