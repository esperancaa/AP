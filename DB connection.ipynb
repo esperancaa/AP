{
 "cells": [
  {
   "cell_type": "code",
   "execution_count": null,
   "id": "e11a9789",
   "metadata": {},
   "outputs": [],
   "source": [
    "import re\n",
    "import mysql.connector as SQLC\n",
    "\n",
    "fonte = open(\"L42022.1.gb\",'r')\n",
    "# fonte = open(\"L42023.1.gb\",'r')\n",
    "locus = fonte.read()\n",
    "fonte.close()\n",
    "\n",
    "id = \"\"\n",
    "i = re.match(r'LOCUS\\s+(\\w+)', locus)\n",
    "if i:\n",
    "    id = i.group(1)\n",
    "organism = \"\"\n",
    "o = re.search(r'SOURCE\\s+.+', locus)\n",
    "if o:\n",
    "    s = re.match(r'SOURCE\\s+(.+)', o[0] )\n",
    "    if s:\n",
    "        organism = s.group(1)\n",
    "sequencia = \"\"\n",
    "existe = re.findall(r'^\\s+\\d+ [actg ]+', locus, re.MULTILINE )\n",
    "if existe:\n",
    "    for linha in existe:\n",
    "        m = re.match( r'\\s+\\d+ (.+)', linha, re.DOTALL )\n",
    "        # print( m.group(1) )\n",
    "        # print( re.sub(r'\\s+', '', m.group(1) ) ) \n",
    "        sequencia = sequencia + re.sub(r'\\s+', '', m.group(1) )\n",
    "print ( id, organism, sequencia )\n",
    "\n",
    "DataBase = SQLC.connect(\n",
    "    host =\"geo.di.uminho.pt\",\n",
    "    user =\"bioinformatica\",\n",
    "    password =\"20221207\",\n",
    "    database =\"AP_db_KRG\"\n",
    ")\n",
    "Cursor = DataBase.cursor()\n",
    "\n",
    "sql = \"INSERT INTO genbank (locusid, dnasource, dnasequence) VALUES (%s, %s, %s)\"\n",
    "val = (id, organism, sequencia)\n",
    "Cursor.execute(sql, val)\n",
    "\n",
    "DataBase.commit()\n",
    "\n",
    "print(Cursor.rowcount, \"record inserted.\")"
   ]
  },
  {
   "cell_type": "code",
   "execution_count": null,
   "id": "27563c07",
   "metadata": {},
   "outputs": [],
   "source": [
    "import mysql.connector\n",
    "import pandas as pd \n",
    "my_conn = mysql.connector.connect(\n",
    "    host =\"geo.di.uminho.pt\",\n",
    "    user =\"bioinformatica\",\n",
    "    password =\"20221207\",\n",
    "    database =\"AP_db_KRG\"\n",
    "    )\n",
    "####### end of connection ####\n",
    "tabela = pd.read_sql(\"SELECT locusid, length(dnasequence) as comprimento FROM genbank\",my_conn)"
   ]
  }
 ],
 "metadata": {
  "kernelspec": {
   "display_name": "Python 3 (ipykernel)",
   "language": "python",
   "name": "python3"
  },
  "language_info": {
   "codemirror_mode": {
    "name": "ipython",
    "version": 3
   },
   "file_extension": ".py",
   "mimetype": "text/x-python",
   "name": "python",
   "nbconvert_exporter": "python",
   "pygments_lexer": "ipython3",
   "version": "3.9.12"
  }
 },
 "nbformat": 4,
 "nbformat_minor": 5
}
