{
 "cells": [
  {
   "cell_type": "markdown",
   "metadata": {},
   "source": [
    "### web scraping (só pelo o id)"
   ]
  },
  {
   "cell_type": "code",
   "execution_count": 22,
   "metadata": {},
   "outputs": [],
   "source": [
    "from Bio.Blast import NCBIXML \n",
    "from Bio.Blast import NCBIWWW\n",
    "import requests, sys, json\n",
    "import re\n",
    "from Bio import SeqIO\n",
    "from Bio import Entrez\n",
    "from Bio import Medline\n",
    "import pandas as pd\n",
    "import numpy as np\n",
    "from tqdm import tqdm\n",
    "from Bio import SearchIO\n",
    "from Bio.SwissProt import KeyWList\n",
    "from Bio import SwissProt\n",
    "from Bio import ExPASy\n",
    "from Bio.SeqRecord import SeqRecord\n",
    "from Bio.Align import MultipleSeqAlignment\n",
    "from Bio.Seq import Seq\n",
    "from Bio import AlignIO\n",
    "from Bio.Align import AlignInfo\n",
    "from Bio.SeqFeature import SeqFeature, FeatureLocation\n",
    "from Bio.Phylo.TreeConstruction import DistanceCalculator\n",
    "from Bio.Phylo.TreeConstruction import DistanceTreeConstructor\n",
    "from Bio import Phylo"
   ]
  },
  {
   "cell_type": "code",
   "execution_count": null,
   "metadata": {},
   "outputs": [],
   "source": [
    "import time\n",
    "def url_get(i):\n",
    "    url_list= [ ]\n",
    "    for id in range(243,(243+i)):\n",
    "        url = \"https://www.ncbi.nlm.nih.gov/nuccore/NG_009{}\".format( id )\n",
    "        url_list.append(url)\n",
    "    return url_list\n",
    "url_get(4)"
   ]
  },
  {
   "cell_type": "code",
   "execution_count": null,
   "metadata": {},
   "outputs": [],
   "source": [
    "import requests\n",
    "\n",
    "content = []\n",
    "for url in url_get(4):\n",
    "    r = requests.get(url)\n",
    "    content.append(r.content)\n",
    "print(content)"
   ]
  },
  {
   "cell_type": "code",
   "execution_count": null,
   "metadata": {
    "scrolled": false
   },
   "outputs": [],
   "source": [
    "import requests\n",
    "from bs4 import BeautifulSoup\n",
    "\n",
    "# Parsing the HTML\n",
    "for c in content:\n",
    "    soup = BeautifulSoup(c, 'html.parser')\n",
    "\n",
    "    # Procurar um tag meta com um determinado atributo\n",
    "    lines = soup.find_all('meta', {'name':\"ncbi_uidlist\"} )\n",
    "\n",
    "    id = \"\"\n",
    "    url = \"\"\n",
    "    for line in lines:\n",
    "        print(line)\n",
    "        if 'name' in line.attrs:\n",
    "            print(line.attrs['name'])\n",
    "        if 'content' in line.attrs:\n",
    "            print(line.attrs['content'])\t\t\n",
    "            id = line.attrs['content']\n",
    "    if id:\n",
    "        url = \"https://www.ncbi.nlm.nih.gov/sviewer/viewer.fcgi?id={}&db=nuccore&report=genbank&conwithfeat=on&hide-cdd=on&retmode=text&maxdownloadsize=5000000\".format(id)\n",
    "\n",
    "    #r2 = requests.get( url )\n",
    "    \n",
    "    #r3= str(r2.content)\n",
    "    #print (r3, '\\n')"
   ]
  },
  {
   "cell_type": "code",
   "execution_count": null,
   "metadata": {},
   "outputs": [],
   "source": [
    "#import re\n",
    "#existe = re.findall(r\"ORGANISM\\s+.*?(?=bp)\", r3, re.DOTALL)\n",
    "#if existe:\n",
    "    #for definition in existe:\n",
    "        #m = re.match( r\"ORGANISM\\s+(.+)\", definition, re.DOTALL )\n",
    "        #print( re.sub(r'\\s+', ' ', m.group(1) ) )"
   ]
  },
  {
   "cell_type": "markdown",
   "metadata": {},
   "source": [
    "### web scraping (por condição)"
   ]
  },
  {
   "cell_type": "code",
   "execution_count": 44,
   "metadata": {},
   "outputs": [
    {
     "name": "stdout",
     "output_type": "stream",
     "text": [
      "escolha o que quer pesquisar: yeast\n"
     ]
    },
    {
     "data": {
      "text/plain": [
       "['https://www.ncbi.nlm.nih.gov/gene/?term=yeast']"
      ]
     },
     "execution_count": 44,
     "metadata": {},
     "output_type": "execute_result"
    }
   ],
   "source": [
    "import time\n",
    "query= input('escolha o que quer pesquisar: ')\n",
    "def url_get(i):\n",
    "    url_list= [ ]\n",
    "    url = \"https://www.ncbi.nlm.nih.gov/gene/?term={}\".format( query )\n",
    "    url_list.append(url)\n",
    "    return url_list\n",
    "url_get(1)"
   ]
  },
  {
   "cell_type": "code",
   "execution_count": 45,
   "metadata": {},
   "outputs": [],
   "source": [
    "import requests, sys, json\n",
    "content = []\n",
    "for url in url_get(1):\n",
    "    r = requests.get(url)\n",
    "    content.append(r.content)\n",
    "#print(content)"
   ]
  },
  {
   "cell_type": "code",
   "execution_count": 46,
   "metadata": {
    "scrolled": false
   },
   "outputs": [],
   "source": [
    "import requests\n",
    "from bs4 import BeautifulSoup\n",
    "\n",
    "# Parsing the HTML\n",
    "for c in content:\n",
    "    soup = BeautifulSoup(c, 'html.parser')\n",
    "    a= soup.get_text()\n",
    "    "
   ]
  },
  {
   "cell_type": "code",
   "execution_count": 47,
   "metadata": {},
   "outputs": [],
   "source": [
    "import re\n",
    "existe = re.findall(r\"ID:\\s+\\d*(?=\\D)\", a, re.DOTALL)\n",
    "#existe\n",
    "#if existe:\n",
    "    #for definition in existe:\n",
    "        #m = re.match( r\"ID:\\s+(.+)\", definition, re.DOTALL )\n",
    "        #print( re.sub(r'\\s+', ' ', m.group(1) ) )\n"
   ]
  },
  {
   "cell_type": "code",
   "execution_count": 48,
   "metadata": {},
   "outputs": [],
   "source": [
    "c= ', '.join(existe)\n",
    "h= c.replace('ID: ','')\n",
    "IDS= h.split(', ')\n",
    "#IDS"
   ]
  },
  {
   "cell_type": "code",
   "execution_count": 67,
   "metadata": {},
   "outputs": [
    {
     "name": "stdout",
     "output_type": "stream",
     "text": [
      "escolha o nº de genes que quer obter (máximo 20): 20\n",
      "['424122', '29789', '26245415', '20918', '24563533', '39874648', '4839978', '42049400', '42048491', '36516274', '35606568', '35598500', '24564880', '24564814', '13446414', '5477914', '65082716', '109860985', '8047674', '4292']\n"
     ]
    }
   ],
   "source": [
    "n_genes= IDS[0:int(input('escolha o nº de genes que quer obter (máximo 20): '))]\n",
    "print(n_genes)"
   ]
  },
  {
   "cell_type": "markdown",
   "metadata": {},
   "source": [
    "### Buscar Links dos genes:"
   ]
  },
  {
   "cell_type": "code",
   "execution_count": 59,
   "metadata": {},
   "outputs": [
    {
     "data": {
      "text/plain": [
       "['https://www.ncbi.nlm.nih.gov/nuccore/424122',\n",
       " 'https://www.ncbi.nlm.nih.gov/nuccore/29789']"
      ]
     },
     "execution_count": 59,
     "metadata": {},
     "output_type": "execute_result"
    }
   ],
   "source": [
    "import time\n",
    "def url_get_id(i):\n",
    "    url_list= [ ]\n",
    "    for id in n_genes:\n",
    "        url = \"https://www.ncbi.nlm.nih.gov/nuccore/{}\".format( id )\n",
    "        url_list.append(url)\n",
    "    return url_list\n",
    "url_get_id(n_genes)"
   ]
  },
  {
   "cell_type": "code",
   "execution_count": null,
   "metadata": {},
   "outputs": [],
   "source": [
    "import requests\n",
    "\n",
    "content_id = []\n",
    "for url in url_get_id(len(IDS)):\n",
    "    r = requests.get(url)\n",
    "    content_id.append(r.content)\n",
    "#print(content_id)"
   ]
  },
  {
   "cell_type": "code",
   "execution_count": null,
   "metadata": {
    "scrolled": false
   },
   "outputs": [],
   "source": [
    "import requests\n",
    "from bs4 import BeautifulSoup\n",
    "\n",
    "# Parsing the HTML\n",
    "for c in content_id:\n",
    "    soup_id = BeautifulSoup(c, 'html.parser')\n",
    "\n",
    "    # Procurar um tag meta com um determinado atributo\n",
    "    lines_id = soup_id.find_all('meta', {'name':\"ncbi_uidlist\"} )\n",
    "\n",
    "    id_id = \"\"\n",
    "    url = \"\"\n",
    "    for line in lines_id:\n",
    "        print(line)\n",
    "        if 'name' in line.attrs:\n",
    "            print(line.attrs['name'])\n",
    "        if 'content' in line.attrs:\n",
    "            print(line.attrs['content'])\t\t\n",
    "            id_id = line.attrs['content']\n",
    "    if id:\n",
    "        url = \"https://www.ncbi.nlm.nih.gov/sviewer/viewer.fcgi?id={}&db=nuccore&report=genbank&conwithfeat=on&hide-cdd=on&retmode=text&maxdownloadsize=5000000\".format(id_id)\n",
    "\n",
    "    r2 = requests.get( url )\n",
    "    r3= str(r2.content)\n",
    "    print (r3, '\\n')"
   ]
  },
  {
   "cell_type": "code",
   "execution_count": null,
   "metadata": {},
   "outputs": [],
   "source": [
    "IDS"
   ]
  },
  {
   "cell_type": "markdown",
   "metadata": {},
   "source": [
    "### Buscar ids:"
   ]
  },
  {
   "cell_type": "code",
   "execution_count": 60,
   "metadata": {},
   "outputs": [
    {
     "name": "stdout",
     "output_type": "stream",
     "text": [
      "U02075\n",
      "X07874.2\n"
     ]
    }
   ],
   "source": [
    "Ids=[]\n",
    "database = 'nucleotide'\n",
    "email= 'rodrigoce9@gmail.com'\n",
    "idlist= n_genes\n",
    "handle = Entrez.efetch(db=database, id=idlist, rettype=\"gb\") \n",
    "records = list(SeqIO.parse(handle,\"gb\"))\n",
    "handle.close()\n",
    "for info in records:\n",
    "    Ids.append(info.id)\n",
    "    print(info.id)"
   ]
  },
  {
   "cell_type": "markdown",
   "metadata": {},
   "source": [
    "### Buscar quantidade de cds e a sua localização:"
   ]
  },
  {
   "cell_type": "code",
   "execution_count": 52,
   "metadata": {},
   "outputs": [
    {
     "name": "stdout",
     "output_type": "stream",
     "text": [
      "U02075\n",
      "X07874.2\n",
      "AY158036.1\n",
      "BW173609.1\n"
     ]
    }
   ],
   "source": [
    "Ids=[]\n",
    "database = 'nucleotide'\n",
    "email= 'rodrigoce9@gmail.com'\n",
    "idlist= n_genes\n",
    "handle = Entrez.efetch(db=database, id=idlist, rettype=\"gb\") \n",
    "records = list(SeqIO.parse(handle,\"gb\"))\n",
    "handle.close()\n",
    "featcds = [ ]\n",
    "position=0\n",
    "pos=[]\n",
    "for info in records:\n",
    "    print(info.id)\n",
    "    for i in range(len(info.features)):\n",
    "        if info.features[i].type == \"CDS\":\n",
    "            featcds.append(i)\n",
    "            cds= i\n",
    "            a= str(cds)\n",
    "            print (len(a))\n",
    "            position=i\n",
    "            pos.append(info.features[position].location)\n",
    "            print (pos)"
   ]
  },
  {
   "cell_type": "markdown",
   "metadata": {},
   "source": [
    "### Buscar quantidade de cds e a sua localização:"
   ]
  },
  {
   "cell_type": "code",
   "execution_count": 61,
   "metadata": {},
   "outputs": [
    {
     "name": "stdout",
     "output_type": "stream",
     "text": [
      "U02075\n",
      "GGATCCTGCCAGTAGTCATATGCTTGTCTCAAAGACTAAGCCATGCATGT ... GAACCTGCAG\n",
      "\n",
      "X07874.2\n",
      "TATTGAGGTTTTGTTGTTGCAGATGAGGAGCTGGAGACAAGAGCCCACAG ... GCTCATTGTG\n",
      "\n"
     ]
    }
   ],
   "source": [
    "Ids=[]\n",
    "database = 'nucleotide'\n",
    "email= 'rodrigoce9@gmail.com'\n",
    "idlist= n_genes\n",
    "handle = Entrez.efetch(db=database, id=idlist, rettype=\"gb\") \n",
    "records = list(SeqIO.parse(handle,\"gb\"))\n",
    "handle.close()\n",
    "seq=[]\n",
    "for info in records:\n",
    "    print(info.id)\n",
    "    print(info.seq[0:50],'...',info.seq[-10:])\n",
    "    print()\n",
    "    seq.append(f'{info.seq[0:50]}...{info.seq[-10:]}')\n",
    "    "
   ]
  },
  {
   "cell_type": "markdown",
   "metadata": {},
   "source": [
    "### Buscar gene description:"
   ]
  },
  {
   "cell_type": "code",
   "execution_count": 62,
   "metadata": {},
   "outputs": [
    {
     "name": "stdout",
     "output_type": "stream",
     "text": [
      "U02075\n",
      "Chlorarachnion sp. 1 CCMP 1408 clones pF58 and pF59 18S rRNA small subunit\n",
      "X07874.2\n",
      "Human CD2 gene exon 5 and 3'-flanking region\n"
     ]
    }
   ],
   "source": [
    "Ids=[]\n",
    "database = 'nucleotide'\n",
    "email= 'rodrigoce9@gmail.com'\n",
    "idlist= n_genes\n",
    "handle = Entrez.efetch(db=database, id=idlist, rettype=\"gb\") \n",
    "records = list(SeqIO.parse(handle,\"gb\"))\n",
    "handle.close()\n",
    "description=[]\n",
    "for info in records:\n",
    "    print(info.id)\n",
    "    print(info.description)\n",
    "    description.append(info.description)"
   ]
  },
  {
   "cell_type": "markdown",
   "metadata": {},
   "source": [
    "### Buscar artigos:"
   ]
  },
  {
   "cell_type": "code",
   "execution_count": 75,
   "metadata": {},
   "outputs": [
    {
     "name": "stdout",
     "output_type": "stream",
     "text": [
      "title: Postpartum septicemia due to group G streptococci.\n",
      "authors:  ['Filker RS', 'Monif GR']\n",
      "source: Obstet Gynecol. 1979 Mar;53(3 Suppl):28S-30S.\n",
      "affiliation:  -\n",
      "\n",
      "title: PMS photo-inhibition in Rhodospirillum rubrum membranes in the presence of permeant entities affecting either the deltapsi or the deltapH components of the protonmotive force.\n",
      "authors:  ['Kerber NL', 'Pucheu NL', 'Garcia AF']\n",
      "source: FEBS Lett. 1978 Oct 15;94(2):265-8. doi: 10.1016/0014-5793(78)80952-1.\n",
      "affiliation:  -\n",
      "\n",
      "title: An examination of the factors fueling migration amongst Community Service practitioners.\n",
      "authors:  ['Reardon C', 'George G']\n",
      "source: Afr J Prim Health Care Fam Med. 2014 Nov 7;6(1):E1-9. doi: 10.4102/phcfm.v6i1.625.\n",
      "affiliation:  ['Health Economics and HIV and AIDS Research Division (HEARD), University of KwaZulu-Natal. georgeg@ukzn.ac.za.']\n",
      "\n",
      "title: Clobazam, a 1,5-benzodiazepine, and car-driving ability.\n",
      "authors:  ['Hindmarch I', 'Hanks GW', 'Hewett AJ']\n",
      "source: Br J Clin Pharmacol. 1977 Oct;4(5):573-8. doi: 10.1111/j.1365-2125.1977.tb00788.x.\n",
      "affiliation:  -\n",
      "\n",
      "title: Elution profile analysis of SDS-induced subcomplexes by quantitative mass spectrometry.\n",
      "authors:  ['Texier Y', 'Toedt G', 'Gorza M', 'Mans DA', 'van Reeuwijk J', 'Horn N', 'Willer J', 'Katsanis N', 'Roepman R', 'Gibson TJ', 'Ueffing M', 'Boldt K']\n",
      "source: Mol Cell Proteomics. 2014 May;13(5):1382-91. doi: 10.1074/mcp.O113.033233. Epub 2014 Feb 21.\n",
      "affiliation:  ['Division of Experimental Ophthalmology and Medical Proteome Center, Centre for Ophthalmology, University of Tubingen, 72076 Tubingen, Germany;']\n",
      "\n",
      "title: [Myxedematous coma and dilutional hyponatremia].\n",
      "authors:  ['Valiquette G', 'Pesant P', 'Matte R']\n",
      "source: Union Med Can. 1974 Jun;103(6):1082-90.\n",
      "affiliation:  -\n",
      "\n",
      "title: Untethered unidirectionally crawling gels driven by asymmetry in contact forces.\n",
      "authors:  ['Pantula A', 'Datta B', 'Shi Y', 'Wang M', 'Liu J', 'Deng S', 'Cowan NJ', 'Nguyen TD', 'Gracias DH']\n",
      "source: Sci Robot. 2022 Dec 21;7(73):eadd2903. doi: 10.1126/scirobotics.add2903. Epub 2022 Dec 14.\n",
      "affiliation:  ['Department of Chemical and Biomolecular Engineering, Johns Hopkins University, Baltimore, MD 21218, USA.', 'Department of Mechanical Engineering, Johns Hopkins University, Baltimore, MD 21218, USA.', 'Department of Mechanical Engineering, Johns Hopkins University, Baltimore, MD 21218, USA.', 'Department of Chemical and Biomolecular Engineering, Johns Hopkins University, Baltimore, MD 21218, USA.', 'Department of Mechanical Engineering, Johns Hopkins University, Baltimore, MD 21218, USA.', 'Department of Mechanical Engineering, Johns Hopkins University, Baltimore, MD 21218, USA.', 'Laboratory for Computational Sensing and Robotics (LCSR), Johns Hopkins University, Baltimore, MD 21218, USA.', 'Department of Mechanical Engineering, Johns Hopkins University, Baltimore, MD 21218, USA.', 'Laboratory for Computational Sensing and Robotics (LCSR), Johns Hopkins University, Baltimore, MD 21218, USA.', 'Department of Mechanical Engineering, Johns Hopkins University, Baltimore, MD 21218, USA.', 'Hopkins Extreme Materials Institute (HEMI), Johns Hopkins University, Baltimore, MD 21218, USA.', 'Department of Materials Science and Engineering, Johns Hopkins University, Baltimore, MD 21218, USA.', 'Department of Chemical and Biomolecular Engineering, Johns Hopkins University, Baltimore, MD 21218, USA.', 'Laboratory for Computational Sensing and Robotics (LCSR), Johns Hopkins University, Baltimore, MD 21218, USA.', 'Department of Materials Science and Engineering, Johns Hopkins University, Baltimore, MD 21218, USA.', 'Department of Chemistry, Johns Hopkins University, Baltimore, MD 21218, USA.', 'Department of Oncology, Johns Hopkins School of Medicine, Baltimore, MD 21205, USA.', 'Sidney Kimmel Comprehensive Cancer Center (SKCCC), Johns Hopkins School of Medicine, Baltimore, MD 21205, USA.', 'Center for MicroPhysiological Systems (MPS), Johns Hopkins School of Medicine, Baltimore, MD 21205, USA.']\n",
      "\n",
      "title: How does the Nature of an Excipient and an Atheroma Influence Drug-Coated Balloon Therapy?\n",
      "authors:  ['Anbalakan K', 'Toh HW', 'Ang HY', 'Buist ML', 'Leo HL']\n",
      "source: Cardiovasc Eng Technol. 2022 Dec;13(6):915-929. doi: 10.1007/s13239-022-00626-2. Epub 2022 May 23.\n",
      "affiliation:  ['Department of Biomedical Engineering, National University of Singapore, Singapore, 117576, Singapore. E0011515@u.nus.edu.', 'National Heart Research Institute Singapore, National Heart Center Singapore, Singapore, 169609, Singapore.', 'Department of Biomedical Engineering, National University of Singapore, Singapore, 117576, Singapore.', 'National Heart Research Institute Singapore, National Heart Center Singapore, Singapore, 169609, Singapore.', 'Department of Cardiovascular & Metabolic Disorders, Duke-NUS Medical School, Singapore, 169857, Singapore.', 'Department of Biomedical Engineering, National University of Singapore, Singapore, 117576, Singapore. biebml@nus.edu.sg.', 'Department of Biomedical Engineering, National University of Singapore, Singapore, 117576, Singapore. bielhl@nus.edu.sg.']\n",
      "\n",
      "title: Electrochemiluminescence within veterinary Science: A review.\n",
      "authors:  ['Brown K', 'Blake RS', 'Dennany L']\n",
      "source: Bioelectrochemistry. 2022 Aug;146:108156. doi: 10.1016/j.bioelechem.2022.108156. Epub 2022 May 12.\n",
      "affiliation:  ['WestCHEM Department of Pure and Applied Chemistry, University of Strathclyde, Technology & Innovation Centre, 99 George Street, Glasgow G1 1RD, UK.', 'WestCHEM Department of Pure and Applied Chemistry, University of Strathclyde, Technology & Innovation Centre, 99 George Street, Glasgow G1 1RD, UK.', 'WestCHEM Department of Pure and Applied Chemistry, University of Strathclyde, Technology & Innovation Centre, 99 George Street, Glasgow G1 1RD, UK. Electronic address: lynn.dennany@strath.ac.uk.']\n",
      "\n",
      "title: Plastic and elastic strain fields in GaAs/Si core-shell nanowires.\n",
      "authors:  ['Conesa-Boj S', 'Boioli F', 'Russo-Averchi E', 'Dunand S', 'Heiss M', 'Ruffer D', 'Wyrsch N', 'Ballif C', 'Miglio L', 'Fontcuberta i Morral A']\n",
      "source: Nano Lett. 2014;14(4):1859-64. doi: 10.1021/nl4046312. Epub 2014 Mar 6.\n",
      "affiliation:  ['Laboratoire des Materiaux Semiconducteurs (LMSC)and double daggerInstitute of Microengineering (IMT), Photovoltaics and Thin Film Electronics Laboratory, Ecole Polytechnique Federale de Lausanne (EPFL) , 1015 Lausanne, Switzerland.']\n",
      "\n",
      "title: The dynamics of functional classes of plant genes in rediploidized ancient polyploids.\n",
      "authors:  ['Chen EC', 'Buen Abad Najar C', 'Zheng C', 'Brandts A', 'Lyons E', 'Tang H', 'Carretero-Paulet L', 'Albert VA', 'Sankoff D']\n",
      "source: BMC Bioinformatics. 2013;14 Suppl 15(Suppl 15):S19. doi: 10.1186/1471-2105-14-S15-S19. Epub 2013 Oct 15.\n",
      "affiliation:  -\n",
      "\n",
      "title: Cough fracture of the ribs.\n",
      "authors:  ['PEARSON JE']\n",
      "source: Br J Tuberc Dis Chest. 1957 Jul;51(3):251-4. doi: 10.1016/s0366-0869(57)80082-3.\n",
      "affiliation:  -\n",
      "\n",
      "title: Food additives.\n",
      "authors:  ['Chapman DG']\n",
      "source: Can J Public Health. 1970 Sep-Oct;61(5):391-5.\n",
      "affiliation:  -\n",
      "\n",
      "title: Electromagnetic radiation--parameters for risk assessment.\n",
      "authors:  ['Israel MS']\n",
      "source: Rev Environ Health. 1994 Apr-Jun;10(2):85-93. doi: 10.1515/reveh.1994.10.2.85.\n",
      "affiliation:  ['National Center of Hygiene, Medical Ecology and Nutrition, Sofia, Bulgaria.']\n",
      "\n",
      "title: [Age-related changes in the content and characteristics of glycosaminoglycans in human aortas].\n",
      "authors:  ['Antov G']\n",
      "source: Eksp Med Morfol. 1975;14(3):151-5.\n",
      "affiliation:  -\n",
      "\n"
     ]
    }
   ],
   "source": [
    "Ids=[]\n",
    "database = 'PubMed'\n",
    "email= 'rodrigoce9@gmail.com'\n",
    "idlist= n_genes\n",
    "handle = Entrez.efetch(db=database, id=idlist, rettype=\"medline\", retmode=\"text\") \n",
    "records = Medline.parse(handle)\n",
    "description=[]\n",
    "for info in records:\n",
    "    print(\"title:\", info.get(\"TI\", \"-\"))\n",
    "    print('authors: ', info.get(\"AU\", \"-\"))\n",
    "    print(\"source:\", info.get(\"SO\", \"-\"))\n",
    "    print(\"affiliation: \", info.get(\"AD\", \"-\") ) # FAZER O IF/ELSE PARA O CASO DE NÃO TER AFFILIATION\n",
    "    print()"
   ]
  },
  {
   "cell_type": "code",
   "execution_count": null,
   "metadata": {},
   "outputs": [],
   "source": []
  }
 ],
 "metadata": {
  "authors": [
   {
    "name": "Jorge Gustavo Rocha"
   }
  ],
  "kernelspec": {
   "display_name": "Python 3 (ipykernel)",
   "language": "python",
   "name": "python3"
  },
  "language_info": {
   "codemirror_mode": {
    "name": "ipython",
    "version": 3
   },
   "file_extension": ".py",
   "mimetype": "text/x-python",
   "name": "python",
   "nbconvert_exporter": "python",
   "pygments_lexer": "ipython3",
   "version": "3.9.12"
  },
  "vscode": {
   "interpreter": {
    "hash": "916dbcbb3f70747c44a77c7bcd40155683ae19c65e1c03b4aa3499c5328201f1"
   }
  }
 },
 "nbformat": 4,
 "nbformat_minor": 2
}
