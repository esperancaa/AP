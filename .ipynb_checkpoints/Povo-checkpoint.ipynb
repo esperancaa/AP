{
 "cells": [
  {
   "cell_type": "code",
   "execution_count": 61,
   "id": "4081dcf8",
   "metadata": {},
   "outputs": [],
   "source": [
    "from Bio.Blast import NCBIXML \n",
    "from Bio.Blast import NCBIWWW\n",
    "import requests, sys, json\n",
    "import re\n",
    "from Bio import SeqIO\n",
    "from Bio import Entrez\n",
    "from Bio import Medline\n",
    "import pandas as pd\n",
    "import numpy as np\n",
    "from tqdm import tqdm\n",
    "from Bio import SearchIO\n",
    "from Bio.SwissProt import KeyWList\n",
    "from Bio import SwissProt\n",
    "from Bio import ExPASy\n",
    "from Bio.SeqRecord import SeqRecord\n",
    "from Bio.Align import MultipleSeqAlignment\n",
    "from Bio.Seq import Seq\n",
    "from Bio import AlignIO\n",
    "from Bio.Align import AlignInfo\n",
    "from Bio.SeqFeature import SeqFeature, FeatureLocation\n",
    "from Bio.Phylo.TreeConstruction import DistanceCalculator\n",
    "from Bio.Phylo.TreeConstruction import DistanceTreeConstructor\n",
    "from Bio import Phylo\n",
    "import mysql.connector as SQLC\n",
    "import mysql.connector"
   ]
  },
  {
   "cell_type": "code",
   "execution_count": 67,
   "id": "7f6b9e5e",
   "metadata": {},
   "outputs": [
    {
     "name": "stdout",
     "output_type": "stream",
     "text": [
      "Tabela criada\n"
     ]
    }
   ],
   "source": [
    "import mysql.connector as SQLC\n",
    "\n",
    "DataBase = SQLC.connect(\n",
    "    host =\"geo.di.uminho.pt\",\n",
    "    user =\"bioinformatica\",\n",
    "    password =\"20221207\",\n",
    "    database =\"AP_db_KRG\"\n",
    ")\n",
    "\n",
    "Cursor = DataBase.cursor()\n",
    "\n",
    "Cursor.execute(\"CREATE TABLE genbank (cds varchar(300)\")\n",
    "print(\"Tabela criada\")  "
   ]
  },
  {
   "cell_type": "code",
   "execution_count": 56,
   "id": "42223416",
   "metadata": {},
   "outputs": [
    {
     "name": "stdout",
     "output_type": "stream",
     "text": [
      "1\n"
     ]
    }
   ],
   "source": [
    "database = 'nucleotide'\n",
    "word = 'GLI2 '\n",
    "res= input()\n",
    "email= 'rodrigoce9@gmail.com'\n",
    "Entrez.email= email\n",
    "handle_search=Entrez.esearch(db = database, term=word, retmax= res)\n",
    "record=Entrez.read(handle_search)\n",
    "handle_search.close()\n",
    "idlist= record['IdList']\n",
    "\n",
    "#Ids= []\n",
    "#Pubmed=[]\n",
    "handle = Entrez.efetch(db=database, id=idlist, rettype=\"gb\") \n",
    "records = list(SeqIO.parse(handle,\"gb\"))\n",
    "handle.close()\n",
    "featcds = [ ]\n",
    "for info in records:\n",
    "    a= info.id\n",
    "    Ids.append(a)\n",
    "    for i in range(len(info.features)):\n",
    "        if info.features[i].type == \"CDS\":\n",
    "            featcds.append(i)\n",
    "            CDS=(str(i))\n",
    "            A= len(CDS)\n",
    "            featcds.append(A)\n",
    "            print (len(CDS))"
   ]
  },
  {
   "cell_type": "code",
   "execution_count": 72,
   "id": "35f58a63",
   "metadata": {
    "scrolled": true
   },
   "outputs": [
    {
     "name": "stdout",
     "output_type": "stream",
     "text": [
      "2\n",
      "1\n",
      "1\n",
      "Erro na escrita na base de dados: 2055: Lost connection to MySQL server at 'geo.di.uminho.pt:3306', system error: Connection not available.\n"
     ]
    }
   ],
   "source": [
    "import mysql.connector as SQLC\n",
    "import mysql.connector\n",
    "\n",
    "database = 'nucleotide'\n",
    "word = 'GLI2 '\n",
    "res= input()\n",
    "email= 'rodrigoce9@gmail.com'\n",
    "Entrez.email= email\n",
    "handle_search=Entrez.esearch(db = database, term=word, retmax= res)\n",
    "record=Entrez.read(handle_search)\n",
    "handle_search.close()\n",
    "idlist= record['IdList']\n",
    "\n",
    "Ids= []\n",
    "#Pubmed=[]\n",
    "handle = Entrez.efetch(db=database, id=idlist, rettype=\"gb\") \n",
    "records = list(SeqIO.parse(handle,\"gb\"))\n",
    "handle.close()\n",
    "featcds = [ ]\n",
    "for info in records:\n",
    "    a= info.id\n",
    "    Ids.append(a)\n",
    "    for i in range(len(info.features)):\n",
    "        if info.features[i].type == \"CDS\":\n",
    "            featcds.append(i)\n",
    "            CDS=(str(i))\n",
    "            A= len(CDS)\n",
    "            B= str(A)\n",
    "            print (len(CDS))\n",
    "#print (len(featcds))\n",
    "\n",
    "\n",
    "tab = ('''INSERT INTO genbank (cds) VALUES (%s)''', (val))\n",
    "val = (featcds)\n",
    "#sql= tab + val\n",
    "\n",
    "DataBase = SQLC.connect(\n",
    "    host =\"geo.di.uminho.pt\",\n",
    "    user =\"bioinformatica\",\n",
    "    password =\"20221207\",\n",
    "    database =\"AP_db_KRG\"\n",
    ")\n",
    "DataBase.autocommit = True\n",
    "\n",
    "Cursor = DataBase.cursor()\n",
    "try:\n",
    "    Cursor.execute(tab)\n",
    "except mysql.connector.Error as e:\n",
    "    print(\"Erro na escrita na base de dados: {}\".format(e) )    \n",
    "finally:\n",
    "    DataBase.close()"
   ]
  },
  {
   "cell_type": "code",
   "execution_count": null,
   "id": "374a9861",
   "metadata": {},
   "outputs": [],
   "source": [
    "import mysql.connector\n",
    "import pandas as pd \n",
    "DataBase = SQLC.connect(\n",
    "    host =\"geo.di.uminho.pt\",\n",
    "    user =\"bioinformatica\",\n",
    "    password =\"20221207\",\n",
    "    database =\"AP_db_KRG\"\n",
    ")\n",
    "####### end of connection ####\n",
    "tabela = pd.read_sql(\"SELECT locusid, length(dnasequence) as comprimento FROM genbank\",my_conn)"
   ]
  },
  {
   "cell_type": "code",
   "execution_count": null,
   "id": "2ff9b3a6",
   "metadata": {},
   "outputs": [],
   "source": []
  }
 ],
 "metadata": {
  "kernelspec": {
   "display_name": "Python 3 (ipykernel)",
   "language": "python",
   "name": "python3"
  },
  "language_info": {
   "codemirror_mode": {
    "name": "ipython",
    "version": 3
   },
   "file_extension": ".py",
   "mimetype": "text/x-python",
   "name": "python",
   "nbconvert_exporter": "python",
   "pygments_lexer": "ipython3",
   "version": "3.9.12"
  }
 },
 "nbformat": 4,
 "nbformat_minor": 5
}
