{
 "cells": [
  {
   "cell_type": "code",
   "execution_count": 2,
   "id": "4081dcf8",
   "metadata": {},
   "outputs": [],
   "source": [
    "from Bio.Blast import NCBIXML \n",
    "from Bio.Blast import NCBIWWW\n",
    "import requests, sys, json\n",
    "import re\n",
    "from Bio import SeqIO\n",
    "from Bio import Entrez\n",
    "from Bio import Medline\n",
    "import pandas as pd\n",
    "import numpy as np\n",
    "from tqdm import tqdm\n",
    "from Bio import SearchIO\n",
    "from Bio.SwissProt import KeyWList\n",
    "from Bio import SwissProt\n",
    "from Bio import ExPASy\n",
    "from Bio.SeqRecord import SeqRecord\n",
    "from Bio.Align import MultipleSeqAlignment\n",
    "from Bio.Seq import Seq\n",
    "from Bio import AlignIO\n",
    "from Bio.Align import AlignInfo\n",
    "from Bio.SeqFeature import SeqFeature, FeatureLocation\n",
    "from Bio.Phylo.TreeConstruction import DistanceCalculator\n",
    "from Bio.Phylo.TreeConstruction import DistanceTreeConstructor\n",
    "from Bio import Phylo\n",
    "import mysql.connector as SQLC\n",
    "import mysql.connector"
   ]
  },
  {
   "cell_type": "markdown",
   "id": "c9ddb00a",
   "metadata": {},
   "source": [
    "### Start povoation:"
   ]
  },
  {
   "cell_type": "code",
   "execution_count": 3,
   "id": "7e6cca28",
   "metadata": {},
   "outputs": [
    {
     "name": "stdout",
     "output_type": "stream",
     "text": [
      "escolha o que quer pesquisar: irs\n",
      "escolha o nº de genes que quer obter (máximo 20): 15\n",
      "['8223391', '64880', '3376', '45785', '408438', '111506503', '39258', '125265521', '110376740', '25467', '10458', '55023', '100890677', '399388', '112802']\n"
     ]
    }
   ],
   "source": [
    "#Extrair ids:\n",
    "\n",
    "import time\n",
    "query= input('escolha o que quer pesquisar: ')\n",
    "def url_get(i):\n",
    "    url_list= [ ]\n",
    "    url = \"https://www.ncbi.nlm.nih.gov/gene/?term={}\".format( query )\n",
    "    url_list.append(url)\n",
    "    return url_list\n",
    "url_get(1)\n",
    "\n",
    "import requests, sys, json\n",
    "content = []\n",
    "for url in url_get(1):\n",
    "    r = requests.get(url)\n",
    "    content.append(r.content)\n",
    "#print(content)\n",
    "\n",
    "import requests\n",
    "from bs4 import BeautifulSoup\n",
    "\n",
    "# Parsing the HTML\n",
    "for c in content:\n",
    "    soup = BeautifulSoup(c, 'html.parser')\n",
    "    a= soup.get_text()\n",
    "    \n",
    "import re\n",
    "existe = re.findall(r\"ID:\\s+\\d*(?=\\D)\", a, re.DOTALL)\n",
    "\n",
    "c= ', '.join(existe)\n",
    "h= c.replace('ID: ','')\n",
    "IDS= h.split(', ')\n",
    "\n",
    "n_genes= IDS[0:int(input('escolha o nº de genes que quer obter (máximo 20): '))]\n",
    "print(n_genes)\n",
    "\n"
   ]
  },
  {
   "cell_type": "code",
   "execution_count": 6,
   "id": "653959df",
   "metadata": {},
   "outputs": [
    {
     "name": "stdout",
     "output_type": "stream",
     "text": [
      "['AL329769.1', 'X61083.1', 'U02356.1', 'AASW01042081.1', 'Y00554.1', 'EL279606.1', 'EC941813.1', 'X61884.1', 'AAADZ0085841.1']\n"
     ]
    }
   ],
   "source": [
    "#Extrair ids NCBI:\n",
    "\n",
    "Ids=[]\n",
    "database = 'nucleotide'\n",
    "email= 'rodrigoce9@gmail.com'\n",
    "idlist= n_genes\n",
    "handle = Entrez.efetch(db=database, id=idlist, rettype=\"gb\") \n",
    "records = list(SeqIO.parse(handle,\"gb\"))\n",
    "handle.close()\n",
    "for info in records:\n",
    "    Ids.append(info.id)\n",
    "    #print(info.id)\n",
    "print (Ids)"
   ]
  },
  {
   "cell_type": "code",
   "execution_count": 5,
   "id": "cca38fc3",
   "metadata": {
    "scrolled": true
   },
   "outputs": [
    {
     "name": "stdout",
     "output_type": "stream",
     "text": [
      "['Tetraodon nigroviridis genome survey sequence T3 end of clone 012H02 of library C from Tetraodon nigroviridis, genomic survey sequence']\n",
      "['Tetraodon nigroviridis genome survey sequence T3 end of clone 012H02 of library C from Tetraodon nigroviridis, genomic survey sequence', 'R.meliloti plasmid derived nodL gene for prabable acetyltransferase']\n",
      "['Tetraodon nigroviridis genome survey sequence T3 end of clone 012H02 of library C from Tetraodon nigroviridis, genomic survey sequence', 'R.meliloti plasmid derived nodL gene for prabable acetyltransferase', 'Profundulus guatemalensis tyrosine kinase (X-src) gene, partial cds']\n",
      "['Tetraodon nigroviridis genome survey sequence T3 end of clone 012H02 of library C from Tetraodon nigroviridis, genomic survey sequence', 'R.meliloti plasmid derived nodL gene for prabable acetyltransferase', 'Profundulus guatemalensis tyrosine kinase (X-src) gene, partial cds', 'Drosophila simulans strain SIM6 Cont6415.2, whole genome shotgun sequence']\n",
      "['Tetraodon nigroviridis genome survey sequence T3 end of clone 012H02 of library C from Tetraodon nigroviridis, genomic survey sequence', 'R.meliloti plasmid derived nodL gene for prabable acetyltransferase', 'Profundulus guatemalensis tyrosine kinase (X-src) gene, partial cds', 'Drosophila simulans strain SIM6 Cont6415.2, whole genome shotgun sequence', 'Azotobacter vinelandii nifA gene for NifA protein (positive regulatory element)']\n",
      "['Tetraodon nigroviridis genome survey sequence T3 end of clone 012H02 of library C from Tetraodon nigroviridis, genomic survey sequence', 'R.meliloti plasmid derived nodL gene for prabable acetyltransferase', 'Profundulus guatemalensis tyrosine kinase (X-src) gene, partial cds', 'Drosophila simulans strain SIM6 Cont6415.2, whole genome shotgun sequence', 'Azotobacter vinelandii nifA gene for NifA protein (positive regulatory element)', 'EB3RODY02FZZLR 8-day Arabidopsis seedlings, aerial tissues Arabidopsis thaliana cDNA, mRNA sequence']\n",
      "['Tetraodon nigroviridis genome survey sequence T3 end of clone 012H02 of library C from Tetraodon nigroviridis, genomic survey sequence', 'R.meliloti plasmid derived nodL gene for prabable acetyltransferase', 'Profundulus guatemalensis tyrosine kinase (X-src) gene, partial cds', 'Drosophila simulans strain SIM6 Cont6415.2, whole genome shotgun sequence', 'Azotobacter vinelandii nifA gene for NifA protein (positive regulatory element)', 'EB3RODY02FZZLR 8-day Arabidopsis seedlings, aerial tissues Arabidopsis thaliana cDNA, mRNA sequence', \"WIN0523.C21_N01 Cab Sauv flower, leaf and root normalized (WIN05) Vitis vinifera cDNA clone WIN0523_N01 3', mRNA sequence\"]\n",
      "['Tetraodon nigroviridis genome survey sequence T3 end of clone 012H02 of library C from Tetraodon nigroviridis, genomic survey sequence', 'R.meliloti plasmid derived nodL gene for prabable acetyltransferase', 'Profundulus guatemalensis tyrosine kinase (X-src) gene, partial cds', 'Drosophila simulans strain SIM6 Cont6415.2, whole genome shotgun sequence', 'Azotobacter vinelandii nifA gene for NifA protein (positive regulatory element)', 'EB3RODY02FZZLR 8-day Arabidopsis seedlings, aerial tissues Arabidopsis thaliana cDNA, mRNA sequence', \"WIN0523.C21_N01 Cab Sauv flower, leaf and root normalized (WIN05) Vitis vinifera cDNA clone WIN0523_N01 3', mRNA sequence\", 'MUSTSG82X Lambda uni-ZAP II Mus musculus cDNA clone Tsg82x, mRNA sequence']\n",
      "['Tetraodon nigroviridis genome survey sequence T3 end of clone 012H02 of library C from Tetraodon nigroviridis, genomic survey sequence', 'R.meliloti plasmid derived nodL gene for prabable acetyltransferase', 'Profundulus guatemalensis tyrosine kinase (X-src) gene, partial cds', 'Drosophila simulans strain SIM6 Cont6415.2, whole genome shotgun sequence', 'Azotobacter vinelandii nifA gene for NifA protein (positive regulatory element)', 'EB3RODY02FZZLR 8-day Arabidopsis seedlings, aerial tissues Arabidopsis thaliana cDNA, mRNA sequence', \"WIN0523.C21_N01 Cab Sauv flower, leaf and root normalized (WIN05) Vitis vinifera cDNA clone WIN0523_N01 3', mRNA sequence\", 'MUSTSG82X Lambda uni-ZAP II Mus musculus cDNA clone Tsg82x, mRNA sequence', 'Mus musculus strain DDY']\n"
     ]
    }
   ],
   "source": [
    "#Extrair description NCBI:\n",
    "\n",
    "database = 'nucleotide'\n",
    "email= 'rodrigoce9@gmail.com'\n",
    "idlist= n_genes\n",
    "handle = Entrez.efetch(db=database, id=idlist, rettype=\"gb\") \n",
    "records = list(SeqIO.parse(handle,\"gb\"))\n",
    "handle.close()\n",
    "description=[]\n",
    "for info in records:\n",
    "    #print(info.id)\n",
    "    #print(info.description)\n",
    "    description.append(info.description)\n",
    "    print (description)"
   ]
  },
  {
   "cell_type": "code",
   "execution_count": 7,
   "id": "30c6ef8a",
   "metadata": {},
   "outputs": [
    {
     "name": "stdout",
     "output_type": "stream",
     "text": [
      "['Tetraodon nigroviridis', 'Sinorhizobium meliloti', 'Profundulus guatemalensis', 'Drosophila simulans', 'Azotobacter vinelandii', 'Arabidopsis thaliana', 'Vitis vinifera', 'Mus musculus', 'Mus musculus']\n"
     ]
    }
   ],
   "source": [
    "#organismos\n",
    "\n",
    "Organismos=[]\n",
    "database = 'nucleotide'\n",
    "email= 'rodrigoce9@gmail.com'\n",
    "idlist= n_genes\n",
    "handle = Entrez.efetch(db=database, id=idlist, rettype=\"gb\") \n",
    "records = list(SeqIO.parse(handle,\"gb\"))\n",
    "handle.close()\n",
    "for info in records:\n",
    "    Organismos.append(info.annotations['organism'])\n",
    "print(Organismos)"
   ]
  },
  {
   "cell_type": "code",
   "execution_count": 40,
   "id": "75783b0b",
   "metadata": {},
   "outputs": [
    {
     "name": "stdout",
     "output_type": "stream",
     "text": [
      "AL329769.1\n",
      "GGGACAGATC ... CCCCANTCTT\n",
      "\n",
      "X61083.1\n",
      "AACTCCTTCC ... GAGGCCGCAA\n",
      "\n",
      "U02356.1\n",
      "CCCCGAGGCC ... GGTTGGAGAC\n",
      "\n",
      "AASW01042081.1\n",
      "ATTTTGTCAT ... GAATCCACCA\n",
      "\n",
      "Y00554.1\n",
      "GTCGACAACG ... CTTGTCGCTT\n",
      "\n",
      "EL279606.1\n",
      "GAAAGGGAAT ... ACAGAAGACA\n",
      "\n",
      "EC941813.1\n",
      "TTGATTTCAT ... GGGTCCCTTG\n",
      "\n",
      "X61884.1\n",
      "GGCGATGTGT ... ACATGTGATG\n",
      "\n",
      "AAADZ0085841.1\n",
      "GGGGTGTGGC ... GTGGATTTGC\n",
      "\n"
     ]
    }
   ],
   "source": [
    "#Biopython\n",
    "database = 'nucleotide'\n",
    "email= 'rodrigoce9@gmail.com'\n",
    "idlist= n_genes\n",
    "handle = Entrez.efetch(db=database, id=idlist, rettype=\"gb\") \n",
    "records = list(SeqIO.parse(handle,\"gb\"))\n",
    "handle.close()\n",
    "seq=[]\n",
    "for info in records:\n",
    "    print(info.id)\n",
    "    print(info.seq[0:10],'...',info.seq[-10:])\n",
    "    print()\n",
    "    seq.append(info.seq[0:10])"
   ]
  },
  {
   "cell_type": "code",
   "execution_count": 38,
   "id": "7c0b83dd",
   "metadata": {},
   "outputs": [
    {
     "name": "stdout",
     "output_type": "stream",
     "text": [
      "[22, 22, 24, 30, 18, 48, 34, 33, 9]\n"
     ]
    }
   ],
   "source": [
    "Adenina=[]\n",
    "database = 'nucleotide'\n",
    "email= 'rodrigoce9@gmail.com'\n",
    "idlist= n_genes\n",
    "handle = Entrez.efetch(db=database, id=idlist, rettype=\"gb\") \n",
    "records = list(SeqIO.parse(handle,\"gb\"))\n",
    "handle.close()\n",
    "seq=[]\n",
    "for info in records:\n",
    "    c=info.seq\n",
    "    count= c.count('A')\n",
    "    perc= int(count/len(c)*100)\n",
    "    Adenina.append(perc)\n",
    "print (Adenina)"
   ]
  },
  {
   "cell_type": "code",
   "execution_count": 35,
   "id": "a110cbb2",
   "metadata": {},
   "outputs": [
    {
     "name": "stdout",
     "output_type": "stream",
     "text": [
      "[29, 27, 24, 21, 36, 13, 20, 21, 13]\n"
     ]
    }
   ],
   "source": [
    "Citosina=[]\n",
    "database = 'nucleotide'\n",
    "email= 'rodrigoce9@gmail.com'\n",
    "idlist= n_genes\n",
    "handle = Entrez.efetch(db=database, id=idlist, rettype=\"gb\") \n",
    "records = list(SeqIO.parse(handle,\"gb\"))\n",
    "handle.close()\n",
    "seq=[]\n",
    "for info in records:\n",
    "    c=info.seq\n",
    "    count= c.count('C')\n",
    "    perc= int(count/len(c)*100)\n",
    "    Citosina.append(perc)\n",
    "print (Citosina)"
   ]
  },
  {
   "cell_type": "code",
   "execution_count": 34,
   "id": "265b7cc5",
   "metadata": {},
   "outputs": [
    {
     "name": "stdout",
     "output_type": "stream",
     "text": [
      "[27, 31, 23, 21, 31, 20, 19, 20, 50]\n"
     ]
    }
   ],
   "source": [
    "Guanina=[]\n",
    "database = 'nucleotide'\n",
    "email= 'rodrigoce9@gmail.com'\n",
    "idlist= n_genes\n",
    "handle = Entrez.efetch(db=database, id=idlist, rettype=\"gb\") \n",
    "records = list(SeqIO.parse(handle,\"gb\"))\n",
    "handle.close()\n",
    "seq=[]\n",
    "for info in records:\n",
    "    c=info.seq\n",
    "    count= c.count('G')\n",
    "    perc= int(count/len(c)*100)\n",
    "    Guanina.append(perc)\n",
    "print (Guanina)"
   ]
  },
  {
   "cell_type": "code",
   "execution_count": 32,
   "id": "6ce5e908",
   "metadata": {},
   "outputs": [
    {
     "name": "stdout",
     "output_type": "stream",
     "text": [
      "[16, 18, 27, 27, 13, 17, 24, 24, 27]\n"
     ]
    }
   ],
   "source": [
    "Timina=[]\n",
    "database = 'nucleotide'\n",
    "email= 'rodrigoce9@gmail.com'\n",
    "idlist= n_genes\n",
    "handle = Entrez.efetch(db=database, id=idlist, rettype=\"gb\") \n",
    "records = list(SeqIO.parse(handle,\"gb\"))\n",
    "handle.close()\n",
    "seq=[]\n",
    "for info in records:\n",
    "    c=info.seq\n",
    "    count= c.count('T')\n",
    "    perc= int(count/len(c)*100)\n",
    "    Timina.append(perc)\n",
    "print (Timina)"
   ]
  },
  {
   "cell_type": "code",
   "execution_count": 13,
   "id": "231bbfe9",
   "metadata": {},
   "outputs": [
    {
     "name": "stdout",
     "output_type": "stream",
     "text": [
      "['01-SEP-2000', '12-JUN-2006', '28-NOV-2001', '08-AUG-2006', '26-JUL-2016', '26-FEB-2011', '17-JUL-2006', '25-JAN-2011', '20-SEP-2005']\n"
     ]
    }
   ],
   "source": [
    "data=[]\n",
    "database = 'nucleotide'\n",
    "email= 'rodrigoce9@gmail.com'\n",
    "idlist= n_genes\n",
    "handle = Entrez.efetch(db=database, id=idlist, rettype=\"gb\") \n",
    "records = list(SeqIO.parse(handle,\"gb\"))\n",
    "handle.close()\n",
    "for info in records:\n",
    "    data.append(info.annotations['date'])\n",
    "print(data)"
   ]
  },
  {
   "cell_type": "code",
   "execution_count": 14,
   "id": "45f03635",
   "metadata": {},
   "outputs": [
    {
     "name": "stdout",
     "output_type": "stream",
     "text": [
      "[991, 900, 513, 4901, 2026, 79, 922, 259, 22]\n"
     ]
    }
   ],
   "source": [
    "database = 'nucleotide'\n",
    "email= 'rodrigoce9@gmail.com'\n",
    "idlist= n_genes\n",
    "handle = Entrez.efetch(db=database, id=idlist, rettype=\"gb\") \n",
    "records = list(SeqIO.parse(handle,\"gb\"))\n",
    "handle.close()\n",
    "tam=[]\n",
    "for info in records:\n",
    "    tam.append(len(info.seq))\n",
    "\n",
    "print(tam)"
   ]
  },
  {
   "cell_type": "code",
   "execution_count": null,
   "id": "fde5cc6d",
   "metadata": {},
   "outputs": [],
   "source": []
  },
  {
   "cell_type": "code",
   "execution_count": null,
   "id": "e9aca69d",
   "metadata": {},
   "outputs": [],
   "source": []
  },
  {
   "cell_type": "code",
   "execution_count": null,
   "id": "bc78d486",
   "metadata": {},
   "outputs": [],
   "source": []
  },
  {
   "cell_type": "code",
   "execution_count": 15,
   "id": "33f5c4ef",
   "metadata": {},
   "outputs": [],
   "source": [
    "#Permitir a povoação em uma coluna de cada vez:\n",
    "\n",
    "import mysql.connector as SQLC\n",
    "import mysql.connector\n",
    "\n",
    "DataBase = SQLC.connect(\n",
    "    host =\"geo.di.uminho.pt\",\n",
    "    user =\"bioinformatica\",\n",
    "    password =\"20221207\",\n",
    "    database =\"AP_db_KRG\"\n",
    ")\n",
    "DataBase.autocommit = True # allows the change be done\n",
    "\n",
    "Cursor = DataBase.cursor()\n",
    "try: \n",
    "    Cursor.execute(\"SET GLOBAL sql_mode = ''\")\n",
    "except mysql.connector.Error as e:\n",
    "    print(\"Erro na escrita na base de dados: {}\".format(e) )    \n",
    "finally:\n",
    "    DataBase.close()"
   ]
  },
  {
   "cell_type": "code",
   "execution_count": 45,
   "id": "be09ac67",
   "metadata": {},
   "outputs": [],
   "source": [
    "#Povoação\n",
    "\n",
    "import mysql.connector as SQLC\n",
    "import mysql.connector\n",
    "\n",
    "#tab = (\"INSERT INTO Gene (ID_genebank) VALUES ('{}')\".format(value)) # %s overwrites the same value\n",
    "\n",
    "des = (description)\n",
    "#Ids\n",
    "#Organismos\n",
    "#seq\n",
    "#Alanina\n",
    "#Citosina\n",
    "#Guanina\n",
    "#Timina\n",
    "#data\n",
    "\n",
    "DataBase = SQLC.connect(\n",
    "    host =\"geo.di.uminho.pt\",\n",
    "    user =\"bioinformatica\",\n",
    "    password =\"20221207\",\n",
    "    database =\"AP_db_KRG\"\n",
    ")\n",
    "DataBase.autocommit = True # allows the change be done\n",
    "\n",
    "Cursor = DataBase.cursor()\n",
    "try:\n",
    "    for index, value in enumerate(Ids):\n",
    "        #print(value)\n",
    "        #print(des[index])\n",
    "        sql= \"INSERT INTO Gene (ID_genebank, Description, Organism, Data, length, Adenina, Citosina, Guanina, Timina)   VALUES (%s, %s, %s, %s, %s, %s, %s, %s, %s)\"\n",
    "        val=(value, des[index], Organismos[index], data[index], tam[index], Adenina[index], Citosina[index], Guanina[index], Timina[index])\n",
    "#         print(type(des[index]))\n",
    "        Cursor.execute(sql,val)\n",
    "#         for values in des:\n",
    "#             Cursor.execute(f\"INSERT INTO Gene ( Description)  VALUES ('{values}')\")\n",
    "except mysql.connector.Error as e:\n",
    "    print(\"Erro na escrita na base de dados: {}\".format(e) )    \n",
    "finally:\n",
    "    DataBase.close()"
   ]
  },
  {
   "cell_type": "code",
   "execution_count": null,
   "id": "374a9861",
   "metadata": {},
   "outputs": [],
   "source": [
    "#Vizualizar tabela:\n",
    "\n",
    "import mysql.connector\n",
    "import pandas as pd \n",
    "DataBase = SQLC.connect(\n",
    "    host =\"geo.di.uminho.pt\",\n",
    "    user =\"bioinformatica\",\n",
    "    password =\"20221207\",\n",
    "    database =\"AP_db_KRG\"\n",
    ")\n",
    "####### end of connection ####\n",
    "tabela = pd.read_sql(\"SELECT locusid, length(dnasequence) as comprimento FROM genbank\",my_conn)"
   ]
  },
  {
   "cell_type": "code",
   "execution_count": null,
   "id": "2ff9b3a6",
   "metadata": {},
   "outputs": [],
   "source": []
  }
 ],
 "metadata": {
  "kernelspec": {
   "display_name": "Python 3 (ipykernel)",
   "language": "python",
   "name": "python3"
  },
  "language_info": {
   "codemirror_mode": {
    "name": "ipython",
    "version": 3
   },
   "file_extension": ".py",
   "mimetype": "text/x-python",
   "name": "python",
   "nbconvert_exporter": "python",
   "pygments_lexer": "ipython3",
   "version": "3.9.12"
  }
 },
 "nbformat": 4,
 "nbformat_minor": 5
}
