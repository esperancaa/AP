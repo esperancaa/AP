{
 "cells": [
  {
   "cell_type": "code",
   "execution_count": 1,
   "id": "4081dcf8",
   "metadata": {},
   "outputs": [],
   "source": [
    "from Bio.Blast import NCBIXML \n",
    "from Bio.Blast import NCBIWWW\n",
    "import requests, sys, json\n",
    "import re\n",
    "from Bio import SeqIO\n",
    "from Bio import Entrez\n",
    "from Bio import Medline\n",
    "import pandas as pd\n",
    "import numpy as np\n",
    "from tqdm import tqdm\n",
    "from Bio import SearchIO\n",
    "from Bio.SwissProt import KeyWList\n",
    "from Bio import SwissProt\n",
    "from Bio import ExPASy\n",
    "from Bio.SeqRecord import SeqRecord\n",
    "from Bio.Align import MultipleSeqAlignment\n",
    "from Bio.Seq import Seq\n",
    "from Bio import AlignIO\n",
    "from Bio.Align import AlignInfo\n",
    "from Bio.SeqFeature import SeqFeature, FeatureLocation\n",
    "from Bio.Phylo.TreeConstruction import DistanceCalculator\n",
    "from Bio.Phylo.TreeConstruction import DistanceTreeConstructor\n",
    "from Bio import Phylo\n",
    "import mysql.connector as SQLC\n",
    "import mysql.connector\n",
    "from datetime import date"
   ]
  },
  {
   "cell_type": "markdown",
   "id": "c9ddb00a",
   "metadata": {},
   "source": [
    "### Start povoation:"
   ]
  },
  {
   "cell_type": "code",
   "execution_count": 59,
   "id": "7e6cca28",
   "metadata": {
    "scrolled": true
   },
   "outputs": [
    {
     "name": "stdout",
     "output_type": "stream",
     "text": [
      "escolha o que quer pesquisar: gli\n",
      "escolha o nº de genes que quer obter (máximo 20): 5\n",
      "['34927', '30097', '2735', '778919', '108020932']\n"
     ]
    }
   ],
   "source": [
    "#Extrair ids:\n",
    "\n",
    "import time\n",
    "from datetime import datetime\n",
    "\n",
    "\n",
    "data_e_hora_atuais = datetime.now()\n",
    "\n",
    "query= input('escolha o que quer pesquisar: ')\n",
    "def url_get(i):\n",
    "    url_list= [ ]\n",
    "    url = \"https://www.ncbi.nlm.nih.gov/gene/?term={}\".format( query )\n",
    "    url_list.append(url)\n",
    "    return url_list\n",
    "url_get(1)\n",
    "\n",
    "import requests, sys, json\n",
    "content = []\n",
    "for url in url_get(1):\n",
    "    r = requests.get(url)\n",
    "    content.append(r.content)\n",
    "#print(content)\n",
    "\n",
    "import requests\n",
    "from bs4 import BeautifulSoup\n",
    "\n",
    "# Parsing the HTML\n",
    "for c in content:\n",
    "    soup = BeautifulSoup(c, 'html.parser')\n",
    "    a= soup.get_text()\n",
    "    \n",
    "import re\n",
    "existe = re.findall(r\"ID:\\s+\\d*(?=\\D)\", a, re.DOTALL)\n",
    "\n",
    "c= ', '.join(existe)\n",
    "h= c.replace('ID: ','')\n",
    "IDS= h.split(', ')\n",
    "\n",
    "n_genes= IDS[0:int(input('escolha o nº de genes que quer obter (máximo 20): '))]\n",
    "numero_genes= len(n_genes)\n",
    "print(n_genes)\n",
    "\n",
    "\n"
   ]
  },
  {
   "cell_type": "code",
   "execution_count": 60,
   "id": "2c510459",
   "metadata": {},
   "outputs": [
    {
     "name": "stdout",
     "output_type": "stream",
     "text": [
      "None\n"
     ]
    }
   ],
   "source": [
    "#Povoação \"History\"\n",
    "\n",
    "DataBase = SQLC.connect(\n",
    "    host =\"geo.di.uminho.pt\",\n",
    "    user =\"bioinformatica\",\n",
    "    password =\"20221207\",\n",
    "    database =\"AP_db_KRG\"\n",
    ")\n",
    "DataBase.autocommit = True # allows the change be done\n",
    "\n",
    "Cursor_2 = DataBase.cursor()\n",
    "try:\n",
    "    sql= \"INSERT INTO History (search, Genes_number_input, Day)   VALUES (%s, %s, %s)\"\n",
    "    val=(query, numero_genes, data_e_hora_atuais)\n",
    "    Cursor_2.execute(sql,val)\n",
    "    \n",
    "except mysql.connector.Error as e:\n",
    "    print(\"Erro na escrita na base de dados: {}\".format(e) )    \n",
    "finally:\n",
    "    DataBase.close()\n",
    "    \n",
    "    search_id =[]\n",
    "DataBase = SQLC.connect(\n",
    "    host =\"geo.di.uminho.pt\",\n",
    "    user =\"bioinformatica\",\n",
    "    password =\"20221207\",\n",
    "    database =\"AP_db_KRG\"\n",
    ")\n",
    "DataBase.autocommit = True # allows the change be done\n",
    "\n",
    "Cursor_2 = DataBase.cursor()\n",
    "try:\n",
    "    sql= \"Select ID_search FROM History\"\n",
    "    Cursor_2.execute(sql)\n",
    "    for row in Cursor_2:\n",
    "        #print(row)\n",
    "        search_id.append(str(row))       \n",
    "except mysql.connector.Error as e:\n",
    "    print(\"Erro na escrita na base de dados: {}\".format(e) )    \n",
    "finally:\n",
    "    DataBase.close()\n",
    "    \n",
    "div= ', '.join(search_id)\n",
    "h= div.replace(\"(\",'')\n",
    "hh= h.replace(\",)\",'')\n",
    "SEARCH_ID= hh.split(', ')\n",
    "Hist= SEARCH_ID[-1]"
   ]
  },
  {
   "cell_type": "code",
   "execution_count": 61,
   "id": "653959df",
   "metadata": {},
   "outputs": [
    {
     "name": "stdout",
     "output_type": "stream",
     "text": [
      "['Z11228.1', 'X65481.1', 'R24031.1', 'AAPY01624519.1']\n"
     ]
    }
   ],
   "source": [
    "#Extrair ids NCBI:\n",
    "\n",
    "Ids=[]\n",
    "database = 'nucleotide'\n",
    "email= 'rodrigoce9@gmail.com'\n",
    "idlist= n_genes\n",
    "handle = Entrez.efetch(db=database, id=idlist, rettype=\"gb\") \n",
    "records = list(SeqIO.parse(handle,\"gb\"))\n",
    "handle.close()\n",
    "for info in records:\n",
    "    Ids.append(info.id)\n",
    "    #print(info.id)\n",
    "print (Ids)"
   ]
  },
  {
   "cell_type": "code",
   "execution_count": null,
   "id": "88ce0d32",
   "metadata": {},
   "outputs": [],
   "source": []
  },
  {
   "cell_type": "code",
   "execution_count": 62,
   "id": "ec4f1fdd",
   "metadata": {},
   "outputs": [
    {
     "name": "stdout",
     "output_type": "stream",
     "text": [
      "['https://www.ncbi.nlm.nih.gov/nuccore/Z11228.1', 'https://www.ncbi.nlm.nih.gov/nuccore/X65481.1', 'https://www.ncbi.nlm.nih.gov/nuccore/R24031.1', 'https://www.ncbi.nlm.nih.gov/nuccore/AAPY01624519.1']\n"
     ]
    }
   ],
   "source": [
    "import time\n",
    "def url_get_id(i):\n",
    "    url_list= [ ]\n",
    "    for id in i:\n",
    "        url = \"https://www.ncbi.nlm.nih.gov/nuccore/{}\".format( id )\n",
    "        url_list.append(url)\n",
    "    return url_list\n",
    "link_genebank= url_get_id(Ids)\n",
    "print(link_genebank)"
   ]
  },
  {
   "cell_type": "code",
   "execution_count": 63,
   "id": "cca38fc3",
   "metadata": {
    "scrolled": true
   },
   "outputs": [
    {
     "name": "stdout",
     "output_type": "stream",
     "text": [
      "['H.sapiens gamma-delta T-cell Vgamma9+ mRNA']\n",
      "['H.sapiens gamma-delta T-cell Vgamma9+ mRNA', 'F.sambucinum (NRRL 13700, 13504) internal transcribed spacer including 5.8S rDNA gene']\n",
      "['H.sapiens gamma-delta T-cell Vgamma9+ mRNA', 'F.sambucinum (NRRL 13700, 13504) internal transcribed spacer including 5.8S rDNA gene', \"yh29h04.r1 Soares placenta Nb2HP Homo sapiens cDNA clone IMAGE:131191 5', mRNA sequence\"]\n",
      "['H.sapiens gamma-delta T-cell Vgamma9+ mRNA', 'F.sambucinum (NRRL 13700, 13504) internal transcribed spacer including 5.8S rDNA gene', \"yh29h04.r1 Soares placenta Nb2HP Homo sapiens cDNA clone IMAGE:131191 5', mRNA sequence\", 'Tupaia belangeri voucher Broad:Sequencing.Sample:10448, Broad Institute, Cambridge, MA cont1.624518, whole genome shotgun sequence']\n"
     ]
    }
   ],
   "source": [
    "#Extrair description NCBI:\n",
    "\n",
    "database = 'nucleotide'\n",
    "email= 'rodrigoce9@gmail.com'\n",
    "idlist= n_genes\n",
    "handle = Entrez.efetch(db=database, id=idlist, rettype=\"gb\") \n",
    "records = list(SeqIO.parse(handle,\"gb\"))\n",
    "handle.close()\n",
    "description=[]\n",
    "for info in records:\n",
    "    #print(info.id)\n",
    "    #print(info.description)\n",
    "    description.append(info.description)\n",
    "    print (description)"
   ]
  },
  {
   "cell_type": "code",
   "execution_count": 64,
   "id": "30c6ef8a",
   "metadata": {},
   "outputs": [
    {
     "name": "stdout",
     "output_type": "stream",
     "text": [
      "['Homo sapiens', 'Fusarium sambucinum', 'Homo sapiens', 'Tupaia belangeri']\n"
     ]
    }
   ],
   "source": [
    "#organismos\n",
    "\n",
    "Organismos=[]\n",
    "database = 'nucleotide'\n",
    "email= 'rodrigoce9@gmail.com'\n",
    "idlist= n_genes\n",
    "handle = Entrez.efetch(db=database, id=idlist, rettype=\"gb\") \n",
    "records = list(SeqIO.parse(handle,\"gb\"))\n",
    "handle.close()\n",
    "for info in records:\n",
    "    Organismos.append(info.annotations['organism'])\n",
    "print(Organismos)"
   ]
  },
  {
   "cell_type": "code",
   "execution_count": 50,
   "id": "75783b0b",
   "metadata": {},
   "outputs": [
    {
     "name": "stdout",
     "output_type": "stream",
     "text": [
      "AL329769.1\n",
      "GGGACAGATC ... CCCCANTCTT\n",
      "\n",
      "X61083.1\n",
      "AACTCCTTCC ... GAGGCCGCAA\n",
      "\n",
      "U02356.1\n",
      "CCCCGAGGCC ... GGTTGGAGAC\n",
      "\n",
      "AASW01042081.1\n",
      "ATTTTGTCAT ... GAATCCACCA\n",
      "\n",
      "Y00554.1\n",
      "GTCGACAACG ... CTTGTCGCTT\n",
      "\n",
      "EL279606.1\n",
      "GAAAGGGAAT ... ACAGAAGACA\n",
      "\n",
      "EC941813.1\n",
      "TTGATTTCAT ... GGGTCCCTTG\n",
      "\n",
      "X61884.1\n",
      "GGCGATGTGT ... ACATGTGATG\n",
      "\n",
      "AAADZ0085841.1\n",
      "GGGGTGTGGC ... GTGGATTTGC\n",
      "\n"
     ]
    }
   ],
   "source": [
    "#Biopython\n",
    "database = 'nucleotide'\n",
    "email= 'rodrigoce9@gmail.com'\n",
    "idlist= n_genes\n",
    "handle = Entrez.efetch(db=database, id=idlist, rettype=\"gb\") \n",
    "records = list(SeqIO.parse(handle,\"gb\"))\n",
    "handle.close()\n",
    "seq=[]\n",
    "for info in records:\n",
    "    print(info.id)\n",
    "    print(info.seq[0:10],'...',info.seq[-10:])\n",
    "    print()\n",
    "    seq.append(info.seq[0:10])"
   ]
  },
  {
   "cell_type": "code",
   "execution_count": 65,
   "id": "7c0b83dd",
   "metadata": {},
   "outputs": [
    {
     "name": "stdout",
     "output_type": "stream",
     "text": [
      "[31, 27, 23, 30]\n"
     ]
    }
   ],
   "source": [
    "Adenina=[]\n",
    "database = 'nucleotide'\n",
    "email= 'rodrigoce9@gmail.com'\n",
    "idlist= n_genes\n",
    "handle = Entrez.efetch(db=database, id=idlist, rettype=\"gb\") \n",
    "records = list(SeqIO.parse(handle,\"gb\"))\n",
    "handle.close()\n",
    "seq=[]\n",
    "for info in records:\n",
    "    c=info.seq\n",
    "    count= c.count('A')\n",
    "    perc= int(count/len(c)*100)\n",
    "    Adenina.append(perc)\n",
    "print (Adenina)"
   ]
  },
  {
   "cell_type": "code",
   "execution_count": 66,
   "id": "a110cbb2",
   "metadata": {},
   "outputs": [
    {
     "name": "stdout",
     "output_type": "stream",
     "text": [
      "[26, 25, 19, 18]\n"
     ]
    }
   ],
   "source": [
    "Citosina=[]\n",
    "database = 'nucleotide'\n",
    "email= 'rodrigoce9@gmail.com'\n",
    "idlist= n_genes\n",
    "handle = Entrez.efetch(db=database, id=idlist, rettype=\"gb\") \n",
    "records = list(SeqIO.parse(handle,\"gb\"))\n",
    "handle.close()\n",
    "seq=[]\n",
    "for info in records:\n",
    "    c=info.seq\n",
    "    count= c.count('C')\n",
    "    perc= int(count/len(c)*100)\n",
    "    Citosina.append(perc)\n",
    "print (Citosina)"
   ]
  },
  {
   "cell_type": "code",
   "execution_count": 67,
   "id": "265b7cc5",
   "metadata": {},
   "outputs": [
    {
     "name": "stdout",
     "output_type": "stream",
     "text": [
      "[15, 23, 24, 18]\n"
     ]
    }
   ],
   "source": [
    "Guanina=[]\n",
    "database = 'nucleotide'\n",
    "email= 'rodrigoce9@gmail.com'\n",
    "idlist= n_genes\n",
    "handle = Entrez.efetch(db=database, id=idlist, rettype=\"gb\") \n",
    "records = list(SeqIO.parse(handle,\"gb\"))\n",
    "handle.close()\n",
    "seq=[]\n",
    "for info in records:\n",
    "    c=info.seq\n",
    "    count= c.count('G')\n",
    "    perc= int(count/len(c)*100)\n",
    "    Guanina.append(perc)\n",
    "print (Guanina)"
   ]
  },
  {
   "cell_type": "code",
   "execution_count": 68,
   "id": "6ce5e908",
   "metadata": {},
   "outputs": [
    {
     "name": "stdout",
     "output_type": "stream",
     "text": [
      "[26, 24, 30, 32]\n"
     ]
    }
   ],
   "source": [
    "Timina=[]\n",
    "database = 'nucleotide'\n",
    "email= 'rodrigoce9@gmail.com'\n",
    "idlist= n_genes\n",
    "handle = Entrez.efetch(db=database, id=idlist, rettype=\"gb\") \n",
    "records = list(SeqIO.parse(handle,\"gb\"))\n",
    "handle.close()\n",
    "seq=[]\n",
    "for info in records:\n",
    "    c=info.seq\n",
    "    count= c.count('T')\n",
    "    perc= int(count/len(c)*100)\n",
    "    Timina.append(perc)\n",
    "print (Timina)"
   ]
  },
  {
   "cell_type": "code",
   "execution_count": 69,
   "id": "231bbfe9",
   "metadata": {},
   "outputs": [
    {
     "name": "stdout",
     "output_type": "stream",
     "text": [
      "['09-FEB-1999', '02-SEP-1992', '20-APR-1995', '06-JUN-2006']\n"
     ]
    }
   ],
   "source": [
    "data=[]\n",
    "database = 'nucleotide'\n",
    "email= 'rodrigoce9@gmail.com'\n",
    "idlist= n_genes\n",
    "handle = Entrez.efetch(db=database, id=idlist, rettype=\"gb\") \n",
    "records = list(SeqIO.parse(handle,\"gb\"))\n",
    "handle.close()\n",
    "for info in records:\n",
    "    data.append(info.annotations['date'])\n",
    "print(data)"
   ]
  },
  {
   "cell_type": "code",
   "execution_count": 70,
   "id": "45f03635",
   "metadata": {},
   "outputs": [
    {
     "name": "stdout",
     "output_type": "stream",
     "text": [
      "[210, 556, 411, 941]\n"
     ]
    }
   ],
   "source": [
    "database = 'nucleotide'\n",
    "email= 'rodrigoce9@gmail.com'\n",
    "idlist= n_genes\n",
    "handle = Entrez.efetch(db=database, id=idlist, rettype=\"gb\") \n",
    "records = list(SeqIO.parse(handle,\"gb\"))\n",
    "handle.close()\n",
    "tam=[]\n",
    "for info in records:\n",
    "    tam.append(len(info.seq))\n",
    "\n",
    "print(tam)"
   ]
  },
  {
   "cell_type": "code",
   "execution_count": 71,
   "id": "33f5c4ef",
   "metadata": {},
   "outputs": [],
   "source": [
    "#Permitir a povoação em uma coluna de cada vez:\n",
    "\n",
    "import mysql.connector as SQLC\n",
    "import mysql.connector\n",
    "\n",
    "DataBase = SQLC.connect(\n",
    "    host =\"geo.di.uminho.pt\",\n",
    "    user =\"bioinformatica\",\n",
    "    password =\"20221207\",\n",
    "    database =\"AP_db_KRG\"\n",
    ")\n",
    "DataBase.autocommit = True # allows the change be done\n",
    "\n",
    "Cursor = DataBase.cursor()\n",
    "try: \n",
    "    Cursor.execute(\"SET GLOBAL sql_mode = ''\")\n",
    "except mysql.connector.Error as e:\n",
    "    print(\"Erro na escrita na base de dados: {}\".format(e) )    \n",
    "finally:\n",
    "    DataBase.close()"
   ]
  },
  {
   "cell_type": "code",
   "execution_count": 72,
   "id": "be09ac67",
   "metadata": {},
   "outputs": [],
   "source": [
    "#Povoação \"Gene\"\n",
    "\n",
    "import mysql.connector as SQLC\n",
    "import mysql.connector\n",
    "\n",
    "#tab = (\"INSERT INTO Gene (ID_genebank) VALUES ('{}')\".format(value)) # %s overwrites the same value\n",
    "\n",
    "des = (description)\n",
    "DataBase = SQLC.connect(\n",
    "    host =\"geo.di.uminho.pt\",\n",
    "    user =\"bioinformatica\",\n",
    "    password =\"20221207\",\n",
    "    database =\"AP_db_KRG\"\n",
    ")\n",
    "DataBase.autocommit = True # allows the change be done\n",
    "\n",
    "Cursor = DataBase.cursor()\n",
    "try:\n",
    "    for index, value in enumerate(Ids):\n",
    "        #print(value)\n",
    "        #print(des[index])\n",
    "        sql= \"INSERT INTO Gene (ID_genebank, Description, Organism, length, Adenina, Citosina, Guanina, Timina, Link, ID_search) VALUES (%s, %s, %s, %s, %s, %s, %s, %s, %s, %s)\"\n",
    "        val=(value, des[index], Organismos[index], tam[index], Adenina[index], Citosina[index], Guanina[index], Timina[index], link_genebank[index], Hist)\n",
    "#         print(type(des[index]))\n",
    "        Cursor.execute(sql,val)\n",
    "#         for values in des:\n",
    "#             Cursor.execute(f\"INSERT INTO Gene ( Description)  VALUES ('{values}')\")\n",
    "except mysql.connector.Error as e:\n",
    "    print(\"Erro na escrita na base de dados: {}\".format(e) )    \n",
    "finally:\n",
    "    DataBase.close()"
   ]
  },
  {
   "cell_type": "code",
   "execution_count": null,
   "id": "374a9861",
   "metadata": {},
   "outputs": [],
   "source": [
    "#Vizualizar tabela History:Erro na escrita na base de dados: 1062 (23000): Duplicate entry '0' for key 'PRIMARY'\n",
    "\n",
    "\n",
    "import pandas as pd \n",
    "\n",
    "DataBase = SQLC.connect(\n",
    "    host =\"geo.di.uminho.pt\",\n",
    "    user =\"bioinformatica\",\n",
    "    password =\"20221207\",\n",
    "    database =\"AP_db_KRG\"\n",
    ")\n",
    "\n",
    "####### end of connection ####\n",
    "tabela = pd.read_sql(\"Select * FROM Gene\", DataBase)\n",
    "DataBase.close()\n",
    "print(tabela)"
   ]
  },
  {
   "cell_type": "code",
   "execution_count": null,
   "id": "2ff9b3a6",
   "metadata": {},
   "outputs": [],
   "source": []
  }
 ],
 "metadata": {
  "kernelspec": {
   "display_name": "Python 3 (ipykernel)",
   "language": "python",
   "name": "python3"
  },
  "language_info": {
   "codemirror_mode": {
    "name": "ipython",
    "version": 3
   },
   "file_extension": ".py",
   "mimetype": "text/x-python",
   "name": "python",
   "nbconvert_exporter": "python",
   "pygments_lexer": "ipython3",
   "version": "3.9.12"
  }
 },
 "nbformat": 4,
 "nbformat_minor": 5
}
