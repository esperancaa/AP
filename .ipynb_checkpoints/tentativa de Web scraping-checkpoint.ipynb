{
 "cells": [
  {
   "cell_type": "markdown",
   "metadata": {},
   "source": [
    "### web scraping (só pelo o id)"
   ]
  },
  {
   "cell_type": "code",
   "execution_count": 1,
   "metadata": {},
   "outputs": [],
   "source": [
    "from Bio.Blast import NCBIXML \n",
    "from Bio.Blast import NCBIWWW\n",
    "import requests, sys, json\n",
    "import re\n",
    "from Bio import SeqIO\n",
    "from Bio import Entrez\n",
    "from Bio import Medline\n",
    "import pandas as pd\n",
    "import numpy as np\n",
    "from tqdm import tqdm\n",
    "from Bio import SearchIO\n",
    "from Bio.SwissProt import KeyWList\n",
    "from Bio import SwissProt\n",
    "from Bio import ExPASy\n",
    "from Bio.SeqRecord import SeqRecord\n",
    "from Bio.Align import MultipleSeqAlignment\n",
    "from Bio.Seq import Seq\n",
    "from Bio import AlignIO\n",
    "from Bio.Align import AlignInfo\n",
    "from Bio.SeqFeature import SeqFeature, FeatureLocation\n",
    "from Bio.Phylo.TreeConstruction import DistanceCalculator\n",
    "from Bio.Phylo.TreeConstruction import DistanceTreeConstructor\n",
    "from Bio import Phylo"
   ]
  },
  {
   "cell_type": "code",
   "execution_count": null,
   "metadata": {},
   "outputs": [],
   "source": [
    "import time\n",
    "def url_get(i):\n",
    "    url_list= [ ]\n",
    "    for id in range(243,(243+i)):\n",
    "        url = \"https://www.ncbi.nlm.nih.gov/nuccore/NG_009{}\".format( id )\n",
    "        url_list.append(url)\n",
    "    return url_list\n",
    "url_get(4)"
   ]
  },
  {
   "cell_type": "code",
   "execution_count": null,
   "metadata": {},
   "outputs": [],
   "source": [
    "import requests\n",
    "\n",
    "content = []\n",
    "for url in url_get(4):\n",
    "    r = requests.get(url)\n",
    "    content.append(r.content)\n",
    "print(content)"
   ]
  },
  {
   "cell_type": "code",
   "execution_count": null,
   "metadata": {
    "scrolled": false
   },
   "outputs": [],
   "source": [
    "import requests\n",
    "from bs4 import BeautifulSoup\n",
    "\n",
    "# Parsing the HTML\n",
    "for c in content:\n",
    "    soup = BeautifulSoup(c, 'html.parser')\n",
    "\n",
    "    # Procurar um tag meta com um determinado atributo\n",
    "    lines = soup.find_all('meta', {'name':\"ncbi_uidlist\"} )\n",
    "\n",
    "    id = \"\"\n",
    "    url = \"\"\n",
    "    for line in lines:\n",
    "        print(line)\n",
    "        if 'name' in line.attrs:\n",
    "            print(line.attrs['name'])\n",
    "        if 'content' in line.attrs:\n",
    "            print(line.attrs['content'])\t\t\n",
    "            id = line.attrs['content']\n",
    "    if id:\n",
    "        url = \"https://www.ncbi.nlm.nih.gov/sviewer/viewer.fcgi?id={}&db=nuccore&report=genbank&conwithfeat=on&hide-cdd=on&retmode=text&maxdownloadsize=5000000\".format(id)\n",
    "\n",
    "    r2 = requests.get( url )\n",
    "    r3= r2.content.decode('utf-8')\n",
    "    #r3= str(r2.content)\n",
    "    print (r3, '\\n')"
   ]
  },
  {
   "cell_type": "code",
   "execution_count": null,
   "metadata": {},
   "outputs": [],
   "source": [
    "#import re\n",
    "#existe = re.findall(r\"ORGANISM\\s+.*?(?=bp)\", r3, re.DOTALL)\n",
    "#if existe:\n",
    "    #for definition in existe:\n",
    "        #m = re.match( r\"ORGANISM\\s+(.+)\", definition, re.DOTALL )\n",
    "        #print( re.sub(r'\\s+', ' ', m.group(1) ) )"
   ]
  },
  {
   "cell_type": "markdown",
   "metadata": {},
   "source": [
    "### web scraping (por condição)"
   ]
  },
  {
   "cell_type": "code",
   "execution_count": 2,
   "metadata": {},
   "outputs": [
    {
     "name": "stdout",
     "output_type": "stream",
     "text": [
      "escolha o que quer pesquisar: yeast\n"
     ]
    },
    {
     "data": {
      "text/plain": [
       "['https://www.ncbi.nlm.nih.gov/gene/?term=yeast']"
      ]
     },
     "execution_count": 2,
     "metadata": {},
     "output_type": "execute_result"
    }
   ],
   "source": [
    "import time\n",
    "query= input('escolha o que quer pesquisar: ')\n",
    "def url_get(i):\n",
    "    url_list= [ ]\n",
    "    url = \"https://www.ncbi.nlm.nih.gov/gene/?term={}\".format( query )\n",
    "    url_list.append(url)\n",
    "    return url_list\n",
    "url_get(1)"
   ]
  },
  {
   "cell_type": "code",
   "execution_count": 3,
   "metadata": {},
   "outputs": [],
   "source": [
    "import requests, sys, json\n",
    "content = []\n",
    "for url in url_get(1):\n",
    "    r = requests.get(url)\n",
    "    content.append(r.content)\n",
    "#print(content)"
   ]
  },
  {
   "cell_type": "code",
   "execution_count": 4,
   "metadata": {
    "scrolled": false
   },
   "outputs": [],
   "source": [
    "import requests\n",
    "from bs4 import BeautifulSoup\n",
    "\n",
    "# Parsing the HTML\n",
    "for c in content:\n",
    "    soup = BeautifulSoup(c, 'html.parser')\n",
    "    a= soup.get_text()\n",
    "    #print (a)"
   ]
  },
  {
   "cell_type": "code",
   "execution_count": 5,
   "metadata": {},
   "outputs": [],
   "source": [
    "import re\n",
    "existe = re.findall(r\"ID:\\s+\\d*(?=\\D)\", a, re.DOTALL)\n",
    "#existe\n",
    "#if existe:\n",
    "    #for definition in existe:\n",
    "        #m = re.match( r\"ID:\\s+(.+)\", definition, re.DOTALL )\n",
    "        #print( re.sub(r'\\s+', ' ', m.group(1) ) )\n"
   ]
  },
  {
   "cell_type": "code",
   "execution_count": 6,
   "metadata": {},
   "outputs": [],
   "source": [
    "c= ', '.join(existe)\n",
    "h= c.replace('ID: ','')\n",
    "IDS= h.split(', ')\n",
    "#IDS"
   ]
  },
  {
   "cell_type": "code",
   "execution_count": 7,
   "metadata": {},
   "outputs": [
    {
     "name": "stdout",
     "output_type": "stream",
     "text": [
      "escolha o nº de genes que quer obter (máximo 20): 2\n",
      "['424122', '29789']\n"
     ]
    }
   ],
   "source": [
    "n_genes= IDS[0:int(input('escolha o nº de genes que quer obter (máximo 20): '))]\n",
    "print(n_genes)"
   ]
  },
  {
   "cell_type": "markdown",
   "metadata": {},
   "source": [
    "### Buscar Links dos genes:"
   ]
  },
  {
   "cell_type": "code",
   "execution_count": 8,
   "metadata": {},
   "outputs": [
    {
     "data": {
      "text/plain": [
       "['https://www.ncbi.nlm.nih.gov/nuccore/424122',\n",
       " 'https://www.ncbi.nlm.nih.gov/nuccore/29789']"
      ]
     },
     "execution_count": 8,
     "metadata": {},
     "output_type": "execute_result"
    }
   ],
   "source": [
    "import time\n",
    "def url_get_id(i):\n",
    "    url_list= [ ]\n",
    "    for id in n_genes:\n",
    "        url = \"https://www.ncbi.nlm.nih.gov/nuccore/{}\".format( id )\n",
    "        url_list.append(url)\n",
    "    return url_list\n",
    "url_get_id(n_genes)"
   ]
  },
  {
   "cell_type": "code",
   "execution_count": 9,
   "metadata": {},
   "outputs": [],
   "source": [
    "import requests\n",
    "\n",
    "content_id = []\n",
    "for url in url_get_id(n_genes):\n",
    "    r = requests.get(url)\n",
    "    content_id.append(r.content)\n",
    "#print(content_id)"
   ]
  },
  {
   "cell_type": "code",
   "execution_count": 11,
   "metadata": {
    "scrolled": false
   },
   "outputs": [
    {
     "name": "stdout",
     "output_type": "stream",
     "text": [
      "<meta content=\"424122\" name=\"ncbi_uidlist\"/>\n",
      "ncbi_uidlist\n",
      "424122\n",
      "LOCUS       CSU02075                1780 bp    rRNA    linear   INV 28-JUN-1994\n",
      "DEFINITION  Chlorarachnion sp. 1 CCMP 1408 clones pF58 and pF59 18S rRNA small\n",
      "            subunit.\n",
      "ACCESSION   U02075\n",
      "VERSION     U02075\n",
      "KEYWORDS    .\n",
      "SOURCE      Chlorarachnion sp. 1\n",
      "  ORGANISM  Chlorarachnion sp. 1\n",
      "            Eukaryotae; mitochondrial eukaryotes; Chlorarachniophyceae;\n",
      "            Chlorarachnion.\n",
      "REFERENCE   1  (bases 1 to 1780)\n",
      "  AUTHORS   McFadden,G.I., Gilson,P.R., Hofmann,C.J., Adcock,G.J. and\n",
      "            Maier,U.G.\n",
      "  TITLE     Evidence that an amoeba acquired a chloroplast by retaining part of\n",
      "            an engulfed eukaryotic alga\n",
      "  JOURNAL   Proc. Natl. Acad. Sci. U.S.A. 91, 3690-3694 (1994)\n",
      "  MEDLINE   94224807\n",
      "REFERENCE   2  (bases 1 to 1780)\n",
      "  AUTHORS   McFadden,G.I.\n",
      "  TITLE     Direct Submission\n",
      "  JOURNAL   Submitted (15-NOV-1993) Geoffrey I. McFadden, School of Botany,\n",
      "            University of Melbourne, Parkville, VIC 3052, Australia\n",
      "COMMENT     [WARNING] On Jan 20, 1999 this sequence was replaced by U02075.1.\n",
      "FEATURES             Location/Qualifiers\n",
      "     source          1..1780\n",
      "                     /organism=\"Chlorarachnion sp. 1\"\n",
      "                     /mol_type=\"rRNA\"\n",
      "                     /strain=\"CCMP 1408\"\n",
      "                     /db_xref=\"taxon:29200\"\n",
      "                     /clone=\"pF58 (Nu), pF59 (Nu)\"\n",
      "     rRNA            1..1780\n",
      "                     /product=\"18S rRNA small subunit\"\n",
      "ORIGIN      \n",
      "        1 ggatcctgcc agtagtcata tgcttgtctc aaagactaag ccatgcatgt ctaagtataa\n",
      "       61 acaactttgt actgtgaaac tgcagatggc tcattaaatc agaaataatt tctttgatgg\n",
      "      121 tgaaaatcta cacggatacc cgtagtaatt ctagagctaa tacgtgcgta aactccattg\n",
      "      181 tgaggtattt attagatccg aaccagcccc ctcggggtat tttggtgaat catgataact\n",
      "      241 gttcgaatcg ccaggctctg ccaggcgata gttcattcaa atttctgccc tatcagctat\n",
      "      301 tgacggtagt gtagtggact accgtggccg taacgggtga cggagaatta gggttcgatt\n",
      "      361 ccggagaggg agcctgagaa acggctacca catccaagga aggcagcagg cgcgcaaatt\n",
      "      421 acccaatccc gacacgggga ggtagtgaca agaaatatcg tgactgtgcc ctttgtggca\n",
      "      481 gagtcttcga aatgagcaat acgtaaatgc ctttgcgagt atccattgga gggcaagtct\n",
      "      541 ggtgccagca gccgcggtaa ttccagctcc aatagcgtat attaatgttg ttgcagttaa\n",
      "      601 aaagctcgta gttggatatc tggcctttgc acggacggcc cgccttcggg ttgagtgctg\n",
      "      661 gaagtgcagg tctatattct ggttggcgtg ctttcccttt attgtggcga gtatcgcgat\n",
      "      721 ccggatcgtt tactttgaag aaattcgagt gttcaaagca ggcttacgcc gtgaagattg\n",
      "      781 cagcatggaa taatgacata ggactatcgt gttctatttt gttggttctg ggaccgtagt\n",
      "      841 aatgattgat agggacagtt gggggtgctg ctattccgcg gncagaggtg aaattctcag\n",
      "      901 attcccggaa gagcaactta tgcgaaagca ttcaccaagg atgtcttctt taatcaagaa\n",
      "      961 cgaaagtagg gggatcgaag acgatcagat accgtcgtag tctctaccat aaactatgcc\n",
      "     1021 gactagggat tggtggacgt tgttttatcc gactccatca gcaccttatg agaaatcaaa\n",
      "     1081 gtctttgggt tccgggggga gtatggtcgc aaggctgaaa cttaaaggaa ttgacggaag\n",
      "     1141 gacaccacca gaagtggaac ttgcggctta atttgactca acacgggaaa actttccagg\n",
      "     1201 tccagacata gtaaggattg acagattgaa gatctttctt gattctatgg gtggtggtgc\n",
      "     1261 atggccgttc ttagttggtg gagtgatttg tctggttaat tccgttaacg aacgagacct\n",
      "     1321 cgacctgcta aataggttca gtatcgatgc gtcgatgctt ggagcttctt agagggacta\n",
      "     1381 tcggatccaa accggtggaa gtgcgaggca ataacaggtc tgtgatgccc ttagatgttc\n",
      "     1441 tgggccgcac gcgtgttaca ctgacgcatt catcaagcgc cacaccttgg ctcgagaggc\n",
      "     1501 ctcggtaatc ttgaaagtcc gtcgtgttag ggatagatta ttgtaattat tagtcttgaa\n",
      "     1561 cgaggaattt ctagtaaacg cgagtcatca actcgcattg attacgtccc tgtcctttat\n",
      "     1621 acacaccgcc cgtcgctact accgattgaa tcatttggtg aggctcacgg actgtcgtgc\n",
      "     1681 atccttcctc gagttggttg tgcttcttgg gaagtgatac aaacctgatg atttagagga\n",
      "     1741 agtaaaagtc gtaacaaggt ttccgtaggt gaacctgcag\n",
      "//\n",
      "\n",
      " \n",
      "\n",
      "<meta content=\"29789\" name=\"ncbi_uidlist\"/>\n",
      "ncbi_uidlist\n",
      "29789\n",
      "LOCUS       HSCD2G5                  807 bp    DNA     linear   PRI 30-SEP-1993\n",
      "DEFINITION  Human CD2 gene exon 5 and 3'-flanking region.\n",
      "ACCESSION   X07874\n",
      "VERSION     X07874.2\n",
      "KEYWORDS    CD2 antigen; glycoprotein; surface antigen; surface glycoprotein.\n",
      "SOURCE      Unknown.\n",
      "  ORGANISM  Unknown.\n",
      "            Unclassified.\n",
      "REFERENCE   1  (bases 1 to 807)\n",
      "  AUTHORS   Lang,G., Wotton,D., Owen,M.J., Sewell,W.A., Brown,M.H., Mason,D.Y.,\n",
      "            Crumpton,M.J. and Kioussis,D.\n",
      "  TITLE     The structure of the human CD2 gene and its expression in\n",
      "            transgenic mice\n",
      "  JOURNAL   EMBO J. 7 (6), 1675-1682 (1988)\n",
      "  MEDLINE   89005055\n",
      "COMMENT     [WARNING] On Feb 18, 1996 this sequence was replaced by X07874.1.\n",
      "            see x07871 - x07874\n",
      "            Data kindly reviewed (12-SEP-1988) by CRUMPTON J.\n",
      "FEATURES             Location/Qualifiers\n",
      "     source          1..807\n",
      "                     /organism=\"unknown\"\n",
      "                     /mol_type=\"unassigned DNA\"\n",
      "     source          1..807\n",
      "                     /clone=\"CD2-cos1, CD2-cos4, CD2-cos7 and CD2-cos10\"\n",
      "                     /organism=\"Homo sapiens\"\n",
      "     precursor_RNA   <1..>339\n",
      "                     /note=\"primary transcript\"\n",
      "     intron          <1..22\n",
      "                     /note=\"Intron IV (ca. 3.9 kb)\"\n",
      "     mRNA            23..>339\n",
      "                     /note=\"Exon 5\"\n",
      "     misc_feature    770..775\n",
      "                     /note=\"pot. polyA signal\"\n",
      "ORIGIN      \n",
      "        1 tattgaggtt ttgttgttgc agatgaggag ctggagacaa gagcccacag agtagctact\n",
      "       61 gaagaaaggg gccggaagcc ccaccaaatt ccagcttcaa cccctcagaa tccagcaact\n",
      "      121 tcccaacatc ctcctccacc acctggtcat cgttcccagg cacctagtca tcgtcccccg\n",
      "      181 cctcctggac accgtgttca gcaccagcct cagaagaggc ctcctgctcc gtcgggcaca\n",
      "      241 caagttcacc agcagaaagg cccgcccctc cccagacctc gagttcagcc aaaacctccc\n",
      "      301 catggggcag cagaaaactc attgtcccct tcctctaatt aaaaaagata gaaactgtct\n",
      "      361 ttttcaataa aaagcactgt ggatttctgc cctcctgatg tgcatatccg tacttccatg\n",
      "      421 aggtgttttc tgtgtgcaga acattgtcac ctcctgaggc tgtgggccac agccacctct\n",
      "      481 gcatcttcga actcagccat gtggtcaaca tctggagttt ttggtctcct cagagagctc\n",
      "      541 catcacacca gtaaggagaa gcaatataag tgtgattgca agaatggtag aggaccgagc\n",
      "      601 acagaaatct tagagatttc ttgtcccctc tcaggtcatg tgtagatgcg ataaatcaag\n",
      "      661 tgattggtgt gcctgggtct cactacaagc agcctatctg cttaagagac tctggagttt\n",
      "      721 cttatgtgcc ctggtggaca cttgcccacc atcctgtgag taaaagtgaa ataaaagctt\n",
      "      781 tgactagacc cgtgtctgct cattgtg\n",
      "//\n",
      "\n",
      " \n",
      "\n"
     ]
    }
   ],
   "source": [
    "import requests\n",
    "from bs4 import BeautifulSoup\n",
    "\n",
    "# Parsing the HTML\n",
    "for c in content_id:\n",
    "    soup_id = BeautifulSoup(c, 'html.parser')\n",
    "\n",
    "    # Procurar um tag meta com um determinado atributo\n",
    "    lines_id = soup_id.find_all('meta', {'name':\"ncbi_uidlist\"} )\n",
    "\n",
    "    id_id = \"\"\n",
    "    url_id = \"\"\n",
    "    for line in lines_id:\n",
    "        print(line)\n",
    "        if 'name' in line.attrs:\n",
    "            print(line.attrs['name'])\n",
    "        if 'content' in line.attrs:\n",
    "            print(line.attrs['content'])\t\t\n",
    "            id_id = line.attrs['content']\n",
    "    if id:\n",
    "        url_id = \"https://www.ncbi.nlm.nih.gov/sviewer/viewer.fcgi?id={}&db=nuccore&report=genbank&conwithfeat=on&hide-cdd=on&retmode=text&maxdownloadsize=5000000\".format(id_id)\n",
    "\n",
    "    r2 = requests.get(url_id)\n",
    "    r4= r2.content.decode('utf-8')\n",
    "    print (r4, '\\n')"
   ]
  },
  {
   "cell_type": "markdown",
   "metadata": {},
   "source": [
    "### Buscar ids:"
   ]
  },
  {
   "cell_type": "code",
   "execution_count": null,
   "metadata": {},
   "outputs": [],
   "source": [
    "Ids=[]\n",
    "database = 'nucleotide'\n",
    "email= 'rodrigoce9@gmail.com'\n",
    "idlist= n_genes\n",
    "handle = Entrez.efetch(db=database, id=idlist, rettype=\"gb\") \n",
    "records = list(SeqIO.parse(handle,\"gb\"))\n",
    "handle.close()\n",
    "for info in records:\n",
    "    Ids.append(info.id)\n",
    "    print(info.id)"
   ]
  },
  {
   "cell_type": "markdown",
   "metadata": {},
   "source": [
    "### Buscar quantidade de cds e a sua localização:"
   ]
  },
  {
   "cell_type": "code",
   "execution_count": null,
   "metadata": {},
   "outputs": [],
   "source": [
    "Ids=[]\n",
    "database = 'nucleotide'\n",
    "email= 'rodrigoce9@gmail.com'\n",
    "idlist= n_genes\n",
    "handle = Entrez.efetch(db=database, id=idlist, rettype=\"gb\") \n",
    "records = list(SeqIO.parse(handle,\"gb\"))\n",
    "handle.close()\n",
    "featcds = [ ]\n",
    "position=0\n",
    "pos=[]\n",
    "for info in records:\n",
    "    print(info.id)\n",
    "    for i in range(len(info.features)):\n",
    "        if info.features[i].type == \"CDS\":\n",
    "            featcds.append(i)\n",
    "            cds= i\n",
    "            a= str(cds)\n",
    "            print (len(a))\n",
    "            position=i\n",
    "            pos.append(info.features[position].location)\n",
    "            print (pos)"
   ]
  },
  {
   "cell_type": "markdown",
   "metadata": {},
   "source": [
    "### Buscar quantidade de cds e a sua localização:"
   ]
  },
  {
   "cell_type": "code",
   "execution_count": null,
   "metadata": {},
   "outputs": [],
   "source": [
    "Ids=[]\n",
    "database = 'nucleotide'\n",
    "email= 'rodrigoce9@gmail.com'\n",
    "idlist= n_genes\n",
    "handle = Entrez.efetch(db=database, id=idlist, rettype=\"gb\") \n",
    "records = list(SeqIO.parse(handle,\"gb\"))\n",
    "handle.close()\n",
    "seq=[]\n",
    "for info in records:\n",
    "    print(info.id)\n",
    "    print(info.seq[0:50],'...',info.seq[-10:])\n",
    "    print()\n",
    "    seq.append(f'{info.seq[0:50]}...{info.seq[-10:]}')\n",
    "    "
   ]
  },
  {
   "cell_type": "markdown",
   "metadata": {},
   "source": [
    "### Buscar gene description:"
   ]
  },
  {
   "cell_type": "code",
   "execution_count": null,
   "metadata": {},
   "outputs": [],
   "source": [
    "Ids=[]\n",
    "database = 'nucleotide'\n",
    "email= 'rodrigoce9@gmail.com'\n",
    "idlist= n_genes\n",
    "handle = Entrez.efetch(db=database, id=idlist, rettype=\"gb\") \n",
    "records = list(SeqIO.parse(handle,\"gb\"))\n",
    "handle.close()\n",
    "description=[]\n",
    "for info in records:\n",
    "    print(info.id)\n",
    "    print(info.description)\n",
    "    description.append(info.description)"
   ]
  },
  {
   "cell_type": "markdown",
   "metadata": {},
   "source": [
    "### Buscar artigos:"
   ]
  },
  {
   "cell_type": "code",
   "execution_count": null,
   "metadata": {},
   "outputs": [],
   "source": [
    "Ids=[]\n",
    "database = 'PubMed'\n",
    "email= 'rodrigoce9@gmail.com'\n",
    "idlist= n_genes\n",
    "handle = Entrez.efetch(db=database, id=idlist, rettype=\"medline\", retmode=\"text\") \n",
    "records = Medline.parse(handle)\n",
    "description=[]\n",
    "for info in records:\n",
    "    print(\"title:\", info.get(\"TI\", \"-\"))\n",
    "    print('authors: ', info.get(\"AU\", \"-\"))\n",
    "    print(\"source:\", info.get(\"SO\", \"-\"))\n",
    "    print(\"affiliation: \", info.get(\"AD\", \"-\") ) # FAZER O IF/ELSE PARA O CASO DE NÃO TER AFFILIATION\n",
    "    print()"
   ]
  },
  {
   "cell_type": "code",
   "execution_count": null,
   "metadata": {},
   "outputs": [],
   "source": []
  }
 ],
 "metadata": {
  "authors": [
   {
    "name": "Jorge Gustavo Rocha"
   }
  ],
  "kernelspec": {
   "display_name": "Python 3 (ipykernel)",
   "language": "python",
   "name": "python3"
  },
  "language_info": {
   "codemirror_mode": {
    "name": "ipython",
    "version": 3
   },
   "file_extension": ".py",
   "mimetype": "text/x-python",
   "name": "python",
   "nbconvert_exporter": "python",
   "pygments_lexer": "ipython3",
   "version": "3.9.12"
  },
  "vscode": {
   "interpreter": {
    "hash": "916dbcbb3f70747c44a77c7bcd40155683ae19c65e1c03b4aa3499c5328201f1"
   }
  }
 },
 "nbformat": 4,
 "nbformat_minor": 2
}
