{
 "cells": [
  {
   "cell_type": "code",
   "execution_count": 2,
   "metadata": {},
   "outputs": [],
   "source": [
    "from Bio.Blast import NCBIXML \n",
    "from Bio.Blast import NCBIWWW\n",
    "import requests, sys, json\n",
    "import re\n",
    "from Bio import SeqIO\n",
    "from Bio import Entrez\n",
    "from Bio import Medline\n",
    "import pandas as pd\n",
    "import numpy as np\n",
    "from tqdm import tqdm\n",
    "from Bio import SearchIO\n",
    "from Bio.SeqRecord import SeqRecord\n",
    "from Bio.Seq import Seq\n",
    "from bs4 import BeautifulSoup"
   ]
  },
  {
   "cell_type": "markdown",
   "metadata": {},
   "source": [
    "### web scraping (escolher condição e nº de genes)"
   ]
  },
  {
   "cell_type": "code",
   "execution_count": 360,
   "metadata": {},
   "outputs": [
    {
     "name": "stdout",
     "output_type": "stream",
     "text": [
      "escolha o que quer pesquisar: diabetes\n",
      "escolha o nº de genes que quer obter (máximo 20) atenção que o reultado pode ser menor que o desejado: 20\n",
      "['16847', '1493', '7422', '3569', '1029', '5468', '387082', '79068', '3630', '6934', '170801', '3481', '3784', '26191', '170802', '3559', '3667', '3172', '6927', '3375']\n"
     ]
    }
   ],
   "source": [
    "query= input('escolha o que quer pesquisar: ')\n",
    "def url_get(i):\n",
    "    url_list= [ ]\n",
    "    url = \"https://www.ncbi.nlm.nih.gov/gene/?term={}\".format( query )\n",
    "    url_list.append(url)\n",
    "    return url_list\n",
    "url_get(1)\n",
    "\n",
    "content = []\n",
    "for url in url_get(1):\n",
    "    r = requests.get(url)\n",
    "    content.append(r.content)\n",
    "#print(content)\n",
    "\n",
    "# Parsing the HTML\n",
    "for c in content:\n",
    "    soup = BeautifulSoup(c, 'html.parser')\n",
    "    a= soup.get_text()\n",
    "#     print (a)\n",
    "\n",
    "exist = re.findall(r\"ID:\\s+\\d*(?=\\D)\", a, re.DOTALL)\n",
    "\n",
    "c= ', '.join(exist)\n",
    "h= c.replace('ID: ','')\n",
    "IDS= h.split(', ')\n",
    "\n",
    "n_genes= IDS[0:int(input('escolha o nº de genes que quer obter (máximo 20) atenção que o reultado pode ser menor que o desejado: '))] #can be more. related to ncbi pagination\n",
    "print(n_genes)\n",
    "\n",
    "if n_genes == ['']:\n",
    "    print (\"Não encontramos resultado para a sua pesquisa\")\n",
    "# else:\n",
    "#     print (n_genes)"
   ]
  },
  {
   "cell_type": "markdown",
   "metadata": {},
   "source": [
    "### Buscar Links dos genes:"
   ]
  },
  {
   "cell_type": "code",
   "execution_count": 357,
   "metadata": {},
   "outputs": [
    {
     "data": {
      "text/plain": [
       "['https://www.ncbi.nlm.nih.gov/nuccore/424122',\n",
       " 'https://www.ncbi.nlm.nih.gov/nuccore/29789',\n",
       " 'https://www.ncbi.nlm.nih.gov/nuccore/26245415',\n",
       " 'https://www.ncbi.nlm.nih.gov/nuccore/20918',\n",
       " 'https://www.ncbi.nlm.nih.gov/nuccore/24563533',\n",
       " 'https://www.ncbi.nlm.nih.gov/nuccore/39874648',\n",
       " 'https://www.ncbi.nlm.nih.gov/nuccore/4839978',\n",
       " 'https://www.ncbi.nlm.nih.gov/nuccore/42049400',\n",
       " 'https://www.ncbi.nlm.nih.gov/nuccore/42048491',\n",
       " 'https://www.ncbi.nlm.nih.gov/nuccore/36516274',\n",
       " 'https://www.ncbi.nlm.nih.gov/nuccore/35606568',\n",
       " 'https://www.ncbi.nlm.nih.gov/nuccore/35598500',\n",
       " 'https://www.ncbi.nlm.nih.gov/nuccore/24564880',\n",
       " 'https://www.ncbi.nlm.nih.gov/nuccore/24564814',\n",
       " 'https://www.ncbi.nlm.nih.gov/nuccore/13446414']"
      ]
     },
     "execution_count": 357,
     "metadata": {},
     "output_type": "execute_result"
    }
   ],
   "source": [
    "#não usamos\n",
    "def url_get_id(i):\n",
    "    url_list= [ ]\n",
    "    for id in n_genes:\n",
    "        url = \"https://www.ncbi.nlm.nih.gov/nuccore/{}\".format( id )\n",
    "        url_list.append(url)\n",
    "    return url_list\n",
    "url_get_id(n_genes) "
   ]
  },
  {
   "cell_type": "markdown",
   "metadata": {},
   "source": [
    "### Buscar ids do ncbi:"
   ]
  },
  {
   "cell_type": "code",
   "execution_count": 361,
   "metadata": {
    "scrolled": true
   },
   "outputs": [
    {
     "name": "stdout",
     "output_type": "stream",
     "text": [
      "11 ['Z17674.1', 'V00883.1', 'X67017.1', 'X61243.1', 'M90830.1', 'Z15032.1', 'V01310.1', 'M94340.1', 'X54964.1', 'Z19157.1', 'X05328.1']\n"
     ]
    }
   ],
   "source": [
    "Ids=[]\n",
    "database = 'nucleotide'\n",
    "email= 'rodrigoce9@gmail.com'\n",
    "idlist= n_genes\n",
    "handle = Entrez.efetch(db=database, id=idlist, rettype=\"gb\") \n",
    "records = list(SeqIO.parse(handle,\"gb\"))\n",
    "handle.close()\n",
    "for info in records:\n",
    "    Ids.append(info.id)\n",
    "print(len(Ids), Ids)"
   ]
  },
  {
   "cell_type": "markdown",
   "metadata": {},
   "source": [
    "### Buscar quantidade de cds e a sua localização:"
   ]
  },
  {
   "cell_type": "code",
   "execution_count": 70,
   "metadata": {},
   "outputs": [
    {
     "name": "stdout",
     "output_type": "stream",
     "text": [
      "True\n",
      "True\n",
      "[FeatureLocation(ExactPosition(145), ExactPosition(949), strand=1), FeatureLocation(BeforePosition(0), AfterPosition(92), strand=1)]\n"
     ]
    }
   ],
   "source": [
    "#original\n",
    "database = 'nucleotide'\n",
    "email= 'rodrigoce9@gmail.com'\n",
    "idlist= n_genes\n",
    "handle = Entrez.efetch(db=database, id=idlist, rettype=\"gb\") \n",
    "records = list(SeqIO.parse(handle,\"gb\"))\n",
    "handle.close()\n",
    "featcds = [ ]\n",
    "position=0\n",
    "cds_location=[]\n",
    "for info in records:\n",
    "#     print(info.id)\n",
    "    for i in range(len(info.features)):\n",
    "        if info.features[i].type == \"CDS\":\n",
    "            print(info.features[i].type == \"CDS\")\n",
    "            featcds.append(i)\n",
    "            cds=i\n",
    "            a=str(cds)\n",
    "#             print (len(a))\n",
    "            position=i\n",
    "            cds_location.append(info.features[position].location)\n",
    "print(cds_location)\n",
    "            \n",
    "# print (pos)"
   ]
  },
  {
   "cell_type": "code",
   "execution_count": 39,
   "metadata": {},
   "outputs": [],
   "source": [
    "Ids.append('NG_009030.2')"
   ]
  },
  {
   "cell_type": "code",
   "execution_count": 362,
   "metadata": {},
   "outputs": [
    {
     "name": "stdout",
     "output_type": "stream",
     "text": [
      "['V00883.1', ['[223 : 316]', '[440 : 662]', '[1479 : 1608]', '[1077 : 1206]', '[1299 : 1359]', '[1460 : 1652]', '[1955 : 2632]', '[2996 : 3173]', '[3220 : 3314]', '[3557 : 3713]', '[3759 : 4226]', '[4474 : 4558]', '[4927 : 5093]', '[5604 : 5666]', '[5744 : 5837]', '[5885 : 6060]', '[11965 : 12069]', '[12179 : 12279]', '[10518 : 10605]', '[9659 : 10043]', '[9482 : 9611]', '[9157 : 9434]', '[8593 : 9110]', '[8461 : 8540]', '[8174 : 8408]', '[7810 : 8097]', '[7509 : 7723]', '[6491 : 7055]', '[6320 : 6440]', '[6211 : 6271]', '[18977 : 19035]', '[18483 : 18569]', '[18040 : 18433]', '[17645 : 17973]', '[17229 : 17598]', '[17059 : 17182]', '[16839 : 17013]', '[16317 : 16791]', '[15591 : 15953]', '[15410 : 15546]', '[15063 : 15361]', '[14610 : 14807]', '[14264 : 14561]', '[14026 : 14212]', '[13481 : 13976]', '[13171 : 13353]', '[12886 : 13124]', '[12746 : 12826]', '[25527 : 25691]', '[25244 : 25443]', '[25117 : 25190]', '[24440 : 24847]', '[23979 : 24232]', '[23558 : 23921]', '[23361 : 23484]', '[23210 : 23315]', '[23090 : 23159]', '[22095 : 23043]', '[21062 : 22028]', '[20763 : 20961]', '[20431 : 20692]', '[19974 : 20151]', '[19618 : 19927]', '[19471 : 19542]', '[34893 : 34962]', '[29461 : 29639]', '[29324 : 29418]', '[29177 : 29274]', '[28956 : 29113]', '[28833 : 28906]', '[28724 : 28784]', '[28383 : 28514]', '[28158 : 28339]', '[27851 : 27999]']]\n",
      "['X67017.1', '[246 : 921]']\n",
      "['Z15032.1', '[<0 : >228]']\n",
      "['V01310.1', '[1331 : 3731]']\n",
      "['X54964.1', '[906 : 2721]']\n",
      "['Z19157.1', ['[223 : 316]', '[440 : 662]', '[1479 : 1608]', '[1077 : 1206]', '[1299 : 1359]', '[1460 : 1652]', '[1955 : 2632]', '[2996 : 3173]', '[3220 : 3314]', '[3557 : 3713]', '[3759 : 4226]', '[4474 : 4558]', '[4927 : 5093]', '[5604 : 5666]', '[5744 : 5837]', '[5885 : 6060]', '[11965 : 12069]', '[12179 : 12279]', '[10518 : 10605]', '[9659 : 10043]', '[9482 : 9611]', '[9157 : 9434]', '[8593 : 9110]', '[8461 : 8540]', '[8174 : 8408]', '[7810 : 8097]', '[7509 : 7723]', '[6491 : 7055]', '[6320 : 6440]', '[6211 : 6271]', '[18977 : 19035]', '[18483 : 18569]', '[18040 : 18433]', '[17645 : 17973]', '[17229 : 17598]', '[17059 : 17182]', '[16839 : 17013]', '[16317 : 16791]', '[15591 : 15953]', '[15410 : 15546]', '[15063 : 15361]', '[14610 : 14807]', '[14264 : 14561]', '[14026 : 14212]', '[13481 : 13976]', '[13171 : 13353]', '[12886 : 13124]', '[12746 : 12826]', '[25527 : 25691]', '[25244 : 25443]', '[25117 : 25190]', '[24440 : 24847]', '[23979 : 24232]', '[23558 : 23921]', '[23361 : 23484]', '[23210 : 23315]', '[23090 : 23159]', '[22095 : 23043]', '[21062 : 22028]', '[20763 : 20961]', '[20431 : 20692]', '[19974 : 20151]', '[19618 : 19927]', '[19471 : 19542]', '[34893 : 34962]', '[29461 : 29639]', '[29324 : 29418]', '[29177 : 29274]', '[28956 : 29113]', '[28833 : 28906]', '[28724 : 28784]', '[28383 : 28514]', '[28158 : 28339]', '[27851 : 27999]']]\n",
      "['Z19157.1', ['[223 : 316]', '[440 : 662]', '[1479 : 1608]', '[1077 : 1206]', '[1299 : 1359]', '[1460 : 1652]', '[1955 : 2632]', '[2996 : 3173]', '[3220 : 3314]', '[3557 : 3713]', '[3759 : 4226]', '[4474 : 4558]', '[4927 : 5093]', '[5604 : 5666]', '[5744 : 5837]', '[5885 : 6060]', '[11965 : 12069]', '[12179 : 12279]', '[10518 : 10605]', '[9659 : 10043]', '[9482 : 9611]', '[9157 : 9434]', '[8593 : 9110]', '[8461 : 8540]', '[8174 : 8408]', '[7810 : 8097]', '[7509 : 7723]', '[6491 : 7055]', '[6320 : 6440]', '[6211 : 6271]', '[18977 : 19035]', '[18483 : 18569]', '[18040 : 18433]', '[17645 : 17973]', '[17229 : 17598]', '[17059 : 17182]', '[16839 : 17013]', '[16317 : 16791]', '[15591 : 15953]', '[15410 : 15546]', '[15063 : 15361]', '[14610 : 14807]', '[14264 : 14561]', '[14026 : 14212]', '[13481 : 13976]', '[13171 : 13353]', '[12886 : 13124]', '[12746 : 12826]', '[25527 : 25691]', '[25244 : 25443]', '[25117 : 25190]', '[24440 : 24847]', '[23979 : 24232]', '[23558 : 23921]', '[23361 : 23484]', '[23210 : 23315]', '[23090 : 23159]', '[22095 : 23043]', '[21062 : 22028]', '[20763 : 20961]', '[20431 : 20692]', '[19974 : 20151]', '[19618 : 19927]', '[19471 : 19542]', '[34893 : 34962]', '[29461 : 29639]', '[29324 : 29418]', '[29177 : 29274]', '[28956 : 29113]', '[28833 : 28906]', '[28724 : 28784]', '[28383 : 28514]', '[28158 : 28339]', '[27851 : 27999]']]\n",
      "['Z19157.1', ['[223 : 316]', '[440 : 662]', '[1479 : 1608]', '[1077 : 1206]', '[1299 : 1359]', '[1460 : 1652]', '[1955 : 2632]', '[2996 : 3173]', '[3220 : 3314]', '[3557 : 3713]', '[3759 : 4226]', '[4474 : 4558]', '[4927 : 5093]', '[5604 : 5666]', '[5744 : 5837]', '[5885 : 6060]', '[11965 : 12069]', '[12179 : 12279]', '[10518 : 10605]', '[9659 : 10043]', '[9482 : 9611]', '[9157 : 9434]', '[8593 : 9110]', '[8461 : 8540]', '[8174 : 8408]', '[7810 : 8097]', '[7509 : 7723]', '[6491 : 7055]', '[6320 : 6440]', '[6211 : 6271]', '[18977 : 19035]', '[18483 : 18569]', '[18040 : 18433]', '[17645 : 17973]', '[17229 : 17598]', '[17059 : 17182]', '[16839 : 17013]', '[16317 : 16791]', '[15591 : 15953]', '[15410 : 15546]', '[15063 : 15361]', '[14610 : 14807]', '[14264 : 14561]', '[14026 : 14212]', '[13481 : 13976]', '[13171 : 13353]', '[12886 : 13124]', '[12746 : 12826]', '[25527 : 25691]', '[25244 : 25443]', '[25117 : 25190]', '[24440 : 24847]', '[23979 : 24232]', '[23558 : 23921]', '[23361 : 23484]', '[23210 : 23315]', '[23090 : 23159]', '[22095 : 23043]', '[21062 : 22028]', '[20763 : 20961]', '[20431 : 20692]', '[19974 : 20151]', '[19618 : 19927]', '[19471 : 19542]', '[34893 : 34962]', '[29461 : 29639]', '[29324 : 29418]', '[29177 : 29274]', '[28956 : 29113]', '[28833 : 28906]', '[28724 : 28784]', '[28383 : 28514]', '[28158 : 28339]', '[27851 : 27999]']]\n",
      "['Z19157.1', ['[223 : 316]', '[440 : 662]', '[1479 : 1608]', '[1077 : 1206]', '[1299 : 1359]', '[1460 : 1652]', '[1955 : 2632]', '[2996 : 3173]', '[3220 : 3314]', '[3557 : 3713]', '[3759 : 4226]', '[4474 : 4558]', '[4927 : 5093]', '[5604 : 5666]', '[5744 : 5837]', '[5885 : 6060]', '[11965 : 12069]', '[12179 : 12279]', '[10518 : 10605]', '[9659 : 10043]', '[9482 : 9611]', '[9157 : 9434]', '[8593 : 9110]', '[8461 : 8540]', '[8174 : 8408]', '[7810 : 8097]', '[7509 : 7723]', '[6491 : 7055]', '[6320 : 6440]', '[6211 : 6271]', '[18977 : 19035]', '[18483 : 18569]', '[18040 : 18433]', '[17645 : 17973]', '[17229 : 17598]', '[17059 : 17182]', '[16839 : 17013]', '[16317 : 16791]', '[15591 : 15953]', '[15410 : 15546]', '[15063 : 15361]', '[14610 : 14807]', '[14264 : 14561]', '[14026 : 14212]', '[13481 : 13976]', '[13171 : 13353]', '[12886 : 13124]', '[12746 : 12826]', '[25527 : 25691]', '[25244 : 25443]', '[25117 : 25190]', '[24440 : 24847]', '[23979 : 24232]', '[23558 : 23921]', '[23361 : 23484]', '[23210 : 23315]', '[23090 : 23159]', '[22095 : 23043]', '[21062 : 22028]', '[20763 : 20961]', '[20431 : 20692]', '[19974 : 20151]', '[19618 : 19927]', '[19471 : 19542]', '[34893 : 34962]', '[29461 : 29639]', '[29324 : 29418]', '[29177 : 29274]', '[28956 : 29113]', '[28833 : 28906]', '[28724 : 28784]', '[28383 : 28514]', '[28158 : 28339]', '[27851 : 27999]']]\n",
      "['Z19157.1', ['[223 : 316]', '[440 : 662]', '[1479 : 1608]', '[1077 : 1206]', '[1299 : 1359]', '[1460 : 1652]', '[1955 : 2632]', '[2996 : 3173]', '[3220 : 3314]', '[3557 : 3713]', '[3759 : 4226]', '[4474 : 4558]', '[4927 : 5093]', '[5604 : 5666]', '[5744 : 5837]', '[5885 : 6060]', '[11965 : 12069]', '[12179 : 12279]', '[10518 : 10605]', '[9659 : 10043]', '[9482 : 9611]', '[9157 : 9434]', '[8593 : 9110]', '[8461 : 8540]', '[8174 : 8408]', '[7810 : 8097]', '[7509 : 7723]', '[6491 : 7055]', '[6320 : 6440]', '[6211 : 6271]', '[18977 : 19035]', '[18483 : 18569]', '[18040 : 18433]', '[17645 : 17973]', '[17229 : 17598]', '[17059 : 17182]', '[16839 : 17013]', '[16317 : 16791]', '[15591 : 15953]', '[15410 : 15546]', '[15063 : 15361]', '[14610 : 14807]', '[14264 : 14561]', '[14026 : 14212]', '[13481 : 13976]', '[13171 : 13353]', '[12886 : 13124]', '[12746 : 12826]', '[25527 : 25691]', '[25244 : 25443]', '[25117 : 25190]', '[24440 : 24847]', '[23979 : 24232]', '[23558 : 23921]', '[23361 : 23484]', '[23210 : 23315]', '[23090 : 23159]', '[22095 : 23043]', '[21062 : 22028]', '[20763 : 20961]', '[20431 : 20692]', '[19974 : 20151]', '[19618 : 19927]', '[19471 : 19542]', '[34893 : 34962]', '[29461 : 29639]', '[29324 : 29418]', '[29177 : 29274]', '[28956 : 29113]', '[28833 : 28906]', '[28724 : 28784]', '[28383 : 28514]', '[28158 : 28339]', '[27851 : 27999]']]\n",
      "['Z19157.1', ['[223 : 316]', '[440 : 662]', '[1479 : 1608]', '[1077 : 1206]', '[1299 : 1359]', '[1460 : 1652]', '[1955 : 2632]', '[2996 : 3173]', '[3220 : 3314]', '[3557 : 3713]', '[3759 : 4226]', '[4474 : 4558]', '[4927 : 5093]', '[5604 : 5666]', '[5744 : 5837]', '[5885 : 6060]', '[11965 : 12069]', '[12179 : 12279]', '[10518 : 10605]', '[9659 : 10043]', '[9482 : 9611]', '[9157 : 9434]', '[8593 : 9110]', '[8461 : 8540]', '[8174 : 8408]', '[7810 : 8097]', '[7509 : 7723]', '[6491 : 7055]', '[6320 : 6440]', '[6211 : 6271]', '[18977 : 19035]', '[18483 : 18569]', '[18040 : 18433]', '[17645 : 17973]', '[17229 : 17598]', '[17059 : 17182]', '[16839 : 17013]', '[16317 : 16791]', '[15591 : 15953]', '[15410 : 15546]', '[15063 : 15361]', '[14610 : 14807]', '[14264 : 14561]', '[14026 : 14212]', '[13481 : 13976]', '[13171 : 13353]', '[12886 : 13124]', '[12746 : 12826]', '[25527 : 25691]', '[25244 : 25443]', '[25117 : 25190]', '[24440 : 24847]', '[23979 : 24232]', '[23558 : 23921]', '[23361 : 23484]', '[23210 : 23315]', '[23090 : 23159]', '[22095 : 23043]', '[21062 : 22028]', '[20763 : 20961]', '[20431 : 20692]', '[19974 : 20151]', '[19618 : 19927]', '[19471 : 19542]', '[34893 : 34962]', '[29461 : 29639]', '[29324 : 29418]', '[29177 : 29274]', '[28956 : 29113]', '[28833 : 28906]', '[28724 : 28784]', '[28383 : 28514]', '[28158 : 28339]', '[27851 : 27999]']]\n",
      "['X05328.1', '[311 : 1379]']\n"
     ]
    }
   ],
   "source": [
    "#final\n",
    "from Bio.SeqFeature import CompoundLocation\n",
    "def get_CDS_location(id_list):\n",
    "    database = 'nucleotide'\n",
    "    email= 'rodrigoce9@gmail.com'\n",
    "    Entrez.email = email\n",
    "    handle = Entrez.efetch(db=database, id=id_list, rettype=\"gb\") \n",
    "    records = list(SeqIO.parse(handle,\"gb\"))\n",
    "    handle.close()\n",
    "    cds_location_list = []\n",
    "    several_location = []\n",
    "    for info in records:\n",
    "        for i in range(len(info.features)):\n",
    "            if info.features[i].type == \"CDS\":\n",
    "                cds_location = []\n",
    "                cds_location.append(info.id)\n",
    "                if isinstance(info.features[i].location, CompoundLocation):\n",
    "                    for sub_location in info.features[i].location.parts:\n",
    "                        several_location.append(\"[{} : {}]\".format(sub_location.start, sub_location.end))\n",
    "                    cds_location.append(several_location)\n",
    "                else:\n",
    "                    cds_location.append(\"[{} : {}]\".format(info.features[i].location.start, info.features[i].location.end))\n",
    "                cds_location_list.append(cds_location)\n",
    "    return cds_location_list\n",
    "for i in get_CDS_location(Ids):\n",
    "    print(i)\n",
    "\n",
    "# < indicates 5' to 3' (forward direction)\n",
    "# < indicates 3' to 5' (reverse direction)  one of the sugestion to improve work ++++++++++++++++++++++++++++++++"
   ]
  },
  {
   "cell_type": "markdown",
   "metadata": {},
   "source": [
    "### Buscar Ids de proteinas"
   ]
  },
  {
   "cell_type": "code",
   "execution_count": 123,
   "metadata": {},
   "outputs": [
    {
     "name": "stdout",
     "output_type": "stream",
     "text": [
      "['CAA24252.1', 'CAA47407.1']\n"
     ]
    }
   ],
   "source": [
    "#original\n",
    "list_pro=[]\n",
    "database = 'nucleotide'\n",
    "email= 'rodrigoce9@gmail.com'\n",
    "idlist= n_genes\n",
    "handle = Entrez.efetch(db=database, id=idlist, rettype=\"gb\") \n",
    "records = list(SeqIO.parse(handle,\"gb\"))\n",
    "handle.close()\n",
    "for info in records:\n",
    "    for i in info.features:\n",
    "        if i.type == \"CDS\":\n",
    "            pro= str(i.qualifiers[\"protein_id\"])\n",
    "            list_pro.append(pro)\n",
    "div= ', '.join(list_pro)\n",
    "h= div.replace(\"['\",'')\n",
    "hh= h.replace(\"']\",'')\n",
    "ID_PROT= hh.split(', ')\n",
    "print (ID_PROT) # is used below in Uniprot"
   ]
  },
  {
   "cell_type": "code",
   "execution_count": 363,
   "metadata": {},
   "outputs": [
    {
     "name": "stdout",
     "output_type": "stream",
     "text": [
      "{'Z17674.1': 'N/A', 'V00883.1': 'CAA24252.1', 'X67017.1': 'CAA47407.1', 'X61243.1': 'N/A', 'M90830.1': 'N/A', 'Z15032.1': 'CAA78750.1', 'V01310.1': 'CAA24617.1', 'M94340.1': 'N/A', 'X54964.1': 'CAA38712.1', 'Z19157.1': 'CAB63418.2, CAE18055.3, CAA79568.2, CAA79570.2, CAA79569.3, CAA79566.3', 'X05328.1': 'CAA28945.1'}\n"
     ]
    }
   ],
   "source": [
    "#FINAL\n",
    "result_dict = {}\n",
    "database = 'nucleotide'\n",
    "email= 'rodrigoce9@gmail.com'\n",
    "idlist=Ids\n",
    "# idlist= Ids.remove('U49845')\n",
    "for ids in idlist:\n",
    "    list_pro=[]\n",
    "    handle = Entrez.efetch(db=database, id=ids, rettype=\"gb\") \n",
    "    records = list(SeqIO.parse(handle,\"gb\"))\n",
    "    handle.close()\n",
    "    for info in records:\n",
    "        list_pro.append(info.id)\n",
    "        for i in info.features:\n",
    "            if i.type == \"CDS\":\n",
    "                pro= str(i.qualifiers[\"protein_id\"])\n",
    "                list_pro.append(pro)\n",
    "        if len(list_pro)==1: #if no protein_id was found\n",
    "            result_dict[info.id] = \"N/A\"\n",
    "        else:\n",
    "            list_pro = [x.replace(\"['\",'').replace(\"']\",'') for x in list_pro]\n",
    "            result_dict[info.id] = ', '.join(list_pro[1:])\n",
    "print(result_dict)\n",
    "#key: id_genebank values: id_Uniprot"
   ]
  },
  {
   "cell_type": "code",
   "execution_count": 306,
   "metadata": {},
   "outputs": [],
   "source": [
    "#TESTE\n",
    "# lista =[]\n",
    "# database = 'nucleotide'\n",
    "# email= 'rodrigoce9@gmail.com'\n",
    "\n",
    "# list_pro=[]\n",
    "# handle = Entrez.efetch(db=database, id='U49845', rettype=\"gb\") \n",
    "# records = list(SeqIO.parse(handle,\"gb\"))\n",
    "# handle.close()\n",
    "# for info in records:\n",
    "#     list_pro.append(info.id)\n",
    "#     for i in info.features:\n",
    "#         if i.type == \"CDS\":\n",
    "#             pro= str(i.qualifiers[\"protein_id\"])\n",
    "#             list_pro.append(pro)\n",
    "\n",
    "# div= ', '.join(list_pro)\n",
    "# h= div.replace(\"['\",'')\n",
    "# hh= h.replace(\"']\",'')\n",
    "# ID_PROT= hh.split(', ')\n",
    "# lista.append(ID_PROT)\n",
    "# print(lista) "
   ]
  },
  {
   "cell_type": "markdown",
   "metadata": {},
   "source": [
    "### Buscar Links de proteinas:"
   ]
  },
  {
   "cell_type": "code",
   "execution_count": 364,
   "metadata": {},
   "outputs": [
    {
     "name": "stdout",
     "output_type": "stream",
     "text": [
      "['https://www.uniprot.org/uniprotkb?query=CAA24252.1', 'https://www.uniprot.org/uniprotkb?query=CAA47407.1', 'https://www.uniprot.org/uniprotkb?query=CAA78750.1', 'https://www.uniprot.org/uniprotkb?query=CAA24617.1', 'https://www.uniprot.org/uniprotkb?query=CAA38712.1', 'https://www.uniprot.org/uniprotkb?query=CAB63418.2, CAE18055.3, CAA79568.2, CAA79570.2, CAA79569.3, CAA79566.3', 'https://www.uniprot.org/uniprotkb?query=CAA28945.1']\n"
     ]
    }
   ],
   "source": [
    "#final\n",
    "def url_get_id_p(dic):\n",
    "    url_list_p=[ ]\n",
    "    for key, value in dic.items():\n",
    "        if dic[key] !='N/A':\n",
    "            url_id_p= \"https://www.uniprot.org/uniprotkb?query={}\".format(value)\n",
    "            url_list_p.append(url_id_p)\n",
    "    return url_list_p\n",
    "url_ids_protein=url_get_id_p(result_dict)\n",
    "print(url_ids_protein)  # but we don't need to save this links"
   ]
  },
  {
   "cell_type": "markdown",
   "metadata": {},
   "source": [
    "### Buscar Links de proteinas na Uniprot:"
   ]
  },
  {
   "cell_type": "code",
   "execution_count": 370,
   "metadata": {},
   "outputs": [
    {
     "name": "stdout",
     "output_type": "stream",
     "text": [
      "https://www.uniprot.org/uniprotkb/P02099/entry\n"
     ]
    }
   ],
   "source": [
    "#final\n",
    "def url_get_id_p(string):\n",
    "#     print(string)\n",
    "    url_list_p=[ ]\n",
    "    url_id_p= \"https://www.uniprot.org/uniprotkb/{}/entry\".format(str(string))\n",
    "    url_list_p.append(url_id_p)\n",
    "    return ''.join(url_list_p)\n",
    "print(url_ids_protein)\n"
   ]
  },
  {
   "cell_type": "code",
   "execution_count": 323,
   "metadata": {},
   "outputs": [
    {
     "name": "stdout",
     "output_type": "stream",
     "text": [
      "P02099\n",
      "Q00873\n"
     ]
    }
   ],
   "source": [
    "for index, value in enumerate(get_list_uniprot(ID_PROT)):\n",
    "    print(get_list_uniprot(ID_PROT)[index][0])\n",
    "#     print(get_list_uniprot(ID_PROT)[index][1])\n",
    "    "
   ]
  },
  {
   "cell_type": "markdown",
   "metadata": {},
   "source": [
    "### Buscar id proteina (uniprot):"
   ]
  },
  {
   "cell_type": "code",
   "execution_count": 366,
   "metadata": {},
   "outputs": [
    {
     "name": "stdout",
     "output_type": "stream",
     "text": [
      "[['P02099', 'N/A', 'This protein functions as an embryonic globin, but the gene structure and chromosomal location resemble more closely the human gamma chain gene, which codes for a fetal globin.', 'MVHFTAEEKAAITSTWKLVDVEDAGAEALGRLLVVYPWTQRFFDSFGNLSSSSAIMGNPKVKAHGKKVLTAFGDAVKNVDDLKNTFAHLSELHCDRLHVDPENFKLLGNVLVIVLAKYFGKEFTPQVQSAWQKLVAGVATALAHKYH', 147, 'https://www.uniprot.org/uniprotkb/P02099/entry'], ['Q00873', 'Mitochondrion inner membrane {ECO:0000269|PubMed:1499554}. Note=Partially exposed to the intermembrane space. {ECO:0000305|PubMed:1499554}.', 'Lyase that catalyzes the covalent linking of the heme group to the cytochrome C1 apoprotein to produce the mature functional cytochrome. {ECO:0000269|PubMed:1499554}.', 'MMSSDQQGKCPVDEETKKLWLREHGNEAHPGATAPGNQLECSANPQDNDKTPEYHTTVDLSQSREVSTIPRTNSDRNWIYPSEKQFYEAMMKKNWDPNSDDMKVVVPLHNSINERVWNYIKSWEDKQGGEACGGIKLTNFKGDSKKLTPRAWFRSRILHLAKPFDRHDWQIDRCGKTVDYVIDFYSTDLNDANSQQQPLIYLDVRPKLNSFEGFRLRFWKSLGF', 224, 'https://www.uniprot.org/uniprotkb/Q00873/entry']]\n"
     ]
    }
   ],
   "source": [
    "#final\n",
    "def get_url(url, **kwargs):\n",
    "    response = requests.get(url, **kwargs);\n",
    "    if not response.ok:\n",
    "        print(response.text)\n",
    "        response.raise_for_status()\n",
    "        sys.exit()\n",
    "    return response\n",
    "\n",
    "def get_list_uniprot(ID_PROT):\n",
    "    results = {}\n",
    "    for i in ID_PROT:\n",
    "        result = {}\n",
    "        for field in fields:\n",
    "            result[field] = get_field_for_id(i, field)\n",
    "        results[i] = result\n",
    "    uniprot_final_list=[]\n",
    "    for key, value in results.items():\n",
    "        uniprot_list=[]\n",
    "        for x in value.values():\n",
    "            entry = re.search(r'b\\'Entry\\\\n(.+?(?=\\\\n\\'))', x, re.DOTALL)\n",
    "            function = re.search( r'b\\'Function \\[CC\\]\\\\n.{9} (.+?(?=\\\\n\\'))', x, re.DOTALL )\n",
    "            location_exist = re.search( r'b\\'Subcellular location \\[CC\\]\\\\nSUBCELLULAR LOCATION: (.+?(?=\\\\n\\'))', x, re.DOTALL )\n",
    "            location_notexist = re.search( r'b\\'Subcellular location \\[CC\\]\\\\n\\\\n\\'', x, re.DOTALL )   \n",
    "            sequence = re.search(r'b\\'Sequence\\\\n(.+?(?=\\\\n\\'))', x, re.DOTALL)\n",
    "            if entry:\n",
    "                ent=entry.group(1)\n",
    "                uniprot_list.append(entry.group(1))\n",
    "            if function:\n",
    "                uniprot_list.append(function.group(1))\n",
    "            if location_exist:\n",
    "                uniprot_list.append(location_exist.group(1))\n",
    "            if location_notexist:\n",
    "                uniprot_list.append(\"N/A\")\n",
    "            if sequence:\n",
    "                uniprot_list.append(sequence.group(1))\n",
    "                uniprot_list.append(len(sequence.group(1)))\n",
    "                uniprot_list.append(url_get_id_p(ent))\n",
    "            \n",
    "        uniprot_final_list.append(uniprot_list)\n",
    "#         uniprot_final_list.append(url_get_id_p(ent))\n",
    "        \n",
    "    return uniprot_final_list\n",
    "print(get_list_uniprot(ID_PROT)) #list of lists (ID_Uniprot, Function, Subcelular location, Protein seq, length_aa)"
   ]
  },
  {
   "cell_type": "markdown",
   "metadata": {},
   "source": [
    "### Buscar seq dos genes:"
   ]
  },
  {
   "cell_type": "code",
   "execution_count": null,
   "metadata": {},
   "outputs": [],
   "source": [
    "#Biopython\n",
    "Ids=[]\n",
    "database = 'nucleotide'\n",
    "email= 'rodrigoce9@gmail.com'\n",
    "idlist= n_genes\n",
    "handle = Entrez.efetch(db=database, id=idlist, rettype=\"gb\") \n",
    "records = list(SeqIO.parse(handle,\"gb\"))\n",
    "handle.close()\n",
    "seq=[]\n",
    "for info in records:\n",
    "    print(info.id)\n",
    "    print(info.seq[0:50],'...',info.seq[-10:])\n",
    "    print()\n",
    "    seq.append(f'{info.seq[0:50]}...{info.seq[-10:]}')\n",
    "    "
   ]
  },
  {
   "cell_type": "markdown",
   "metadata": {},
   "source": [
    "### Buscar artigos:"
   ]
  },
  {
   "cell_type": "code",
   "execution_count": null,
   "metadata": {},
   "outputs": [],
   "source": [
    "Ids=[]\n",
    "database = 'PubMed'\n",
    "email= 'rodrigoce9@gmail.com'\n",
    "idlist= n_genes\n",
    "handle = Entrez.efetch(db=database, id=idlist, rettype=\"medline\", retmode=\"text\") \n",
    "records = Medline.parse(handle)\n",
    "description=[]\n",
    "for info in records:\n",
    "    print(\"title:\", info.get(\"TI\", \"-\"))\n",
    "    print('authors: ', info.get(\"AU\", \"-\"))\n",
    "    print(\"source:\", info.get(\"SO\", \"-\"))\n",
    "    print(\"affiliation: \", info.get(\"AD\", \"-\") ) # FAZER O IF/ELSE PARA O CASO DE NÃO TER AFFILIATION\n",
    "    print()"
   ]
  },
  {
   "cell_type": "markdown",
   "metadata": {},
   "source": [
    "### Começar povoar"
   ]
  },
  {
   "cell_type": "code",
   "execution_count": 52,
   "metadata": {},
   "outputs": [
    {
     "name": "stdout",
     "output_type": "stream",
     "text": [
      "{'X03907.1': 'CAA27540.1', 'AA928418.1': 'N/A', 'AAADR0035516.1': 'N/A', 'L20655.1': 'AAA47844.1', 'AAADU0045050.1': 'N/A', 'NG_009030.2': 'NP_001361282.1'}\n",
      "['X03907.1', 'AA928418.1', 'AAADR0035516.1', 'L20655.1', 'AAADU0045050.1', 'NG_009030.2']\n",
      "['X03907.1', '[145 : 949]']\n",
      "['L20655.1', '[<0 : >92]']\n",
      "['NG_009030.2', ['[66454 : 66602]', '[196494 : 196600]', '[220376 : 220579]', '[224378 : 224564]', '[237847 : 238049]', '[239526 : 239740]', '[241074 : 241197]', '[244108 : 244243]', '[247567 : 247717]', '[251849 : 252014]', '[253604 : 253877]', '[255411 : 255748]', '[257341 : 259809]']]\n"
     ]
    }
   ],
   "source": [
    "#para povoar CDS\n",
    "print(result_dict)\n",
    "print(Ids)\n",
    "# print(get_CDS_location(Ids)[0])\n",
    "#key: id_genebank values: id_Uniprot\n",
    "for i in get_CDS_location(Ids):\n",
    "    print(i)"
   ]
  },
  {
   "cell_type": "code",
   "execution_count": 51,
   "metadata": {},
   "outputs": [
    {
     "name": "stdout",
     "output_type": "stream",
     "text": [
      "['X03907.1', '[145 : 949]', 'CAA27540.1']\n"
     ]
    }
   ],
   "source": [
    "#para povoar CDS\n",
    "\n",
    "final_list_povo=[] #(idGenebank, CDS location, idUniprot)\n",
    "list_CDS = []\n",
    "for key in result_dict:\n",
    "    list_CDS = []\n",
    "    list_CDS.append(key)\n",
    "#     print(key)\n",
    "    for index in get_CDS_location(Ids):\n",
    "        if key == index[0]:\n",
    "            list_CDS.append(index[1])\n",
    "            list_CDS.append(result_dict[key])\n",
    "            final_list_povo.append(list_CDS)\n",
    "#         print(index[0])\n",
    "print(final_list_povo[0])"
   ]
  },
  {
   "cell_type": "code",
   "execution_count": null,
   "metadata": {},
   "outputs": [],
   "source": [
    "#Povoação \"CDS\"  #incompleto, muito\n",
    "\n",
    "import mysql.connector as SQLC\n",
    "import mysql.connector\n",
    "\n",
    "\n",
    "DataBase = SQLC.connect(\n",
    "    host =\"geo.di.uminho.pt\",\n",
    "    user =\"bioinformatica\",\n",
    "    password =\"20221207\",\n",
    "    database =\"AP_db_KRG\"\n",
    ")\n",
    "DataBase.autocommit = True # allows the change be done\n",
    "\n",
    "Cursor = DataBase.cursor()\n",
    "try:\n",
    "    for index, value in enumerate(Ids):\n",
    "        #print(value)\n",
    "        #print(des[index])\n",
    "        sql= \"INSERT INTO CDS (Location, ID_genebank, ID_Uniprot) VALUES (%s, %s, %s, %s, %s, %s, %s, %s, %s, %s)\"\n",
    "        val=(get_CDS_location(Ids)[1], final_list_povo)\n",
    "#         print(type(des[index]))\n",
    "        Cursor.execute(sql,val)\n",
    "#         for values in des:\n",
    "#             Cursor.execute(f\"INSERT INTO Gene ( Description)  VALUES ('{values}')\")\n",
    "except mysql.connector.Error as e:\n",
    "    print(\"Erro na escrita na base de dados: {}\".format(e) )    \n",
    "finally:\n",
    "    DataBase.close()"
   ]
  },
  {
   "cell_type": "code",
   "execution_count": 367,
   "metadata": {},
   "outputs": [
    {
     "name": "stdout",
     "output_type": "stream",
     "text": [
      "P02099\n",
      "https://www.uniprot.org/uniprotkb/P02099/entry\n",
      "https://www.uniprot.org/uniprotkb/Q00873/entry\n"
     ]
    }
   ],
   "source": [
    "#mini testes\n",
    "# print(get_list_uniprot(ID_PROT)) #list of lists (ID_Uniprot, Function, Subcelular location, Protein seq, length_aa)\n",
    "print(get_list_uniprot(ID_PROT)[0][0])\n",
    "for index, value in enumerate(get_list_uniprot(ID_PROT)):\n",
    "    print(str(get_list_uniprot(ID_PROT)[index][5]))"
   ]
  },
  {
   "cell_type": "code",
   "execution_count": 368,
   "metadata": {},
   "outputs": [
    {
     "name": "stdout",
     "output_type": "stream",
     "text": [
      "Erro na escrita na base de dados: 1062 (23000): Duplicate entry 'P02099' for key 'PRIMARY'\n"
     ]
    }
   ],
   "source": [
    "#Povoação \"Uniprot\"\n",
    "# print(uniprot_final_list) #(ID_Uniprot, Subcelular location, Function, Protein seq, length_aa)\n",
    "\n",
    "import mysql.connector as SQLC\n",
    "import mysql.connector\n",
    "\n",
    "\n",
    "DataBase = SQLC.connect(\n",
    "    host =\"geo.di.uminho.pt\",\n",
    "    user =\"bioinformatica\",\n",
    "    password =\"20221207\",\n",
    "    database =\"AP_db_KRG\"\n",
    ")\n",
    "DataBase.autocommit = True # allows the change be done\n",
    "\n",
    "# url_ids_protein=url_get_id_p(get_list_uniprot(ID_PROT)[0][0])\n",
    "# print(url_ids_protein)\n",
    "Cursor = DataBase.cursor()\n",
    "try:\n",
    "    for index, value in enumerate(get_list_uniprot(ID_PROT)):\n",
    "        #print(value)\n",
    "        sql= \"INSERT INTO Uniprot (ID_Uniprot, Subcelular_Location, Function, Protein_sequence, length_aa, Link_Uniprot) VALUES (%s, %s, %s, %s, %s, %s)\"\n",
    "        val=(get_list_uniprot(ID_PROT)[index][0],get_list_uniprot(ID_PROT)[index][1], get_list_uniprot(ID_PROT)[index][2], get_list_uniprot(ID_PROT)[index][3], get_list_uniprot(ID_PROT)[index][4], get_list_uniprot(ID_PROT)[index][5])\n",
    "        Cursor.execute(sql,val)\n",
    "\n",
    "except mysql.connector.Error as e:\n",
    "    print(\"Erro na escrita na base de dados: {}\".format(e) )    \n",
    "finally:\n",
    "    DataBase.close()"
   ]
  },
  {
   "cell_type": "code",
   "execution_count": null,
   "metadata": {},
   "outputs": [],
   "source": [
    "import pandas as pd \n",
    "\n",
    "DataBase = SQLC.connect(\n",
    "    host =\"geo.di.uminho.pt\",\n",
    "    user =\"bioinformatica\",\n",
    "    password =\"20221207\",\n",
    "    database =\"AP_db_KRG\"\n",
    ")\n",
    "\n",
    "####### end of connection ####\n",
    "tabela = pd.read_sql(\"Select * FROM Gene\", DataBase)\n",
    "DataBase.close()\n",
    "print(tabela)"
   ]
  },
  {
   "cell_type": "code",
   "execution_count": null,
   "metadata": {},
   "outputs": [],
   "source": []
  },
  {
   "cell_type": "code",
   "execution_count": null,
   "metadata": {},
   "outputs": [],
   "source": []
  }
 ],
 "metadata": {
  "authors": [
   {
    "name": "Jorge Gustavo Rocha"
   }
  ],
  "kernelspec": {
   "display_name": "Python 3 (ipykernel)",
   "language": "python",
   "name": "python3"
  },
  "language_info": {
   "codemirror_mode": {
    "name": "ipython",
    "version": 3
   },
   "file_extension": ".py",
   "mimetype": "text/x-python",
   "name": "python",
   "nbconvert_exporter": "python",
   "pygments_lexer": "ipython3",
   "version": "3.9.12"
  },
  "vscode": {
   "interpreter": {
    "hash": "916dbcbb3f70747c44a77c7bcd40155683ae19c65e1c03b4aa3499c5328201f1"
   }
  }
 },
 "nbformat": 4,
 "nbformat_minor": 2
}
