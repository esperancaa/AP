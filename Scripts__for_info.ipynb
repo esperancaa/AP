{
 "cells": [
  {
   "cell_type": "code",
   "execution_count": 1,
   "metadata": {},
   "outputs": [],
   "source": [
    "from Bio.Blast import NCBIXML \n",
    "from Bio.Blast import NCBIWWW\n",
    "import requests, sys, json\n",
    "import re\n",
    "from Bio import SeqIO\n",
    "from Bio import Entrez\n",
    "from Bio import Medline\n",
    "import pandas as pd\n",
    "import numpy as np\n",
    "from tqdm import tqdm\n",
    "from Bio import SearchIO\n",
    "from Bio.SeqRecord import SeqRecord\n",
    "from Bio.Seq import Seq\n",
    "from bs4 import BeautifulSoup\n",
    "from Bio.SeqFeature import CompoundLocation"
   ]
  },
  {
   "cell_type": "markdown",
   "metadata": {},
   "source": [
    "### web scraping (escolher condição e nº de genes)"
   ]
  },
  {
   "cell_type": "code",
   "execution_count": 2,
   "metadata": {},
   "outputs": [
    {
     "name": "stdout",
     "output_type": "stream",
     "text": [
      "escolha o que quer pesquisar: diabtes\n",
      "escolha o nº de genes que quer obter (máximo 20) atenção que o reultado pode ser menor que o desejado: 10\n",
      "['16847', '1493', '7422', '3569', '1029', '5468', '387082', '79068', '3630', '6934']\n"
     ]
    }
   ],
   "source": [
    "#escolha do query\n",
    "query= input('escolha o que quer pesquisar: ')\n",
    "def url_get(i):\n",
    "    url_list= [ ]\n",
    "    url = \"https://www.ncbi.nlm.nih.gov/gene/?term={}\".format( query )\n",
    "    url_list.append(url)\n",
    "    return url_list\n",
    "url_get(1)\n",
    "\n",
    "content = []\n",
    "for url in url_get(1):\n",
    "    r = requests.get(url)\n",
    "    content.append(r.content)\n",
    "#print(content)\n",
    "\n",
    "# Parsing the HTML\n",
    "for c in content:\n",
    "    soup = BeautifulSoup(c, 'html.parser')\n",
    "    a= soup.get_text()\n",
    "#     print (a)\n",
    "\n",
    "exist = re.findall(r\"ID:\\s+\\d*(?=\\D)\", a, re.DOTALL)\n",
    "\n",
    "c= ', '.join(exist)\n",
    "h= c.replace('ID: ','')\n",
    "IDS= h.split(', ')\n",
    "\n",
    "n_genes= IDS[0:int(input('escolha o nº de genes que quer obter (máximo 20) atenção que o reultado pode ser menor que o desejado: '))] #can be more. related to ncbi pagination\n",
    "print(n_genes)\n",
    "\n",
    "if n_genes == ['']:\n",
    "    print (\"Não encontramos resultado para a sua pesquisa\")\n",
    "# else:\n",
    "#     print (n_genes)"
   ]
  },
  {
   "cell_type": "markdown",
   "metadata": {},
   "source": [
    "### Buscar Links dos genes:"
   ]
  },
  {
   "cell_type": "code",
   "execution_count": 66,
   "metadata": {},
   "outputs": [],
   "source": [
    "# FINAL - necessário em pubmed (para script do rodrigo)\n",
    "def url_get_id(i):\n",
    "    url_list= [ ]\n",
    "    for id in i:\n",
    "        url = \"https://www.ncbi.nlm.nih.gov/nuccore/{}\".format(id)\n",
    "        url_list.append(url)\n",
    "    return url_list\n",
    "# url_get_id(Ids) "
   ]
  },
  {
   "cell_type": "markdown",
   "metadata": {},
   "source": [
    "### Buscar ids do ncbi: Ids"
   ]
  },
  {
   "cell_type": "code",
   "execution_count": 3,
   "metadata": {
    "scrolled": true
   },
   "outputs": [
    {
     "name": "stderr",
     "output_type": "stream",
     "text": [
      "C:\\Users\\Karyna\\anaconda3\\lib\\site-packages\\Bio\\Entrez\\__init__.py:658: UserWarning: \n",
      "Email address is not specified.\n",
      "\n",
      "To make use of NCBI's E-utilities, NCBI requires you to specify your\n",
      "email address with each request.  As an example, if your email address\n",
      "is A.N.Other@example.com, you can specify it as follows:\n",
      "   from Bio import Entrez\n",
      "   Entrez.email = 'A.N.Other@example.com'\n",
      "In case of excessive usage of the E-utilities, NCBI will attempt to contact\n",
      "a user at the email address provided before blocking access to the\n",
      "E-utilities.\n",
      "  warnings.warn(\n"
     ]
    },
    {
     "name": "stdout",
     "output_type": "stream",
     "text": [
      "['Z17674.1', 'V00883.1', 'X67017.1', 'X61243.1']\n"
     ]
    }
   ],
   "source": [
    "# FINAL - Ids   (NECESSÁRIO)\n",
    "Ids=[]\n",
    "database = 'nucleotide'\n",
    "email= 'rodrigoce9@gmail.com'\n",
    "idlist= n_genes\n",
    "handle = Entrez.efetch(db=database, id=idlist, rettype=\"gb\") \n",
    "records = list(SeqIO.parse(handle,\"gb\"))\n",
    "handle.close()\n",
    "for info in records:\n",
    "    Ids.append(info.id)\n",
    "print(Ids)"
   ]
  },
  {
   "cell_type": "markdown",
   "metadata": {},
   "source": [
    "### Buscar info para CDS: protein_id, location e product"
   ]
  },
  {
   "cell_type": "code",
   "execution_count": 4,
   "metadata": {},
   "outputs": [
    {
     "name": "stdout",
     "output_type": "stream",
     "text": [
      "['CAA24252.1', 'CAA47407.1']\n"
     ]
    }
   ],
   "source": [
    "#FINAL para protein_id - PROT_ID (NECESSÁRIO)\n",
    "list_pro=[]\n",
    "database = 'nucleotide'\n",
    "email= 'rodrigoce9@gmail.com'\n",
    "idlist= n_genes\n",
    "handle = Entrez.efetch(db=database, id=idlist, rettype=\"gb\") \n",
    "records = list(SeqIO.parse(handle,\"gb\"))\n",
    "handle.close()\n",
    "for info in records:\n",
    "    for i in info.features:\n",
    "        if i.type == \"CDS\":\n",
    "            pro= str(i.qualifiers[\"protein_id\"])\n",
    "            list_pro.append(pro)\n",
    "div= ', '.join(list_pro)\n",
    "h= div.replace(\"['\",'')\n",
    "hh= h.replace(\"']\",'')\n",
    "ID_PROT= hh.split(', ')\n",
    "print (ID_PROT) # is used below in Uniprot"
   ]
  },
  {
   "cell_type": "code",
   "execution_count": 5,
   "metadata": {},
   "outputs": [
    {
     "name": "stdout",
     "output_type": "stream",
     "text": [
      "[['N/A_CDS', ['N/A'], ['N/A'], ['N/A']], [\"['CAA24252.1']\", ['[223 : 316]', '[440 : 662]', '[1479 : 1608]'], \"['beta-3 globin']\", \"['MVHFTAEEKAAITSTWKLVDVEDAGAEALGRLLVVYPWTQRFFDSFGNLSSSSAIMGNPKVKAHGKKVLTAFGDAVKNVDDLKNTFAHLSELHCDRLHVDPENFKLLGNVLVIVLAKYFGKEFTPQVQSAWQKLVAGVATALAHKYH']\"], [\"['CAA47407.1']\", '[246 : 921]', \"['cytochrome c1 heme lyase']\", \"['MMSSDQQGKCPVDEETKKLWLREHGNEAHPGATAPGNQLECSANPQDNDKTPEYHTTVDLSQSREVSTIPRTNSDRNWIYPSEKQFYEAMMKKNWDPNSDDMKVVVPLHNSINERVWNYIKSWEDKQGGEACGGIKLTNFKGDSKKLTPRAWFRSRILHLAKPFDRHDWQIDRCGKTVDYVIDFYSTDLNDANSQQQPLIYLDVRPKLNSFEGFRLRFWKSLGF']\"]]\n"
     ]
    }
   ],
   "source": [
    "#FINAL para location, product e translation  - get_CDS_info(Ids) = [id_protein, location, product, translation] - NECESSÁRIO\n",
    "def get_CDS_info(id_list):\n",
    "    database = 'nucleotide'\n",
    "    email= 'rodrigoce9@gmail.com'\n",
    "    Entrez.email = email\n",
    "    handle = Entrez.efetch(db=database, id=id_list, rettype=\"gb\") \n",
    "    records = list(SeqIO.parse(handle,\"gb\"))\n",
    "    handle.close()\n",
    "    cds_location_list = []\n",
    "    \n",
    "    several_location = []\n",
    "    record_types={}\n",
    "    for i in id_list:\n",
    "        handle2 = Entrez.efetch(db=database, id=i, rettype=\"gb\")\n",
    "        for record in SeqIO.parse(handle2, \"genbank\"):\n",
    "            for feature in record.features:\n",
    "                record_types[feature.type]=record_types.get(feature.type,0)+1\n",
    "                cds_nonlocation, nonlocation, nonproduct, nontranslation = [], [], [], []\n",
    "            if 'CDS' not in record_types:\n",
    "                cds_nonlocation.append(\"N/A_CDS\")\n",
    "                nonlocation.append(\"N/A\")\n",
    "                nonproduct.append(\"N/A\")\n",
    "                nontranslation.append(\"N/A\")\n",
    "                cds_nonlocation.append(nonlocation)\n",
    "                cds_nonlocation.append(nonproduct)\n",
    "                cds_nonlocation.append(nontranslation)\n",
    "                cds_location_list.append(cds_nonlocation)\n",
    "#                 cds_location_list.append(nonlocation)\n",
    "                \n",
    "    handle2.close()\n",
    "    for info in records:\n",
    "        for i in info.features:\n",
    "            list_product, list_translation = [],[]\n",
    "            cds_location = []\n",
    "            product, translation = '', ''\n",
    "            if i.type == \"CDS\":\n",
    "                i_d = str(i.qualifiers[\"protein_id\"])\n",
    "                product = str(i.qualifiers[\"product\"])\n",
    "                translation =  str(i.qualifiers[\"translation\"])\n",
    "                cds_location.append(i_d)\n",
    "                if isinstance(i.location, CompoundLocation):\n",
    "                    for sub_location in i.location.parts:\n",
    "                        several_location.append(\"[{} : {}]\".format(sub_location.start, sub_location.end))\n",
    "                    cds_location.append(several_location)\n",
    "                    cds_location.append(product)\n",
    "                    cds_location.append(translation)\n",
    "                else:\n",
    "                    cds_location.append(\"[{} : {}]\".format(i.location.start, i.location.end))\n",
    "                    cds_location.append(product)\n",
    "                    cds_location.append(translation)\n",
    "                cds_location_list.append(cds_location)      \n",
    "    handle2.close()                    \n",
    "    return cds_location_list\n",
    "print(get_CDS_info(Ids))"
   ]
  },
  {
   "cell_type": "code",
   "execution_count": 7,
   "metadata": {},
   "outputs": [
    {
     "name": "stdout",
     "output_type": "stream",
     "text": [
      "['N/A_CDS', ['N/A'], ['N/A'], ['N/A']]\n",
      "['N/A_CDS', ['N/A'], ['N/A'], ['N/A']]\n",
      "['N/A_CDS', ['N/A'], ['N/A'], ['N/A']]\n",
      "['N/A_CDS', ['N/A'], ['N/A'], ['N/A']]\n",
      "['N/A_CDS', ['N/A'], ['N/A'], ['N/A']]\n",
      "['N/A_CDS', ['N/A'], ['N/A'], ['N/A']]\n",
      "['N/A_CDS', ['N/A'], ['N/A'], ['N/A']]\n",
      "['N/A_CDS', ['N/A'], ['N/A'], ['N/A']]\n"
     ]
    }
   ],
   "source": [
    "# for i in get_CDS_info(Ids):\n",
    "#     print(i)"
   ]
  },
  {
   "cell_type": "code",
   "execution_count": 61,
   "metadata": {},
   "outputs": [],
   "source": [
    "#original para product\n",
    "# for ids in Ids:\n",
    "#     list_pro=[]\n",
    "#     handle = Entrez.efetch(db=database, id=ids, rettype=\"gb\") \n",
    "#     records = list(SeqIO.parse(handle,\"gb\"))\n",
    "#     handle.close()\n",
    "#     for info in records:\n",
    "#         list_pro.append(info.id)\n",
    "#         for i in info.features:\n",
    "#             if i.type == \"CDS\":\n",
    "#                 product= str(i.qualifiers[\"product\"])\n",
    "#                 print(product)\n",
    "#                 list_pro.append(pro)"
   ]
  },
  {
   "cell_type": "code",
   "execution_count": 6,
   "metadata": {},
   "outputs": [
    {
     "name": "stdout",
     "output_type": "stream",
     "text": [
      "{'Z17674.1': 'N/A_CDS', 'V00883.1': 'CAA24252.1', 'X67017.1': 'CAA47407.1', 'X61243.1': 'N/A_CDS'}\n"
     ]
    }
   ],
   "source": [
    "#FINAL result_dic = {Ids, ID_PROT} - NECESSÁRIO\n",
    "result_dict = {}\n",
    "database = 'nucleotide'\n",
    "email= 'rodrigoce9@gmail.com'\n",
    "idlist=Ids\n",
    "# idlist= Ids.remove('U49845')\n",
    "for ids in idlist:\n",
    "    list_pro=[]\n",
    "    handle = Entrez.efetch(db=database, id=ids, rettype=\"gb\") \n",
    "    records = list(SeqIO.parse(handle,\"gb\"))\n",
    "    handle.close()\n",
    "    for info in records:\n",
    "        list_pro.append(info.id)\n",
    "        for i in info.features:\n",
    "            if i.type == \"CDS\":\n",
    "                pro= str(i.qualifiers[\"protein_id\"])\n",
    "                list_pro.append(pro)\n",
    "        if len(list_pro)==1: #if no protein_id was found\n",
    "            result_dict[info.id] = \"N/A_CDS\"\n",
    "        else:\n",
    "            list_pro = [x.replace(\"['\",'').replace(\"']\",'') for x in list_pro]\n",
    "            result_dict[info.id] = ', '.join(list_pro[1:])\n",
    "print(result_dict)\n",
    "#key: id_genebank; values: id_Uniprot"
   ]
  },
  {
   "cell_type": "markdown",
   "metadata": {},
   "source": [
    "### Buscar Links de proteinas:"
   ]
  },
  {
   "cell_type": "code",
   "execution_count": 7,
   "metadata": {},
   "outputs": [
    {
     "name": "stdout",
     "output_type": "stream",
     "text": [
      "['https://www.uniprot.org/uniprotkb?query=CAA24252.1', 'https://www.uniprot.org/uniprotkb?query=CAA47407.1']\n"
     ]
    }
   ],
   "source": [
    "#final, mas não correr (código necessário para o caso se querermos links não diretos para uniprot )\n",
    "def url_get_id_p(dic):\n",
    "    url_list_p = []\n",
    "    for key, value in dic.items():\n",
    "        if value != 'N/A_CDS':\n",
    "            value_list = value.split(',')\n",
    "            for val in value_list:\n",
    "                val = val.strip()\n",
    "                url_id_p = \"https://www.uniprot.org/uniprotkb?query={}\".format(val)\n",
    "                url_list_p.append(url_id_p)\n",
    "    return url_list_p\n",
    "url_ids_protein=url_get_id_p(result_dict)\n",
    "print(url_ids_protein) # but we don't need to save this links"
   ]
  },
  {
   "cell_type": "markdown",
   "metadata": {},
   "source": [
    "### Buscar Links de proteinas na Uniprot:"
   ]
  },
  {
   "cell_type": "code",
   "execution_count": 8,
   "metadata": {},
   "outputs": [
    {
     "name": "stdout",
     "output_type": "stream",
     "text": [
      "<function url_get_id_p at 0x00000187FD752790>\n"
     ]
    }
   ],
   "source": [
    "#FINAL (usado em baixo) - NECESSÁRIO\n",
    "def url_get_id_p(string):\n",
    "#     print(string)\n",
    "    url_list_p=[ ]\n",
    "    url_id_p= \"https://www.uniprot.org/uniprotkb/{}/entry\".format(str(string))\n",
    "    url_list_p.append(url_id_p)\n",
    "    return ''.join(url_list_p)\n",
    "print(url_get_id_p)"
   ]
  },
  {
   "cell_type": "code",
   "execution_count": 61,
   "metadata": {},
   "outputs": [],
   "source": [
    "# for index, value in enumerate(get_list_uniprot(ID_PROT)):\n",
    "#     print(get_list_uniprot(ID_PROT)[index])\n",
    "#     print(get_list_uniprot(ID_PROT)[index][1])\n",
    "    "
   ]
  },
  {
   "cell_type": "markdown",
   "metadata": {},
   "source": [
    "### Buscar id proteina (uniprot):"
   ]
  },
  {
   "cell_type": "code",
   "execution_count": 10,
   "metadata": {},
   "outputs": [
    {
     "name": "stdout",
     "output_type": "stream",
     "text": [
      "[['P02099', 'N/A', 'This protein functions as an embryonic globin, but the gene structure and chromosomal location resemble more closely the human gamma chain gene, which codes for a fetal globin.', 'MVHFTAEEKAAITSTWKLVDVEDAGAEALGRLLVVYPWTQRFFDSFGNLSSSSAIMGNPKVKAHGKKVLTAFGDAVKNVDDLKNTFAHLSELHCDRLHVDPENFKLLGNVLVIVLAKYFGKEFTPQVQSAWQKLVAGVATALAHKYH', 147, 'https://www.uniprot.org/uniprotkb/P02099/entry'], ['Q00873', 'Mitochondrion inner membrane {ECO:0000269|PubMed:1499554}. Note=Partially exposed to the intermembrane space. {ECO:0000305|PubMed:1499554}.', 'Lyase that catalyzes the covalent linking of the heme group to the cytochrome C1 apoprotein to produce the mature functional cytochrome. {ECO:0000269|PubMed:1499554}.', 'MMSSDQQGKCPVDEETKKLWLREHGNEAHPGATAPGNQLECSANPQDNDKTPEYHTTVDLSQSREVSTIPRTNSDRNWIYPSEKQFYEAMMKKNWDPNSDDMKVVVPLHNSINERVWNYIKSWEDKQGGEACGGIKLTNFKGDSKKLTPRAWFRSRILHLAKPFDRHDWQIDRCGKTVDYVIDFYSTDLNDANSQQQPLIYLDVRPKLNSFEGFRLRFWKSLGF', 224, 'https://www.uniprot.org/uniprotkb/Q00873/entry']]\n"
     ]
    }
   ],
   "source": [
    "#origianl ------------------\n",
    "WEBSITE_API = \"https://rest.uniprot.org\"\n",
    "fields = [\"accession\",\"organism_name\",\"protein_name\",\"cc_subcellular_location\",\"cc_function\", \"sequence\"]\n",
    "def get_url(url, **kwargs):\n",
    "    response = requests.get(url, **kwargs);\n",
    "    if not response.ok:\n",
    "        print(response.text)\n",
    "        response.raise_for_status()\n",
    "        sys.exit()\n",
    "    return response\n",
    "\n",
    "def get_field_for_id(ID_PROT, field):\n",
    "    response = get_url(\"{}/uniprotkb/search?query={}&fields={}&size=1&format=tsv\".format(WEBSITE_API,ID_PROT,field))\n",
    "    return str(response.content)\n",
    "\n",
    "def get_list_uniprot(ID_PROT):\n",
    "    results = {}\n",
    "    for i in ID_PROT:\n",
    "        result = {}\n",
    "        for field in fields:\n",
    "            result[field] = get_field_for_id(i, field)\n",
    "        results[i] = result\n",
    "\n",
    "    uniprot_final_list=[]\n",
    "    for key, value in results.items():\n",
    "        uniprot_list=[]\n",
    "        for x in value.values():\n",
    "#             print(key)\n",
    "            entry = re.search(r'b\\'Entry\\\\n(.+?(?=\\\\n\\'))', x, re.DOTALL)\n",
    "            function = re.match( r'b\\'Function \\[CC\\]\\\\n.{9} (.+?(?=\\\\n\\'))', x, re.DOTALL )\n",
    "            location_exist = re.search( r'b\\'Subcellular location \\[CC\\]\\\\nSUBCELLULAR LOCATION: (.+?(?=\\\\n\\'))', x, re.DOTALL )\n",
    "            location_notexist = re.search( r'b\\'Subcellular location \\[CC\\]\\\\n\\\\n\\'', x, re.DOTALL )   \n",
    "            sequence = re.search(r'b\\'Sequence\\\\n(.+?(?=\\\\n\\'))', x, re.DOTALL)\n",
    "            if entry:\n",
    "                ent=entry.group(1)\n",
    "                uniprot_list.append(entry.group(1))\n",
    "            if function:\n",
    "                uniprot_list.append(function.group(1))\n",
    "#                 print(function.group(0))\n",
    "#             if not function:\n",
    "#                 print('na')\n",
    "            if location_exist:\n",
    "                uniprot_list.append(location_exist.group(1))\n",
    "            if location_notexist:\n",
    "                uniprot_list.append(\"N/A\")\n",
    "            if sequence:\n",
    "                uniprot_list.append(sequence.group(1))\n",
    "                uniprot_list.append(len(sequence.group(1)))\n",
    "                uniprot_list.append(url_get_id_p(ent))\n",
    "                \n",
    "        uniprot_final_list.append(uniprot_list)\n",
    "        \n",
    "    return uniprot_final_list\n",
    "print(get_list_uniprot(ID_PROT)) #list of lists (ID_Uniprot, Function, Subcelular location, Protein seq, length_aa)"
   ]
  },
  {
   "cell_type": "code",
   "execution_count": 14,
   "metadata": {},
   "outputs": [
    {
     "name": "stdout",
     "output_type": "stream",
     "text": [
      "[['N/A', 'N/A', 'N/A', 'N/A', 'N/A', 'N/A'], ['P02099', 'N/A', 'This protein functions as an embryonic globin, but the gene structure and chromosomal location resemble more closely the human gamma chain gene, which codes for a fetal globin.', 'MVHFTAEEKAAITSTWKLVDVEDAGAEALGRLLVVYPWTQRFFDSFGNLSSSSAIMGNPKVKAHGKKVLTAFGDAVKNVDDLKNTFAHLSELHCDRLHVDPENFKLLGNVLVIVLAKYFGKEFTPQVQSAWQKLVAGVATALAHKYH', 147, 'https://www.uniprot.org/uniprotkb/P02099/entry'], ['Q00873', 'Mitochondrion inner membrane {ECO:0000269|PubMed:1499554}. Note=Partially exposed to the intermembrane space. {ECO:0000305|PubMed:1499554}.', 'Lyase that catalyzes the covalent linking of the heme group to the cytochrome C1 apoprotein to produce the mature functional cytochrome. {ECO:0000269|PubMed:1499554}.', 'MMSSDQQGKCPVDEETKKLWLREHGNEAHPGATAPGNQLECSANPQDNDKTPEYHTTVDLSQSREVSTIPRTNSDRNWIYPSEKQFYEAMMKKNWDPNSDDMKVVVPLHNSINERVWNYIKSWEDKQGGEACGGIKLTNFKGDSKKLTPRAWFRSRILHLAKPFDRHDWQIDRCGKTVDYVIDFYSTDLNDANSQQQPLIYLDVRPKLNSFEGFRLRFWKSLGF', 224, 'https://www.uniprot.org/uniprotkb/Q00873/entry'], ['N/A', 'N/A', 'N/A', 'N/A', 'N/A', 'N/A']]\n"
     ]
    }
   ],
   "source": [
    "#FINAL - NECESSÁRIO\n",
    "WEBSITE_API = \"https://rest.uniprot.org\"\n",
    "fields = [\"accession\",\"organism_name\",\"protein_name\",\"cc_subcellular_location\",\"cc_function\", \"sequence\"]\n",
    "def get_url(url, **kwargs):\n",
    "    response = requests.get(url, **kwargs);\n",
    "    if not response.ok:\n",
    "        print(response.text)\n",
    "        response.raise_for_status()\n",
    "        sys.exit()\n",
    "    return response\n",
    "\n",
    "def get_field_for_id(ID_PROT, field):\n",
    "    response = get_url(\"{}/uniprotkb/search?query={}&fields={}&size=1&format=tsv\".format(WEBSITE_API,ID_PROT,field))\n",
    "    return str(response.content)\n",
    "\n",
    "def get_list_uniprot(ID_PROT, result_dict):\n",
    "    results = {}\n",
    "    result = {}\n",
    "    for first_key, first_value in result_dict.items(): \n",
    "        result = {}\n",
    "        for field in fields:\n",
    "            if first_value != 'N/A_CDS':\n",
    "                result[field] = get_field_for_id(first_value, field)\n",
    "            else:\n",
    "                result[field] = 'N/A'\n",
    "            results[first_key] = result   \n",
    "    \n",
    "    uniprot_final_list=[]\n",
    "    for key, value in results.items():\n",
    "        uniprot_list=[]\n",
    "        for x in value.values():\n",
    "#             print(key)\n",
    "            entry = re.search(r'b\\'Entry\\\\n(.+?(?=\\\\n\\'))', x, re.DOTALL)\n",
    "            function = re.match( r'b\\'Function \\[CC\\]\\\\n.{9} (.+?(?=\\\\n\\'))', x, re.DOTALL )\n",
    "            location_exist = re.search( r'b\\'Subcellular location \\[CC\\]\\\\nSUBCELLULAR LOCATION: (.+?(?=\\\\n\\'))', x, re.DOTALL )\n",
    "            location_notexist = re.search( r'b\\'Subcellular location \\[CC\\]\\\\n\\\\n\\'', x, re.DOTALL )   \n",
    "            sequence = re.search(r'b\\'Sequence\\\\n(.+?(?=\\\\n\\'))', x, re.DOTALL)\n",
    "            n_a = re.search(r'(N/A)', x, re.DOTALL)\n",
    "            if entry:\n",
    "                ent=entry.group(1)\n",
    "                uniprot_list.append(entry.group(1))            \n",
    "            if function:\n",
    "                uniprot_list.append(function.group(1))\n",
    "#                 print(function.group(0))\n",
    "#             if not function:\n",
    "#                 print('na')\n",
    "            if location_exist:\n",
    "                uniprot_list.append(location_exist.group(1))\n",
    "            if location_notexist:\n",
    "                uniprot_list.append(\"N/A\")\n",
    "            if sequence:\n",
    "                uniprot_list.append(sequence.group(1))\n",
    "                uniprot_list.append(len(sequence.group(1)))\n",
    "                uniprot_list.append(url_get_id_p(ent))\n",
    "            if n_a:\n",
    "                uniprot_list.append(n_a.group(1))\n",
    "                \n",
    "        uniprot_final_list.append(uniprot_list)\n",
    "        \n",
    "    return uniprot_final_list\n",
    "print(get_list_uniprot(ID_PROT,result_dict)) #list of lists (ID_Uniprot, Function, Subcelular location, Protein seq, length_aa)"
   ]
  },
  {
   "cell_type": "code",
   "execution_count": 11,
   "metadata": {},
   "outputs": [],
   "source": [
    "#testes\n",
    "# results = {}\n",
    "# for i in ID_PROT:\n",
    "#     for field in fields:\n",
    "#         result[field] = get_field_for_id(i, field)\n",
    "#         results[i] = result\n",
    "# print(results)"
   ]
  },
  {
   "cell_type": "code",
   "execution_count": 12,
   "metadata": {},
   "outputs": [],
   "source": [
    "# #testes\n",
    "# print(result_dict)\n",
    "# print(get_list_uniprot(ID_PROT, result_dict))"
   ]
  },
  {
   "cell_type": "code",
   "execution_count": 15,
   "metadata": {},
   "outputs": [
    {
     "data": {
      "text/plain": [
       "[['Z17674.1', 'N/A_CDS', 'N/A'],\n",
       " ['V00883.1', 'CAA24252.1', 'P02099'],\n",
       " ['X67017.1', 'CAA47407.1', 'Q00873'],\n",
       " ['X61243.1', 'N/A_CDS', 'N/A']]"
      ]
     },
     "execution_count": 15,
     "metadata": {},
     "output_type": "execute_result"
    }
   ],
   "source": [
    "#FINAL [idgenebank, protein_id, id do uniprot]  -  NECESSÁRIO\n",
    "def join_ids_CDS(dic, uniprotID):\n",
    "    join_list_all = []\n",
    "    for key, value in dic.items():\n",
    "        join_list = []\n",
    "        join_list.append(key)\n",
    "        join_list.append(value)\n",
    "        join_list_all.append(join_list) \n",
    "    for index, values in enumerate(uniprotID):\n",
    "        join_list_all[index].append(uniprotID[index][0])\n",
    "    return join_list_all\n",
    "join_ids_CDS(result_dict,get_list_uniprot(ID_PROT, result_dict))"
   ]
  },
  {
   "cell_type": "code",
   "execution_count": 89,
   "metadata": {},
   "outputs": [
    {
     "name": "stdout",
     "output_type": "stream",
     "text": [
      "[['X03907.1', 'CAA27540.1', 'P0CJ48'], ['L20655.1', 'AAA47844.1', 'Q88364']]\n",
      "[[\"['CAA27540.1']\", '[145 : 949]', \"['chlorophyll a/b binding protein (LHCP AB 65)']\", \"['MAASTMALSSPAFAGKAVNLSPAASEVLGSGRVTMRKTVAKPKGPSGSPWYGSDRVKYLGPFSGESPSYLTGEFPGDYGWDTAGLSADPETFARNRELEVIHSRWAMLGALGCVFPELLARNGVKFGEAVWFKAGSQIFSDGGLDYLGNPSLVHAQSILAIWATQVILMGAVEGYRVAGNGPLGEAEDLLYPGGSFDPLGLATDPEAFAELKVKELKNGRLAMFSMFGFFVQAIVTGKGPIENLADHLADPVNNNAWAFATNFVPGK']\"], [\"['AAA47844.1']\", '[<0 : >92]', \"['gag protein']\", \"['LISEAETRGITGYNPLAGPLRVQANNPQQQG']\"]]\n"
     ]
    }
   ],
   "source": [
    "# print(join_ids_CDS(result_dict,get_list_uniprot(ID_PROT, result_dict))) #[idgenebank, protein_id, id do uniprot]\n",
    "# print(get_CDS_info(Ids)) # [id_protein, location, product, translation]\n"
   ]
  },
  {
   "cell_type": "code",
   "execution_count": 20,
   "metadata": {},
   "outputs": [
    {
     "name": "stdout",
     "output_type": "stream",
     "text": [
      "\n",
      "['X65482.1', 'N/A_CDS', 'N/A']\n",
      "['N/A_CDS', ['N/A'], ['N/A'], ['N/A']]\n",
      "['N/A_CDS', ['N/A'], ['N/A'], ['N/A']]\n",
      "['N/A_CDS', ['N/A'], ['N/A'], ['N/A']]\n",
      "['N/A_CDS', ['N/A'], ['N/A'], ['N/A']]\n",
      "['N/A_CDS', ['N/A'], ['N/A'], ['N/A']]\n",
      "['N/A_CDS', ['N/A'], ['N/A'], ['N/A']]\n",
      "['N/A_CDS', ['N/A'], ['N/A'], ['N/A']]\n",
      "['N/A_CDS', ['N/A'], ['N/A'], ['N/A']]\n",
      "['A00829.1', 'N/A_CDS', 'N/A']\n",
      "['N/A_CDS', ['N/A'], ['N/A'], ['N/A']]\n",
      "['N/A_CDS', ['N/A'], ['N/A'], ['N/A']]\n",
      "['N/A_CDS', ['N/A'], ['N/A'], ['N/A']]\n",
      "['N/A_CDS', ['N/A'], ['N/A'], ['N/A']]\n",
      "['N/A_CDS', ['N/A'], ['N/A'], ['N/A']]\n",
      "['N/A_CDS', ['N/A'], ['N/A'], ['N/A']]\n",
      "['N/A_CDS', ['N/A'], ['N/A'], ['N/A']]\n",
      "['N/A_CDS', ['N/A'], ['N/A'], ['N/A']]\n",
      "['M97702.1', 'N/A_CDS', 'N/A']\n",
      "['N/A_CDS', ['N/A'], ['N/A'], ['N/A']]\n",
      "['N/A_CDS', ['N/A'], ['N/A'], ['N/A']]\n",
      "['N/A_CDS', ['N/A'], ['N/A'], ['N/A']]\n",
      "['N/A_CDS', ['N/A'], ['N/A'], ['N/A']]\n",
      "['N/A_CDS', ['N/A'], ['N/A'], ['N/A']]\n",
      "['N/A_CDS', ['N/A'], ['N/A'], ['N/A']]\n",
      "['N/A_CDS', ['N/A'], ['N/A'], ['N/A']]\n",
      "['N/A_CDS', ['N/A'], ['N/A'], ['N/A']]\n",
      "['X68316.1', 'N/A_CDS', 'N/A']\n",
      "['N/A_CDS', ['N/A'], ['N/A'], ['N/A']]\n",
      "['N/A_CDS', ['N/A'], ['N/A'], ['N/A']]\n",
      "['N/A_CDS', ['N/A'], ['N/A'], ['N/A']]\n",
      "['N/A_CDS', ['N/A'], ['N/A'], ['N/A']]\n",
      "['N/A_CDS', ['N/A'], ['N/A'], ['N/A']]\n",
      "['N/A_CDS', ['N/A'], ['N/A'], ['N/A']]\n",
      "['N/A_CDS', ['N/A'], ['N/A'], ['N/A']]\n",
      "['N/A_CDS', ['N/A'], ['N/A'], ['N/A']]\n",
      "['AAADS0003348.1', 'N/A_CDS', 'N/A']\n",
      "['N/A_CDS', ['N/A'], ['N/A'], ['N/A']]\n",
      "['N/A_CDS', ['N/A'], ['N/A'], ['N/A']]\n",
      "['N/A_CDS', ['N/A'], ['N/A'], ['N/A']]\n",
      "['N/A_CDS', ['N/A'], ['N/A'], ['N/A']]\n",
      "['N/A_CDS', ['N/A'], ['N/A'], ['N/A']]\n",
      "['N/A_CDS', ['N/A'], ['N/A'], ['N/A']]\n",
      "['N/A_CDS', ['N/A'], ['N/A'], ['N/A']]\n",
      "['N/A_CDS', ['N/A'], ['N/A'], ['N/A']]\n",
      "['AAADW0009410.1', 'N/A_CDS', 'N/A']\n",
      "['N/A_CDS', ['N/A'], ['N/A'], ['N/A']]\n",
      "['N/A_CDS', ['N/A'], ['N/A'], ['N/A']]\n",
      "['N/A_CDS', ['N/A'], ['N/A'], ['N/A']]\n",
      "['N/A_CDS', ['N/A'], ['N/A'], ['N/A']]\n",
      "['N/A_CDS', ['N/A'], ['N/A'], ['N/A']]\n",
      "['N/A_CDS', ['N/A'], ['N/A'], ['N/A']]\n",
      "['N/A_CDS', ['N/A'], ['N/A'], ['N/A']]\n",
      "['N/A_CDS', ['N/A'], ['N/A'], ['N/A']]\n",
      "['ABAAM0346030.1', 'N/A_CDS', 'N/A']\n",
      "['N/A_CDS', ['N/A'], ['N/A'], ['N/A']]\n",
      "['N/A_CDS', ['N/A'], ['N/A'], ['N/A']]\n",
      "['N/A_CDS', ['N/A'], ['N/A'], ['N/A']]\n",
      "['N/A_CDS', ['N/A'], ['N/A'], ['N/A']]\n",
      "['N/A_CDS', ['N/A'], ['N/A'], ['N/A']]\n",
      "['N/A_CDS', ['N/A'], ['N/A'], ['N/A']]\n",
      "['N/A_CDS', ['N/A'], ['N/A'], ['N/A']]\n",
      "['N/A_CDS', ['N/A'], ['N/A'], ['N/A']]\n"
     ]
    },
    {
     "data": {
      "text/plain": [
       "[['X65482.1', 'N/A_CDS', 'N/A', ['N/A'], ['N/A'], ['N/A']],\n",
       " ['X65482.1', 'N/A_CDS', 'N/A', ['N/A'], ['N/A'], ['N/A']],\n",
       " ['X65482.1', 'N/A_CDS', 'N/A', ['N/A'], ['N/A'], ['N/A']],\n",
       " ['X65482.1', 'N/A_CDS', 'N/A', ['N/A'], ['N/A'], ['N/A']],\n",
       " ['X65482.1', 'N/A_CDS', 'N/A', ['N/A'], ['N/A'], ['N/A']],\n",
       " ['X65482.1', 'N/A_CDS', 'N/A', ['N/A'], ['N/A'], ['N/A']],\n",
       " ['X65482.1', 'N/A_CDS', 'N/A', ['N/A'], ['N/A'], ['N/A']],\n",
       " ['X65482.1', 'N/A_CDS', 'N/A', ['N/A'], ['N/A'], ['N/A']],\n",
       " ['A00829.1', 'N/A_CDS', 'N/A', ['N/A'], ['N/A'], ['N/A']],\n",
       " ['A00829.1', 'N/A_CDS', 'N/A', ['N/A'], ['N/A'], ['N/A']],\n",
       " ['A00829.1', 'N/A_CDS', 'N/A', ['N/A'], ['N/A'], ['N/A']],\n",
       " ['A00829.1', 'N/A_CDS', 'N/A', ['N/A'], ['N/A'], ['N/A']],\n",
       " ['A00829.1', 'N/A_CDS', 'N/A', ['N/A'], ['N/A'], ['N/A']],\n",
       " ['A00829.1', 'N/A_CDS', 'N/A', ['N/A'], ['N/A'], ['N/A']],\n",
       " ['A00829.1', 'N/A_CDS', 'N/A', ['N/A'], ['N/A'], ['N/A']],\n",
       " ['A00829.1', 'N/A_CDS', 'N/A', ['N/A'], ['N/A'], ['N/A']],\n",
       " ['M97702.1', 'N/A_CDS', 'N/A', ['N/A'], ['N/A'], ['N/A']],\n",
       " ['M97702.1', 'N/A_CDS', 'N/A', ['N/A'], ['N/A'], ['N/A']],\n",
       " ['M97702.1', 'N/A_CDS', 'N/A', ['N/A'], ['N/A'], ['N/A']],\n",
       " ['M97702.1', 'N/A_CDS', 'N/A', ['N/A'], ['N/A'], ['N/A']],\n",
       " ['M97702.1', 'N/A_CDS', 'N/A', ['N/A'], ['N/A'], ['N/A']],\n",
       " ['M97702.1', 'N/A_CDS', 'N/A', ['N/A'], ['N/A'], ['N/A']],\n",
       " ['M97702.1', 'N/A_CDS', 'N/A', ['N/A'], ['N/A'], ['N/A']],\n",
       " ['M97702.1', 'N/A_CDS', 'N/A', ['N/A'], ['N/A'], ['N/A']],\n",
       " ['X68316.1', 'N/A_CDS', 'N/A', ['N/A'], ['N/A'], ['N/A']],\n",
       " ['X68316.1', 'N/A_CDS', 'N/A', ['N/A'], ['N/A'], ['N/A']],\n",
       " ['X68316.1', 'N/A_CDS', 'N/A', ['N/A'], ['N/A'], ['N/A']],\n",
       " ['X68316.1', 'N/A_CDS', 'N/A', ['N/A'], ['N/A'], ['N/A']],\n",
       " ['X68316.1', 'N/A_CDS', 'N/A', ['N/A'], ['N/A'], ['N/A']],\n",
       " ['X68316.1', 'N/A_CDS', 'N/A', ['N/A'], ['N/A'], ['N/A']],\n",
       " ['X68316.1', 'N/A_CDS', 'N/A', ['N/A'], ['N/A'], ['N/A']],\n",
       " ['X68316.1', 'N/A_CDS', 'N/A', ['N/A'], ['N/A'], ['N/A']],\n",
       " ['AAADS0003348.1', 'N/A_CDS', 'N/A', ['N/A'], ['N/A'], ['N/A']],\n",
       " ['AAADS0003348.1', 'N/A_CDS', 'N/A', ['N/A'], ['N/A'], ['N/A']],\n",
       " ['AAADS0003348.1', 'N/A_CDS', 'N/A', ['N/A'], ['N/A'], ['N/A']],\n",
       " ['AAADS0003348.1', 'N/A_CDS', 'N/A', ['N/A'], ['N/A'], ['N/A']],\n",
       " ['AAADS0003348.1', 'N/A_CDS', 'N/A', ['N/A'], ['N/A'], ['N/A']],\n",
       " ['AAADS0003348.1', 'N/A_CDS', 'N/A', ['N/A'], ['N/A'], ['N/A']],\n",
       " ['AAADS0003348.1', 'N/A_CDS', 'N/A', ['N/A'], ['N/A'], ['N/A']],\n",
       " ['AAADS0003348.1', 'N/A_CDS', 'N/A', ['N/A'], ['N/A'], ['N/A']],\n",
       " ['AAADW0009410.1', 'N/A_CDS', 'N/A', ['N/A'], ['N/A'], ['N/A']],\n",
       " ['AAADW0009410.1', 'N/A_CDS', 'N/A', ['N/A'], ['N/A'], ['N/A']],\n",
       " ['AAADW0009410.1', 'N/A_CDS', 'N/A', ['N/A'], ['N/A'], ['N/A']],\n",
       " ['AAADW0009410.1', 'N/A_CDS', 'N/A', ['N/A'], ['N/A'], ['N/A']],\n",
       " ['AAADW0009410.1', 'N/A_CDS', 'N/A', ['N/A'], ['N/A'], ['N/A']],\n",
       " ['AAADW0009410.1', 'N/A_CDS', 'N/A', ['N/A'], ['N/A'], ['N/A']],\n",
       " ['AAADW0009410.1', 'N/A_CDS', 'N/A', ['N/A'], ['N/A'], ['N/A']],\n",
       " ['AAADW0009410.1', 'N/A_CDS', 'N/A', ['N/A'], ['N/A'], ['N/A']],\n",
       " ['ABAAM0346030.1', 'N/A_CDS', 'N/A', ['N/A'], ['N/A'], ['N/A']],\n",
       " ['ABAAM0346030.1', 'N/A_CDS', 'N/A', ['N/A'], ['N/A'], ['N/A']],\n",
       " ['ABAAM0346030.1', 'N/A_CDS', 'N/A', ['N/A'], ['N/A'], ['N/A']],\n",
       " ['ABAAM0346030.1', 'N/A_CDS', 'N/A', ['N/A'], ['N/A'], ['N/A']],\n",
       " ['ABAAM0346030.1', 'N/A_CDS', 'N/A', ['N/A'], ['N/A'], ['N/A']],\n",
       " ['ABAAM0346030.1', 'N/A_CDS', 'N/A', ['N/A'], ['N/A'], ['N/A']],\n",
       " ['ABAAM0346030.1', 'N/A_CDS', 'N/A', ['N/A'], ['N/A'], ['N/A']],\n",
       " ['ABAAM0346030.1', 'N/A_CDS', 'N/A', ['N/A'], ['N/A'], ['N/A']]]"
      ]
     },
     "execution_count": 20,
     "metadata": {},
     "output_type": "execute_result"
    }
   ],
   "source": [
    "#final [idgenebank, protein_id, id_uniprot,location, product, translation] (NÃO SEI SE ESTÁ A FUNCAR DIREITO - assumir que não)\n",
    "def join_lists(list1, list2):\n",
    "    result = []\n",
    "    for item1 in list1:\n",
    "        print(item1)\n",
    "        for item2 in list2:\n",
    "            print(item2)\n",
    "            string_item2 = str(item2[0])\n",
    "            string_item2 = string_item2.replace(\"[\",\"\").replace(\"]\",\"\").replace(\"'\",\"\")\n",
    "            if item1[1] == string_item2 or item1[1] == string_item2:\n",
    "                result.append(item1 + item2[1:])\n",
    "    return result\n",
    "join_lists(join_ids_CDS(result_dict,get_list_uniprot(ID_PROT, result_dict)), get_CDS_info(Ids))"
   ]
  },
  {
   "cell_type": "code",
   "execution_count": 108,
   "metadata": {},
   "outputs": [
    {
     "name": "stdout",
     "output_type": "stream",
     "text": [
      "['chlorophyll a/b binding protein (LHCP AB 65)']\n",
      "['gag protein']\n"
     ]
    }
   ],
   "source": [
    "# for i in join_lists(join_ids_CDS(result_dict,get_list_uniprot(ID_PROT)), get_CDS_info(Ids)):\n",
    "#     print(i[4])"
   ]
  },
  {
   "cell_type": "markdown",
   "metadata": {},
   "source": [
    "### Começar povoar"
   ]
  },
  {
   "cell_type": "code",
   "execution_count": 50,
   "metadata": {},
   "outputs": [
    {
     "name": "stdout",
     "output_type": "stream",
     "text": [
      "['N/A_CDS', ['N/A'], ['N/A'], ['N/A']]\n",
      "['V00883.1', ['[223 : 316]', '[440 : 662]', '[1479 : 1608]'], [\"['beta-3 globin']\"], [\"['MVHFTAEEKAAITSTWKLVDVEDAGAEALGRLLVVYPWTQRFFDSFGNLSSSSAIMGNPKVKAHGKKVLTAFGDAVKNVDDLKNTFAHLSELHCDRLHVDPENFKLLGNVLVIVLAKYFGKEFTPQVQSAWQKLVAGVATALAHKYH']\"]]\n"
     ]
    }
   ],
   "source": [
    "# TESTES para povoar CDS\n",
    "# print(result_dict)\n",
    "# print(Ids)\n",
    "# print(get_CDS_location(Ids)[0])\n",
    "#key: id_genebank values: id_Uniprot\n",
    "for i in get_CDS_info(Ids):\n",
    "    print(i)"
   ]
  },
  {
   "cell_type": "code",
   "execution_count": 38,
   "metadata": {},
   "outputs": [
    {
     "data": {
      "text/plain": [
       "['N/A']"
      ]
     },
     "execution_count": 38,
     "metadata": {},
     "output_type": "execute_result"
    }
   ],
   "source": [
    "#para povoar CDS\n",
    "\n",
    "# get_CDS_info(Ids)[0][1]"
   ]
  },
  {
   "cell_type": "code",
   "execution_count": 26,
   "metadata": {},
   "outputs": [
    {
     "name": "stdout",
     "output_type": "stream",
     "text": [
      "\n",
      "\n"
     ]
    },
    {
     "ename": "MySQLInterfaceError",
     "evalue": "Python type list cannot be converted",
     "output_type": "error",
     "traceback": [
      "\u001b[1;31m---------------------------------------------------------------------------\u001b[0m",
      "\u001b[1;31mMySQLInterfaceError\u001b[0m                       Traceback (most recent call last)",
      "Input \u001b[1;32mIn [26]\u001b[0m, in \u001b[0;36m<cell line: 16>\u001b[1;34m()\u001b[0m\n\u001b[0;32m     21\u001b[0m         val\u001b[38;5;241m=\u001b[39m(get_CDS_info(Ids)[index][\u001b[38;5;241m0\u001b[39m], get_CDS_info(Ids)[index][\u001b[38;5;241m2\u001b[39m], get_CDS_info(Ids)[index][\u001b[38;5;241m3\u001b[39m],get_CDS_info(Ids)[index][\u001b[38;5;241m1\u001b[39m],join_ids_CDS(result_dict,get_list_uniprot(ID_PROT, result_dict))[index][\u001b[38;5;241m0\u001b[39m],join_ids_CDS(result_dict,get_list_uniprot(ID_PROT, result_dict))[index][\u001b[38;5;241m2\u001b[39m])\n\u001b[0;32m     22\u001b[0m \u001b[38;5;66;03m#         print(type(des[index]))\u001b[39;00m\n\u001b[1;32m---> 23\u001b[0m         \u001b[43mCursor\u001b[49m\u001b[38;5;241;43m.\u001b[39;49m\u001b[43mexecute\u001b[49m\u001b[43m(\u001b[49m\u001b[43msql\u001b[49m\u001b[43m,\u001b[49m\u001b[43mval\u001b[49m\u001b[43m)\u001b[49m\n\u001b[0;32m     24\u001b[0m \u001b[38;5;66;03m#         for values in des:\u001b[39;00m\n\u001b[0;32m     25\u001b[0m \u001b[38;5;66;03m#             Cursor.execute(f\"INSERT INTO Gene ( Description)  VALUES ('{values}')\")\u001b[39;00m\n\u001b[0;32m     26\u001b[0m \u001b[38;5;28;01mexcept\u001b[39;00m mysql\u001b[38;5;241m.\u001b[39mconnector\u001b[38;5;241m.\u001b[39mError \u001b[38;5;28;01mas\u001b[39;00m e:\n",
      "File \u001b[1;32m~\\anaconda3\\lib\\site-packages\\mysql\\connector\\cursor_cext.py:266\u001b[0m, in \u001b[0;36mCMySQLCursor.execute\u001b[1;34m(self, operation, params, multi)\u001b[0m\n\u001b[0;32m    263\u001b[0m     \u001b[38;5;28;01mraise\u001b[39;00m ProgrammingError(\u001b[38;5;28mstr\u001b[39m(err)) \u001b[38;5;28;01mfrom\u001b[39;00m \u001b[38;5;21;01merr\u001b[39;00m\n\u001b[0;32m    265\u001b[0m \u001b[38;5;28;01mif\u001b[39;00m params:\n\u001b[1;32m--> 266\u001b[0m     prepared \u001b[38;5;241m=\u001b[39m \u001b[38;5;28;43mself\u001b[39;49m\u001b[38;5;241;43m.\u001b[39;49m\u001b[43m_cnx\u001b[49m\u001b[38;5;241;43m.\u001b[39;49m\u001b[43mprepare_for_mysql\u001b[49m\u001b[43m(\u001b[49m\u001b[43mparams\u001b[49m\u001b[43m)\u001b[49m\n\u001b[0;32m    267\u001b[0m     \u001b[38;5;28;01mif\u001b[39;00m \u001b[38;5;28misinstance\u001b[39m(prepared, \u001b[38;5;28mdict\u001b[39m):\n\u001b[0;32m    268\u001b[0m         \u001b[38;5;28;01mfor\u001b[39;00m key, value \u001b[38;5;129;01min\u001b[39;00m prepared\u001b[38;5;241m.\u001b[39mitems():\n",
      "File \u001b[1;32m~\\anaconda3\\lib\\site-packages\\mysql\\connector\\connection_cext.py:726\u001b[0m, in \u001b[0;36mCMySQLConnection.prepare_for_mysql\u001b[1;34m(self, params)\u001b[0m\n\u001b[0;32m    719\u001b[0m         result \u001b[38;5;241m=\u001b[39m [\n\u001b[0;32m    720\u001b[0m             \u001b[38;5;28mself\u001b[39m\u001b[38;5;241m.\u001b[39mconverter\u001b[38;5;241m.\u001b[39mquote(\n\u001b[0;32m    721\u001b[0m                 \u001b[38;5;28mself\u001b[39m\u001b[38;5;241m.\u001b[39mconverter\u001b[38;5;241m.\u001b[39mescape(\u001b[38;5;28mself\u001b[39m\u001b[38;5;241m.\u001b[39mconverter\u001b[38;5;241m.\u001b[39mto_mysql(value))\n\u001b[0;32m    722\u001b[0m             )\n\u001b[0;32m    723\u001b[0m             \u001b[38;5;28;01mfor\u001b[39;00m value \u001b[38;5;129;01min\u001b[39;00m params\n\u001b[0;32m    724\u001b[0m         ]\n\u001b[0;32m    725\u001b[0m     \u001b[38;5;28;01melse\u001b[39;00m:\n\u001b[1;32m--> 726\u001b[0m         result \u001b[38;5;241m=\u001b[39m \u001b[38;5;28;43mself\u001b[39;49m\u001b[38;5;241;43m.\u001b[39;49m\u001b[43m_cmysql\u001b[49m\u001b[38;5;241;43m.\u001b[39;49m\u001b[43mconvert_to_mysql\u001b[49m\u001b[43m(\u001b[49m\u001b[38;5;241;43m*\u001b[39;49m\u001b[43mparams\u001b[49m\u001b[43m)\u001b[49m\n\u001b[0;32m    727\u001b[0m \u001b[38;5;28;01melif\u001b[39;00m \u001b[38;5;28misinstance\u001b[39m(params, \u001b[38;5;28mdict\u001b[39m):\n\u001b[0;32m    728\u001b[0m     result \u001b[38;5;241m=\u001b[39m {}\n",
      "\u001b[1;31mMySQLInterfaceError\u001b[0m: Python type list cannot be converted"
     ]
    }
   ],
   "source": [
    "#Povoação \"CDS\"\n",
    "\n",
    "import mysql.connector as SQLC\n",
    "import mysql.connector\n",
    "\n",
    "\n",
    "DataBase = SQLC.connect(\n",
    "    host =\"geo.di.uminho.pt\",\n",
    "    user =\"bioinformatica\",\n",
    "    password =\"20221207\",\n",
    "    database =\"AP_db_KRG\"\n",
    ")\n",
    "DataBase.autocommit = True # allows the change be done\n",
    "\n",
    "Cursor = DataBase.cursor()\n",
    "try:\n",
    "    for index, value in enumerate(Ids):\n",
    "        #print(value)\n",
    "        #print(des[index])\n",
    "        sql= \"INSERT INTO CDS (ID_CDS, Product, Translation, Location, ID_genebank, ID_Uniprot) VALUES (%s, %s, %s, %s, %s, %s, %s, %s, %s, %s)\"\n",
    "        val=(get_CDS_info(Ids)[index][0], get_CDS_info(Ids)[index][2], get_CDS_info(Ids)[index][3],get_CDS_info(Ids)[index][1],join_ids_CDS(result_dict,get_list_uniprot(ID_PROT, result_dict))[index][0],join_ids_CDS(result_dict,get_list_uniprot(ID_PROT, result_dict))[index][2])\n",
    "#         print(type(des[index]))\n",
    "        Cursor.execute(sql,val)\n",
    "#         for values in des:\n",
    "#             Cursor.execute(f\"INSERT INTO Gene ( Description)  VALUES ('{values}')\")\n",
    "except mysql.connector.Error as e:\n",
    "    print(\"Erro na escrita na base de dados: {}\".format(e) )    \n",
    "finally:\n",
    "    DataBase.close()"
   ]
  },
  {
   "cell_type": "code",
   "execution_count": 367,
   "metadata": {},
   "outputs": [
    {
     "name": "stdout",
     "output_type": "stream",
     "text": [
      "P02099\n",
      "https://www.uniprot.org/uniprotkb/P02099/entry\n",
      "https://www.uniprot.org/uniprotkb/Q00873/entry\n"
     ]
    }
   ],
   "source": [
    "#mini testes\n",
    "# print(get_list_uniprot(ID_PROT)) #list of lists (ID_Uniprot, Function, Subcelular location, Protein seq, length_aa)\n",
    "print(get_list_uniprot(ID_PROT)[0][0])\n",
    "for index, value in enumerate(get_list_uniprot(ID_PROT)):\n",
    "    print(str(get_list_uniprot(ID_PROT)[index][5]))"
   ]
  },
  {
   "cell_type": "code",
   "execution_count": 17,
   "metadata": {},
   "outputs": [
    {
     "name": "stdout",
     "output_type": "stream",
     "text": [
      "Erro na escrita na base de dados: 1062 (23000): Duplicate entry 'N/A' for key 'PRIMARY'\n"
     ]
    }
   ],
   "source": [
    "#Povoação \"Uniprot\" - FEITO E FUNCIONA\n",
    "# print(uniprot_final_list) #(ID_Uniprot, Subcelular location, Function, Protein seq, length_aa)\n",
    "\n",
    "import mysql.connector as SQLC\n",
    "import mysql.connector\n",
    "\n",
    "\n",
    "DataBase = SQLC.connect(\n",
    "    host =\"geo.di.uminho.pt\",\n",
    "    user =\"bioinformatica\",\n",
    "    password =\"20221207\",\n",
    "    database =\"AP_db_KRG\"\n",
    ")\n",
    "DataBase.autocommit = True # allows the change be done\n",
    "\n",
    "Cursor = DataBase.cursor()\n",
    "try:\n",
    "#     sql = \"ALTER TABLE Uniprot AUTO_INCREMENT = 0\"\n",
    "#     Cursor.execute(sql)\n",
    "    for index, value in enumerate(get_list_uniprot(ID_PROT,result_dict)):\n",
    "        #print(value)\n",
    "        sql= \"INSERT INTO Uniprot (ID_Uniprot, Subcelular_Location, Function, Protein_sequence, length_aa, Link_Uniprot) VALUES (%s, %s, %s, %s, %s, %s)\"\n",
    "        val=(get_list_uniprot(ID_PROT,result_dict)[index][0],get_list_uniprot(ID_PROT,result_dict)[index][1], get_list_uniprot(ID_PROT,result_dict)[index][2], get_list_uniprot(ID_PROT,result_dict)[index][3], get_list_uniprot(ID_PROT,result_dict)[index][4], get_list_uniprot(ID_PROT,result_dict)[index][5])\n",
    "        Cursor.execute(sql,val)\n",
    "        \n",
    "        # SE UNIPROT_ID FOR AI\n",
    "#     ID_AI=[]\n",
    "#     sql= \"Select ID_AI FROM Uniprot\"\n",
    "#     Cursor.execute(sql)\n",
    "#     for row in Cursor:\n",
    "#         ID_AI.append(str(row))\n",
    "#     div_= ', '.join(ID_AI)\n",
    "#     h_= div_.replace(\"(\",'')\n",
    "#     hh_= h_.replace(\",)\",'')\n",
    "#     SEARCH_ID_AI= hh_.split(', ')\n",
    "except mysql.connector.Error as e:\n",
    "    print(\"Erro na escrita na base de dados: {}\".format(e) )    \n",
    "finally:\n",
    "    DataBase.close()"
   ]
  },
  {
   "cell_type": "code",
   "execution_count": 136,
   "metadata": {},
   "outputs": [
    {
     "name": "stdout",
     "output_type": "stream",
     "text": [
      "['7', '8']\n"
     ]
    }
   ],
   "source": [
    "# print(SEARCH_ID_AI)"
   ]
  },
  {
   "cell_type": "code",
   "execution_count": 130,
   "metadata": {},
   "outputs": [
    {
     "name": "stdout",
     "output_type": "stream",
     "text": [
      "['(1,)', '(2,)']\n",
      "['1', '2']\n"
     ]
    }
   ],
   "source": [
    "# ORIGINAL para buscar os ids da tabela Uniprot, que sao AI\n",
    "ID_AI=[]\n",
    "DataBase = SQLC.connect(\n",
    "    host =\"geo.di.uminho.pt\",\n",
    "    user =\"bioinformatica\",\n",
    "    password =\"20221207\",\n",
    "    database =\"AP_db_KRG\"\n",
    ")\n",
    "DataBase.autocommit = True # allows the change be done\n",
    "\n",
    "Cursor = DataBase.cursor()\n",
    "try:\n",
    "    sql= \"Select ID_AI FROM Uniprot\"\n",
    "    Cursor.execute(sql)\n",
    "    for row in Cursor:\n",
    "        #print(row)\n",
    "        ID_AI.append(str(row))       \n",
    "except mysql.connector.Error as e:\n",
    "    print(\"Erro na escrita na base de dados: {}\".format(e) )    \n",
    "finally:\n",
    "    DataBase.close()\n",
    "    \n",
    "div_= ', '.join(ID_AI)\n",
    "h_= div_.replace(\"(\",'')\n",
    "hh_= h_.replace(\",)\",'')\n",
    "SEARCH_ID_AI= hh_.split(', ')\n",
    "print(SEARCH_ID_AI)"
   ]
  },
  {
   "cell_type": "code",
   "execution_count": null,
   "metadata": {},
   "outputs": [],
   "source": [
    "import pandas as pd \n",
    "\n",
    "DataBase = SQLC.connect(\n",
    "    host =\"geo.di.uminho.pt\",\n",
    "    user =\"bioinformatica\",\n",
    "    password =\"20221207\",\n",
    "    database =\"AP_db_KRG\"\n",
    ")\n",
    "\n",
    "####### end of connection ####\n",
    "tabela = pd.read_sql(\"Select * FROM Gene\", DataBase)\n",
    "DataBase.close()\n",
    "print(tabela)"
   ]
  },
  {
   "cell_type": "code",
   "execution_count": null,
   "metadata": {},
   "outputs": [],
   "source": []
  },
  {
   "cell_type": "code",
   "execution_count": null,
   "metadata": {},
   "outputs": [],
   "source": []
  }
 ],
 "metadata": {
  "authors": [
   {
    "name": "Jorge Gustavo Rocha"
   }
  ],
  "kernelspec": {
   "display_name": "Python 3 (ipykernel)",
   "language": "python",
   "name": "python3"
  },
  "language_info": {
   "codemirror_mode": {
    "name": "ipython",
    "version": 3
   },
   "file_extension": ".py",
   "mimetype": "text/x-python",
   "name": "python",
   "nbconvert_exporter": "python",
   "pygments_lexer": "ipython3",
   "version": "3.9.12"
  },
  "vscode": {
   "interpreter": {
    "hash": "916dbcbb3f70747c44a77c7bcd40155683ae19c65e1c03b4aa3499c5328201f1"
   }
  }
 },
 "nbformat": 4,
 "nbformat_minor": 2
}
