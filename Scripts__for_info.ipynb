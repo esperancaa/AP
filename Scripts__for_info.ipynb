{
 "cells": [
  {
   "cell_type": "code",
   "execution_count": 1,
   "metadata": {},
   "outputs": [],
   "source": [
    "from Bio.Blast import NCBIXML \n",
    "from Bio.Blast import NCBIWWW\n",
    "import requests, sys, json\n",
    "import re\n",
    "from Bio import SeqIO\n",
    "from Bio import Entrez\n",
    "from Bio import Medline\n",
    "import pandas as pd\n",
    "import numpy as np\n",
    "from tqdm import tqdm\n",
    "from Bio import SearchIO\n",
    "from Bio.SeqRecord import SeqRecord\n",
    "from Bio.Seq import Seq\n",
    "from bs4 import BeautifulSoup\n",
    "from Bio.SeqFeature import CompoundLocation"
   ]
  },
  {
   "cell_type": "markdown",
   "metadata": {},
   "source": [
    "### web scraping (escolher condição e nº de genes)"
   ]
  },
  {
   "cell_type": "code",
   "execution_count": 2,
   "metadata": {},
   "outputs": [
    {
     "name": "stdout",
     "output_type": "stream",
     "text": [
      "escolha o que quer pesquisar: gli2\n",
      "escolha o nº de genes que quer obter (máximo 20) atenção que o reultado pode ser menor que o desejado: 10\n",
      "['2736', '14633', '2736', '304729', '395956', '510255', '100520334', '100682984', '459582', '102447306']\n"
     ]
    }
   ],
   "source": [
    "query= input('escolha o que quer pesquisar: ')\n",
    "def url_get(i):\n",
    "    url_list= [ ]\n",
    "    url = \"https://www.ncbi.nlm.nih.gov/gene/?term={}\".format( query )\n",
    "    url_list.append(url)\n",
    "    return url_list\n",
    "url_get(1)\n",
    "\n",
    "content = []\n",
    "for url in url_get(1):\n",
    "    r = requests.get(url)\n",
    "    content.append(r.content)\n",
    "#print(content)\n",
    "\n",
    "# Parsing the HTML\n",
    "for c in content:\n",
    "    soup = BeautifulSoup(c, 'html.parser')\n",
    "    a= soup.get_text()\n",
    "#     print (a)\n",
    "\n",
    "exist = re.findall(r\"ID:\\s+\\d*(?=\\D)\", a, re.DOTALL)\n",
    "\n",
    "c= ', '.join(exist)\n",
    "h= c.replace('ID: ','')\n",
    "IDS= h.split(', ')\n",
    "\n",
    "n_genes= IDS[0:int(input('escolha o nº de genes que quer obter (máximo 20) atenção que o reultado pode ser menor que o desejado: '))] #can be more. related to ncbi pagination\n",
    "print(n_genes)\n",
    "\n",
    "if n_genes == ['']:\n",
    "    print (\"Não encontramos resultado para a sua pesquisa\")\n",
    "# else:\n",
    "#     print (n_genes)"
   ]
  },
  {
   "cell_type": "markdown",
   "metadata": {},
   "source": [
    "### Buscar Links dos genes:"
   ]
  },
  {
   "cell_type": "code",
   "execution_count": 66,
   "metadata": {},
   "outputs": [],
   "source": [
    "#necessário em pubmed\n",
    "def url_get_id(i):\n",
    "    url_list= [ ]\n",
    "    for id in i:\n",
    "        url = \"https://www.ncbi.nlm.nih.gov/nuccore/{}\".format(id)\n",
    "        url_list.append(url)\n",
    "    return url_list\n",
    "# url_get_id(Ids) "
   ]
  },
  {
   "cell_type": "markdown",
   "metadata": {},
   "source": [
    "### Buscar ids do ncbi: Ids"
   ]
  },
  {
   "cell_type": "code",
   "execution_count": 4,
   "metadata": {
    "scrolled": true
   },
   "outputs": [
    {
     "name": "stdout",
     "output_type": "stream",
     "text": [
      "['X65482.1', 'A00829.1', 'X65482.1', 'M97702.1', 'X68316.1', 'AAADS0003348.1', 'AAADW0009410.1', 'ABAAM0346030.1']\n"
     ]
    }
   ],
   "source": [
    "# original - Ids\n",
    "Ids=[]\n",
    "database = 'nucleotide'\n",
    "email= 'rodrigoce9@gmail.com'\n",
    "idlist= n_genes\n",
    "handle = Entrez.efetch(db=database, id=idlist, rettype=\"gb\") \n",
    "records = list(SeqIO.parse(handle,\"gb\"))\n",
    "handle.close()\n",
    "for info in records:\n",
    "    Ids.append(info.id)\n",
    "print(Ids)"
   ]
  },
  {
   "cell_type": "markdown",
   "metadata": {},
   "source": [
    "### Buscar info para CDS: protein_id, location e product"
   ]
  },
  {
   "cell_type": "code",
   "execution_count": 14,
   "metadata": {},
   "outputs": [
    {
     "name": "stdout",
     "output_type": "stream",
     "text": [
      "True\n",
      "True\n",
      "[FeatureLocation(ExactPosition(145), ExactPosition(949), strand=1), FeatureLocation(BeforePosition(0), AfterPosition(92), strand=1)]\n"
     ]
    }
   ],
   "source": [
    "#original\n",
    "database = 'nucleotide'\n",
    "email= 'rodrigoce9@gmail.com'\n",
    "idlist= n_genes\n",
    "handle = Entrez.efetch(db=database, id=idlist, rettype=\"gb\") \n",
    "records = list(SeqIO.parse(handle,\"gb\"))\n",
    "handle.close()\n",
    "featcds = [ ]\n",
    "position=0\n",
    "cds_location=[]\n",
    "for info in records:\n",
    "#     print(info.id)\n",
    "    for i in range(len(info.features)):\n",
    "        if info.features[i].type == \"CDS\":\n",
    "            print(info.features[i].type == \"CDS\")\n",
    "            featcds.append(i)\n",
    "            cds=i\n",
    "            a=str(cds)\n",
    "#             print (len(a))\n",
    "            position=i\n",
    "            cds_location.append(info.features[position].location)\n",
    "print(cds_location)\n",
    "# Ids.append('NG_009030.2')          \n",
    "# print (pos)"
   ]
  },
  {
   "cell_type": "code",
   "execution_count": 5,
   "metadata": {},
   "outputs": [
    {
     "name": "stdout",
     "output_type": "stream",
     "text": [
      "['']\n"
     ]
    }
   ],
   "source": [
    "#original para protein_id - PROT_ID\n",
    "list_pro=[]\n",
    "database = 'nucleotide'\n",
    "email= 'rodrigoce9@gmail.com'\n",
    "idlist= n_genes\n",
    "handle = Entrez.efetch(db=database, id=idlist, rettype=\"gb\") \n",
    "records = list(SeqIO.parse(handle,\"gb\"))\n",
    "handle.close()\n",
    "for info in records:\n",
    "    for i in info.features:\n",
    "        if i.type == \"CDS\":\n",
    "            pro= str(i.qualifiers[\"protein_id\"])\n",
    "            list_pro.append(pro)\n",
    "div= ', '.join(list_pro)\n",
    "h= div.replace(\"['\",'')\n",
    "hh= h.replace(\"']\",'')\n",
    "ID_PROT= hh.split(', ')\n",
    "print (ID_PROT) # is used below in Uniprot"
   ]
  },
  {
   "cell_type": "code",
   "execution_count": 6,
   "metadata": {},
   "outputs": [
    {
     "name": "stdout",
     "output_type": "stream",
     "text": [
      "[['N/A_CDS', ['N/A'], ['N/A'], ['N/A']], ['N/A_CDS', ['N/A'], ['N/A'], ['N/A']], ['N/A_CDS', ['N/A'], ['N/A'], ['N/A']], ['N/A_CDS', ['N/A'], ['N/A'], ['N/A']], ['N/A_CDS', ['N/A'], ['N/A'], ['N/A']], ['N/A_CDS', ['N/A'], ['N/A'], ['N/A']], ['N/A_CDS', ['N/A'], ['N/A'], ['N/A']], ['N/A_CDS', ['N/A'], ['N/A'], ['N/A']]]\n"
     ]
    }
   ],
   "source": [
    "#final para location, product e translation  - get_CDS_info(Ids) = [id_protein, location, product, translation]\n",
    "def get_CDS_info(id_list):\n",
    "    database = 'nucleotide'\n",
    "    email= 'rodrigoce9@gmail.com'\n",
    "    Entrez.email = email\n",
    "    handle = Entrez.efetch(db=database, id=id_list, rettype=\"gb\") \n",
    "    records = list(SeqIO.parse(handle,\"gb\"))\n",
    "    handle.close()\n",
    "    cds_location_list = []\n",
    "    \n",
    "    several_location = []\n",
    "    record_types={}\n",
    "    for i in id_list:\n",
    "        handle2 = Entrez.efetch(db=database, id=i, rettype=\"gb\")\n",
    "        for record in SeqIO.parse(handle2, \"genbank\"):\n",
    "            for feature in record.features:\n",
    "                record_types[feature.type]=record_types.get(feature.type,0)+1\n",
    "                cds_nonlocation, nonlocation, nonproduct, nontranslation = [], [], [], []\n",
    "            if 'CDS' not in record_types:\n",
    "                cds_nonlocation.append(\"N/A_CDS\")\n",
    "                nonlocation.append(\"N/A\")\n",
    "                nonproduct.append(\"N/A\")\n",
    "                nontranslation.append(\"N/A\")\n",
    "                cds_nonlocation.append(nonlocation)\n",
    "                cds_nonlocation.append(nonproduct)\n",
    "                cds_nonlocation.append(nontranslation)\n",
    "                cds_location_list.append(cds_nonlocation)\n",
    "#                 cds_location_list.append(nonlocation)\n",
    "                \n",
    "    handle2.close()\n",
    "    for info in records:\n",
    "        for i in info.features:\n",
    "            list_product, list_translation = [],[]\n",
    "            cds_location = []\n",
    "            product, translation = '', ''\n",
    "            if i.type == \"CDS\":\n",
    "                i_d = str(i.qualifiers[\"protein_id\"])\n",
    "                product = str(i.qualifiers[\"product\"])\n",
    "                translation =  str(i.qualifiers[\"translation\"])\n",
    "                cds_location.append(i_d)\n",
    "                if isinstance(i.location, CompoundLocation):\n",
    "                    for sub_location in i.location.parts:\n",
    "                        several_location.append(\"[{} : {}]\".format(sub_location.start, sub_location.end))\n",
    "                    cds_location.append(several_location)\n",
    "                    cds_location.append(product)\n",
    "                    cds_location.append(translation)\n",
    "                else:\n",
    "                    cds_location.append(\"[{} : {}]\".format(i.location.start, i.location.end))\n",
    "                    cds_location.append(product)\n",
    "                    cds_location.append(translation)\n",
    "                cds_location_list.append(cds_location)      \n",
    "    handle2.close()                    \n",
    "    return cds_location_list\n",
    "print(get_CDS_info(Ids))"
   ]
  },
  {
   "cell_type": "code",
   "execution_count": 7,
   "metadata": {},
   "outputs": [
    {
     "name": "stdout",
     "output_type": "stream",
     "text": [
      "['N/A_CDS', ['N/A'], ['N/A'], ['N/A']]\n",
      "['N/A_CDS', ['N/A'], ['N/A'], ['N/A']]\n",
      "['N/A_CDS', ['N/A'], ['N/A'], ['N/A']]\n",
      "['N/A_CDS', ['N/A'], ['N/A'], ['N/A']]\n",
      "['N/A_CDS', ['N/A'], ['N/A'], ['N/A']]\n",
      "['N/A_CDS', ['N/A'], ['N/A'], ['N/A']]\n",
      "['N/A_CDS', ['N/A'], ['N/A'], ['N/A']]\n",
      "['N/A_CDS', ['N/A'], ['N/A'], ['N/A']]\n"
     ]
    }
   ],
   "source": [
    "for i in get_CDS_info(Ids):\n",
    "    print(i)"
   ]
  },
  {
   "cell_type": "code",
   "execution_count": 61,
   "metadata": {},
   "outputs": [],
   "source": [
    "#original para product\n",
    "# for ids in Ids:\n",
    "#     list_pro=[]\n",
    "#     handle = Entrez.efetch(db=database, id=ids, rettype=\"gb\") \n",
    "#     records = list(SeqIO.parse(handle,\"gb\"))\n",
    "#     handle.close()\n",
    "#     for info in records:\n",
    "#         list_pro.append(info.id)\n",
    "#         for i in info.features:\n",
    "#             if i.type == \"CDS\":\n",
    "#                 product= str(i.qualifiers[\"product\"])\n",
    "#                 print(product)\n",
    "#                 list_pro.append(pro)"
   ]
  },
  {
   "cell_type": "code",
   "execution_count": 8,
   "metadata": {},
   "outputs": [
    {
     "name": "stdout",
     "output_type": "stream",
     "text": [
      "{'X65482.1': 'N/A_CDS', 'A00829.1': 'N/A_CDS', 'M97702.1': 'N/A_CDS', 'X68316.1': 'N/A_CDS', 'AAADS0003348.1': 'N/A_CDS', 'AAADW0009410.1': 'N/A_CDS', 'ABAAM0346030.1': 'N/A_CDS'}\n"
     ]
    }
   ],
   "source": [
    "#FINAL result_dic = {Ids, ID_PROT}\n",
    "result_dict = {}\n",
    "database = 'nucleotide'\n",
    "email= 'rodrigoce9@gmail.com'\n",
    "idlist=Ids\n",
    "# idlist= Ids.remove('U49845')\n",
    "for ids in idlist:\n",
    "    list_pro=[]\n",
    "    handle = Entrez.efetch(db=database, id=ids, rettype=\"gb\") \n",
    "    records = list(SeqIO.parse(handle,\"gb\"))\n",
    "    handle.close()\n",
    "    for info in records:\n",
    "        list_pro.append(info.id)\n",
    "        for i in info.features:\n",
    "            if i.type == \"CDS\":\n",
    "                pro= str(i.qualifiers[\"protein_id\"])\n",
    "                list_pro.append(pro)\n",
    "        if len(list_pro)==1: #if no protein_id was found\n",
    "            result_dict[info.id] = \"N/A_CDS\"\n",
    "        else:\n",
    "            list_pro = [x.replace(\"['\",'').replace(\"']\",'') for x in list_pro]\n",
    "            result_dict[info.id] = ', '.join(list_pro[1:])\n",
    "print(result_dict)\n",
    "#key: id_genebank; values: id_Uniprot"
   ]
  },
  {
   "cell_type": "code",
   "execution_count": 306,
   "metadata": {},
   "outputs": [],
   "source": [
    "#TESTE\n",
    "# lista =[]\n",
    "# database = 'nucleotide'\n",
    "# email= 'rodrigoce9@gmail.com'\n",
    "\n",
    "# list_pro=[]\n",
    "# handle = Entrez.efetch(db=database, id='U49845', rettype=\"gb\") \n",
    "# records = list(SeqIO.parse(handle,\"gb\"))\n",
    "# handle.close()\n",
    "# for info in records:\n",
    "#     list_pro.append(info.id)\n",
    "#     for i in info.features:\n",
    "#         if i.type == \"CDS\":\n",
    "#             pro= str(i.qualifiers[\"protein_id\"])\n",
    "#             list_pro.append(pro)\n",
    "\n",
    "# div= ', '.join(list_pro)\n",
    "# h= div.replace(\"['\",'')\n",
    "# hh= h.replace(\"']\",'')\n",
    "# ID_PROT= hh.split(', ')\n",
    "# lista.append(ID_PROT)\n",
    "# print(lista) "
   ]
  },
  {
   "cell_type": "markdown",
   "metadata": {},
   "source": [
    "### Buscar Links de proteinas:"
   ]
  },
  {
   "cell_type": "code",
   "execution_count": 10,
   "metadata": {},
   "outputs": [
    {
     "name": "stdout",
     "output_type": "stream",
     "text": [
      "['https://www.uniprot.org/uniprotkb?query=CAA27540.1', 'https://www.uniprot.org/uniprotkb?query=AAA47844.1']\n"
     ]
    }
   ],
   "source": [
    "#final, mas não correr\n",
    "def url_get_id_p(dic):\n",
    "    url_list_p = []\n",
    "    for key, value in dic.items():\n",
    "        if value != 'N/A_CDS':\n",
    "            value_list = value.split(',')\n",
    "            for val in value_list:\n",
    "                val = val.strip()\n",
    "                url_id_p = \"https://www.uniprot.org/uniprotkb?query={}\".format(val)\n",
    "                url_list_p.append(url_id_p)\n",
    "    return url_list_p\n",
    "url_ids_protein=url_get_id_p(result_dict)\n",
    "print(url_ids_protein) # but we don't need to save this links"
   ]
  },
  {
   "cell_type": "markdown",
   "metadata": {},
   "source": [
    "### Buscar Links de proteinas na Uniprot:"
   ]
  },
  {
   "cell_type": "code",
   "execution_count": 9,
   "metadata": {},
   "outputs": [
    {
     "name": "stdout",
     "output_type": "stream",
     "text": [
      "<function url_get_id_p at 0x0000010B3065E0D0>\n"
     ]
    }
   ],
   "source": [
    "#final (usado em baixo)\n",
    "def url_get_id_p(string):\n",
    "#     print(string)\n",
    "    url_list_p=[ ]\n",
    "    url_id_p= \"https://www.uniprot.org/uniprotkb/{}/entry\".format(str(string))\n",
    "    url_list_p.append(url_id_p)\n",
    "    return ''.join(url_list_p)\n",
    "print(url_get_id_p)"
   ]
  },
  {
   "cell_type": "code",
   "execution_count": 61,
   "metadata": {},
   "outputs": [],
   "source": [
    "# for index, value in enumerate(get_list_uniprot(ID_PROT)):\n",
    "#     print(get_list_uniprot(ID_PROT)[index])\n",
    "#     print(get_list_uniprot(ID_PROT)[index][1])\n",
    "    "
   ]
  },
  {
   "cell_type": "markdown",
   "metadata": {},
   "source": [
    "### Buscar id proteina (uniprot):"
   ]
  },
  {
   "cell_type": "code",
   "execution_count": 10,
   "metadata": {},
   "outputs": [
    {
     "name": "stdout",
     "output_type": "stream",
     "text": [
      "[[]]\n"
     ]
    }
   ],
   "source": [
    "#final ------------------\n",
    "WEBSITE_API = \"https://rest.uniprot.org\"\n",
    "fields = [\"accession\",\"organism_name\",\"protein_name\",\"cc_subcellular_location\",\"cc_function\", \"sequence\"]\n",
    "def get_url(url, **kwargs):\n",
    "    response = requests.get(url, **kwargs);\n",
    "    if not response.ok:\n",
    "        print(response.text)\n",
    "        response.raise_for_status()\n",
    "        sys.exit()\n",
    "    return response\n",
    "\n",
    "def get_field_for_id(ID_PROT, field):\n",
    "    response = get_url(\"{}/uniprotkb/search?query={}&fields={}&size=1&format=tsv\".format(WEBSITE_API,ID_PROT,field))\n",
    "    return str(response.content)\n",
    "\n",
    "def get_list_uniprot(ID_PROT):\n",
    "    results = {}\n",
    "    for i in ID_PROT:\n",
    "        result = {}\n",
    "        for field in fields:\n",
    "            result[field] = get_field_for_id(i, field)\n",
    "        results[i] = result\n",
    "\n",
    "    uniprot_final_list=[]\n",
    "    for key, value in results.items():\n",
    "        uniprot_list=[]\n",
    "        for x in value.values():\n",
    "#             print(key)\n",
    "            entry = re.search(r'b\\'Entry\\\\n(.+?(?=\\\\n\\'))', x, re.DOTALL)\n",
    "            function = re.match( r'b\\'Function \\[CC\\]\\\\n.{9} (.+?(?=\\\\n\\'))', x, re.DOTALL )\n",
    "            location_exist = re.search( r'b\\'Subcellular location \\[CC\\]\\\\nSUBCELLULAR LOCATION: (.+?(?=\\\\n\\'))', x, re.DOTALL )\n",
    "            location_notexist = re.search( r'b\\'Subcellular location \\[CC\\]\\\\n\\\\n\\'', x, re.DOTALL )   \n",
    "            sequence = re.search(r'b\\'Sequence\\\\n(.+?(?=\\\\n\\'))', x, re.DOTALL)\n",
    "            if entry:\n",
    "                ent=entry.group(1)\n",
    "                uniprot_list.append(entry.group(1))\n",
    "            if function:\n",
    "                uniprot_list.append(function.group(1))\n",
    "#                 print(function.group(0))\n",
    "#             if not function:\n",
    "#                 print('na')\n",
    "            if location_exist:\n",
    "                uniprot_list.append(location_exist.group(1))\n",
    "            if location_notexist:\n",
    "                uniprot_list.append(\"N/A\")\n",
    "            if sequence:\n",
    "                uniprot_list.append(sequence.group(1))\n",
    "                uniprot_list.append(len(sequence.group(1)))\n",
    "                uniprot_list.append(url_get_id_p(ent))\n",
    "                \n",
    "        uniprot_final_list.append(uniprot_list)\n",
    "        \n",
    "    return uniprot_final_list\n",
    "print(get_list_uniprot(ID_PROT)) #list of lists (ID_Uniprot, Function, Subcelular location, Protein seq, length_aa)"
   ]
  },
  {
   "cell_type": "code",
   "execution_count": 11,
   "metadata": {},
   "outputs": [
    {
     "name": "stdout",
     "output_type": "stream",
     "text": [
      "\n",
      "[['N/A', 'N/A', 'N/A', 'N/A', 'N/A', 'N/A'], ['N/A', 'N/A', 'N/A', 'N/A', 'N/A', 'N/A'], ['N/A', 'N/A', 'N/A', 'N/A', 'N/A', 'N/A'], ['N/A', 'N/A', 'N/A', 'N/A', 'N/A', 'N/A'], ['N/A', 'N/A', 'N/A', 'N/A', 'N/A', 'N/A'], ['N/A', 'N/A', 'N/A', 'N/A', 'N/A', 'N/A'], ['N/A', 'N/A', 'N/A', 'N/A', 'N/A', 'N/A']]\n"
     ]
    }
   ],
   "source": [
    "#FINAL\n",
    "WEBSITE_API = \"https://rest.uniprot.org\"\n",
    "fields = [\"accession\",\"organism_name\",\"protein_name\",\"cc_subcellular_location\",\"cc_function\", \"sequence\"]\n",
    "def get_url(url, **kwargs):\n",
    "    response = requests.get(url, **kwargs);\n",
    "    if not response.ok:\n",
    "        print(response.text)\n",
    "        response.raise_for_status()\n",
    "        sys.exit()\n",
    "    return response\n",
    "\n",
    "def get_field_for_id(ID_PROT, field):\n",
    "    response = get_url(\"{}/uniprotkb/search?query={}&fields={}&size=1&format=tsv\".format(WEBSITE_API,ID_PROT,field))\n",
    "    return str(response.content)\n",
    "\n",
    "def get_list_uniprot(ID_PROT, result_dict):\n",
    "    results = {}\n",
    "    result = {}\n",
    "    for first_key, first_value in result_dict.items(): \n",
    "        result = {}\n",
    "        for field in fields:\n",
    "            if first_value != 'N/A_CDS':\n",
    "                result[field] = get_field_for_id(first_value, field)\n",
    "            else:\n",
    "                result[field] = 'N/A'\n",
    "            results[first_key] = result   \n",
    "    \n",
    "    uniprot_final_list=[]\n",
    "    for key, value in results.items():\n",
    "        uniprot_list=[]\n",
    "        for x in value.values():\n",
    "#             print(key)\n",
    "            entry = re.search(r'b\\'Entry\\\\n(.+?(?=\\\\n\\'))', x, re.DOTALL)\n",
    "            function = re.match( r'b\\'Function \\[CC\\]\\\\n.{9} (.+?(?=\\\\n\\'))', x, re.DOTALL )\n",
    "            location_exist = re.search( r'b\\'Subcellular location \\[CC\\]\\\\nSUBCELLULAR LOCATION: (.+?(?=\\\\n\\'))', x, re.DOTALL )\n",
    "            location_notexist = re.search( r'b\\'Subcellular location \\[CC\\]\\\\n\\\\n\\'', x, re.DOTALL )   \n",
    "            sequence = re.search(r'b\\'Sequence\\\\n(.+?(?=\\\\n\\'))', x, re.DOTALL)\n",
    "            n_a = re.search(r'(N/A)', x, re.DOTALL)\n",
    "            if entry:\n",
    "                ent=entry.group(1)\n",
    "                uniprot_list.append(entry.group(1))            \n",
    "            if function:\n",
    "                uniprot_list.append(function.group(1))\n",
    "#                 print(function.group(0))\n",
    "#             if not function:\n",
    "#                 print('na')\n",
    "            if location_exist:\n",
    "                uniprot_list.append(location_exist.group(1))\n",
    "            if location_notexist:\n",
    "                uniprot_list.append(\"N/A\")\n",
    "            if sequence:\n",
    "                uniprot_list.append(sequence.group(1))\n",
    "                uniprot_list.append(len(sequence.group(1)))\n",
    "                uniprot_list.append(url_get_id_p(ent))\n",
    "            if n_a:\n",
    "                uniprot_list.append(n_a.group(1))\n",
    "                \n",
    "        uniprot_final_list.append(uniprot_list)\n",
    "        \n",
    "    return uniprot_final_list\n",
    "print(get_list_uniprot(ID_PROT,result_dict)) #list of lists (ID_Uniprot, Function, Subcelular location, Protein seq, length_aa)"
   ]
  },
  {
   "cell_type": "code",
   "execution_count": 75,
   "metadata": {},
   "outputs": [
    {
     "name": "stdout",
     "output_type": "stream",
     "text": [
      "{'CAA27540.1': {'accession': \"b'Entry\\\\nQ88364\\\\n'\", 'organism_name': \"b'Organism\\\\nSimian T-lymphotropic virus 1\\\\n'\", 'protein_name': \"b'Protein names\\\\nGag protein\\\\n'\", 'cc_subcellular_location': \"b'Subcellular location [CC]\\\\n\\\\n'\", 'cc_function': \"b'Function [CC]\\\\n\\\\n'\", 'sequence': \"b'Sequence\\\\nLISEAETRGITGYNPLAGPLRVQANNPQQQG\\\\n'\"}, 'AAA47844.1': {'accession': \"b'Entry\\\\nQ88364\\\\n'\", 'organism_name': \"b'Organism\\\\nSimian T-lymphotropic virus 1\\\\n'\", 'protein_name': \"b'Protein names\\\\nGag protein\\\\n'\", 'cc_subcellular_location': \"b'Subcellular location [CC]\\\\n\\\\n'\", 'cc_function': \"b'Function [CC]\\\\n\\\\n'\", 'sequence': \"b'Sequence\\\\nLISEAETRGITGYNPLAGPLRVQANNPQQQG\\\\n'\"}}\n"
     ]
    }
   ],
   "source": [
    "results = {}\n",
    "for i in ID_PROT:\n",
    "    for field in fields:\n",
    "        result[field] = get_field_for_id(i, field)\n",
    "        results[i] = result\n",
    "print(results)"
   ]
  },
  {
   "cell_type": "code",
   "execution_count": 15,
   "metadata": {},
   "outputs": [
    {
     "name": "stdout",
     "output_type": "stream",
     "text": [
      "{'X65482.1': 'N/A_CDS', 'A00829.1': 'N/A_CDS', 'M97702.1': 'N/A_CDS', 'X68316.1': 'N/A_CDS', 'AAADS0003348.1': 'N/A_CDS', 'AAADW0009410.1': 'N/A_CDS', 'ABAAM0346030.1': 'N/A_CDS'}\n",
      "\n",
      "[['N/A', 'N/A', 'N/A', 'N/A', 'N/A', 'N/A'], ['N/A', 'N/A', 'N/A', 'N/A', 'N/A', 'N/A'], ['N/A', 'N/A', 'N/A', 'N/A', 'N/A', 'N/A'], ['N/A', 'N/A', 'N/A', 'N/A', 'N/A', 'N/A'], ['N/A', 'N/A', 'N/A', 'N/A', 'N/A', 'N/A'], ['N/A', 'N/A', 'N/A', 'N/A', 'N/A', 'N/A'], ['N/A', 'N/A', 'N/A', 'N/A', 'N/A', 'N/A']]\n"
     ]
    }
   ],
   "source": [
    "print(result_dict)\n",
    "print(get_list_uniprot(ID_PROT, result_dict))"
   ]
  },
  {
   "cell_type": "code",
   "execution_count": 23,
   "metadata": {},
   "outputs": [
    {
     "name": "stdout",
     "output_type": "stream",
     "text": [
      "\n"
     ]
    },
    {
     "data": {
      "text/plain": [
       "[['X65482.1', 'N/A_CDS', 'N/A'],\n",
       " ['A00829.1', 'N/A_CDS', 'N/A'],\n",
       " ['M97702.1', 'N/A_CDS', 'N/A'],\n",
       " ['X68316.1', 'N/A_CDS', 'N/A'],\n",
       " ['AAADS0003348.1', 'N/A_CDS', 'N/A'],\n",
       " ['AAADW0009410.1', 'N/A_CDS', 'N/A'],\n",
       " ['ABAAM0346030.1', 'N/A_CDS', 'N/A']]"
      ]
     },
     "execution_count": 23,
     "metadata": {},
     "output_type": "execute_result"
    }
   ],
   "source": [
    "#final [idgenebank, protein_id, id do uniprot]\n",
    "def join_ids_CDS(dic, uniprotID):\n",
    "    join_list_all = []\n",
    "    for key, value in dic.items():\n",
    "        join_list = []\n",
    "        join_list.append(key)\n",
    "        join_list.append(value)\n",
    "        join_list_all.append(join_list) \n",
    "    for index, values in enumerate(uniprotID):\n",
    "        join_list_all[index].append(uniprotID[index][0])\n",
    "    return join_list_all\n",
    "join_ids_CDS(result_dict,get_list_uniprot(ID_PROT, result_dict))"
   ]
  },
  {
   "cell_type": "code",
   "execution_count": 89,
   "metadata": {},
   "outputs": [
    {
     "name": "stdout",
     "output_type": "stream",
     "text": [
      "[['X03907.1', 'CAA27540.1', 'P0CJ48'], ['L20655.1', 'AAA47844.1', 'Q88364']]\n",
      "[[\"['CAA27540.1']\", '[145 : 949]', \"['chlorophyll a/b binding protein (LHCP AB 65)']\", \"['MAASTMALSSPAFAGKAVNLSPAASEVLGSGRVTMRKTVAKPKGPSGSPWYGSDRVKYLGPFSGESPSYLTGEFPGDYGWDTAGLSADPETFARNRELEVIHSRWAMLGALGCVFPELLARNGVKFGEAVWFKAGSQIFSDGGLDYLGNPSLVHAQSILAIWATQVILMGAVEGYRVAGNGPLGEAEDLLYPGGSFDPLGLATDPEAFAELKVKELKNGRLAMFSMFGFFVQAIVTGKGPIENLADHLADPVNNNAWAFATNFVPGK']\"], [\"['AAA47844.1']\", '[<0 : >92]', \"['gag protein']\", \"['LISEAETRGITGYNPLAGPLRVQANNPQQQG']\"]]\n"
     ]
    }
   ],
   "source": [
    "print(join_ids_CDS(result_dict,get_list_uniprot(ID_PROT, result_dict))) #[idgenebank, protein_id, id do uniprot]\n",
    "print(get_CDS_info(Ids)) # [id_protein, location, product, translation]\n"
   ]
  },
  {
   "cell_type": "code",
   "execution_count": 20,
   "metadata": {},
   "outputs": [
    {
     "name": "stdout",
     "output_type": "stream",
     "text": [
      "\n",
      "['X65482.1', 'N/A_CDS', 'N/A']\n",
      "['N/A_CDS', ['N/A'], ['N/A'], ['N/A']]\n",
      "['N/A_CDS', ['N/A'], ['N/A'], ['N/A']]\n",
      "['N/A_CDS', ['N/A'], ['N/A'], ['N/A']]\n",
      "['N/A_CDS', ['N/A'], ['N/A'], ['N/A']]\n",
      "['N/A_CDS', ['N/A'], ['N/A'], ['N/A']]\n",
      "['N/A_CDS', ['N/A'], ['N/A'], ['N/A']]\n",
      "['N/A_CDS', ['N/A'], ['N/A'], ['N/A']]\n",
      "['N/A_CDS', ['N/A'], ['N/A'], ['N/A']]\n",
      "['A00829.1', 'N/A_CDS', 'N/A']\n",
      "['N/A_CDS', ['N/A'], ['N/A'], ['N/A']]\n",
      "['N/A_CDS', ['N/A'], ['N/A'], ['N/A']]\n",
      "['N/A_CDS', ['N/A'], ['N/A'], ['N/A']]\n",
      "['N/A_CDS', ['N/A'], ['N/A'], ['N/A']]\n",
      "['N/A_CDS', ['N/A'], ['N/A'], ['N/A']]\n",
      "['N/A_CDS', ['N/A'], ['N/A'], ['N/A']]\n",
      "['N/A_CDS', ['N/A'], ['N/A'], ['N/A']]\n",
      "['N/A_CDS', ['N/A'], ['N/A'], ['N/A']]\n",
      "['M97702.1', 'N/A_CDS', 'N/A']\n",
      "['N/A_CDS', ['N/A'], ['N/A'], ['N/A']]\n",
      "['N/A_CDS', ['N/A'], ['N/A'], ['N/A']]\n",
      "['N/A_CDS', ['N/A'], ['N/A'], ['N/A']]\n",
      "['N/A_CDS', ['N/A'], ['N/A'], ['N/A']]\n",
      "['N/A_CDS', ['N/A'], ['N/A'], ['N/A']]\n",
      "['N/A_CDS', ['N/A'], ['N/A'], ['N/A']]\n",
      "['N/A_CDS', ['N/A'], ['N/A'], ['N/A']]\n",
      "['N/A_CDS', ['N/A'], ['N/A'], ['N/A']]\n",
      "['X68316.1', 'N/A_CDS', 'N/A']\n",
      "['N/A_CDS', ['N/A'], ['N/A'], ['N/A']]\n",
      "['N/A_CDS', ['N/A'], ['N/A'], ['N/A']]\n",
      "['N/A_CDS', ['N/A'], ['N/A'], ['N/A']]\n",
      "['N/A_CDS', ['N/A'], ['N/A'], ['N/A']]\n",
      "['N/A_CDS', ['N/A'], ['N/A'], ['N/A']]\n",
      "['N/A_CDS', ['N/A'], ['N/A'], ['N/A']]\n",
      "['N/A_CDS', ['N/A'], ['N/A'], ['N/A']]\n",
      "['N/A_CDS', ['N/A'], ['N/A'], ['N/A']]\n",
      "['AAADS0003348.1', 'N/A_CDS', 'N/A']\n",
      "['N/A_CDS', ['N/A'], ['N/A'], ['N/A']]\n",
      "['N/A_CDS', ['N/A'], ['N/A'], ['N/A']]\n",
      "['N/A_CDS', ['N/A'], ['N/A'], ['N/A']]\n",
      "['N/A_CDS', ['N/A'], ['N/A'], ['N/A']]\n",
      "['N/A_CDS', ['N/A'], ['N/A'], ['N/A']]\n",
      "['N/A_CDS', ['N/A'], ['N/A'], ['N/A']]\n",
      "['N/A_CDS', ['N/A'], ['N/A'], ['N/A']]\n",
      "['N/A_CDS', ['N/A'], ['N/A'], ['N/A']]\n",
      "['AAADW0009410.1', 'N/A_CDS', 'N/A']\n",
      "['N/A_CDS', ['N/A'], ['N/A'], ['N/A']]\n",
      "['N/A_CDS', ['N/A'], ['N/A'], ['N/A']]\n",
      "['N/A_CDS', ['N/A'], ['N/A'], ['N/A']]\n",
      "['N/A_CDS', ['N/A'], ['N/A'], ['N/A']]\n",
      "['N/A_CDS', ['N/A'], ['N/A'], ['N/A']]\n",
      "['N/A_CDS', ['N/A'], ['N/A'], ['N/A']]\n",
      "['N/A_CDS', ['N/A'], ['N/A'], ['N/A']]\n",
      "['N/A_CDS', ['N/A'], ['N/A'], ['N/A']]\n",
      "['ABAAM0346030.1', 'N/A_CDS', 'N/A']\n",
      "['N/A_CDS', ['N/A'], ['N/A'], ['N/A']]\n",
      "['N/A_CDS', ['N/A'], ['N/A'], ['N/A']]\n",
      "['N/A_CDS', ['N/A'], ['N/A'], ['N/A']]\n",
      "['N/A_CDS', ['N/A'], ['N/A'], ['N/A']]\n",
      "['N/A_CDS', ['N/A'], ['N/A'], ['N/A']]\n",
      "['N/A_CDS', ['N/A'], ['N/A'], ['N/A']]\n",
      "['N/A_CDS', ['N/A'], ['N/A'], ['N/A']]\n",
      "['N/A_CDS', ['N/A'], ['N/A'], ['N/A']]\n"
     ]
    },
    {
     "data": {
      "text/plain": [
       "[['X65482.1', 'N/A_CDS', 'N/A', ['N/A'], ['N/A'], ['N/A']],\n",
       " ['X65482.1', 'N/A_CDS', 'N/A', ['N/A'], ['N/A'], ['N/A']],\n",
       " ['X65482.1', 'N/A_CDS', 'N/A', ['N/A'], ['N/A'], ['N/A']],\n",
       " ['X65482.1', 'N/A_CDS', 'N/A', ['N/A'], ['N/A'], ['N/A']],\n",
       " ['X65482.1', 'N/A_CDS', 'N/A', ['N/A'], ['N/A'], ['N/A']],\n",
       " ['X65482.1', 'N/A_CDS', 'N/A', ['N/A'], ['N/A'], ['N/A']],\n",
       " ['X65482.1', 'N/A_CDS', 'N/A', ['N/A'], ['N/A'], ['N/A']],\n",
       " ['X65482.1', 'N/A_CDS', 'N/A', ['N/A'], ['N/A'], ['N/A']],\n",
       " ['A00829.1', 'N/A_CDS', 'N/A', ['N/A'], ['N/A'], ['N/A']],\n",
       " ['A00829.1', 'N/A_CDS', 'N/A', ['N/A'], ['N/A'], ['N/A']],\n",
       " ['A00829.1', 'N/A_CDS', 'N/A', ['N/A'], ['N/A'], ['N/A']],\n",
       " ['A00829.1', 'N/A_CDS', 'N/A', ['N/A'], ['N/A'], ['N/A']],\n",
       " ['A00829.1', 'N/A_CDS', 'N/A', ['N/A'], ['N/A'], ['N/A']],\n",
       " ['A00829.1', 'N/A_CDS', 'N/A', ['N/A'], ['N/A'], ['N/A']],\n",
       " ['A00829.1', 'N/A_CDS', 'N/A', ['N/A'], ['N/A'], ['N/A']],\n",
       " ['A00829.1', 'N/A_CDS', 'N/A', ['N/A'], ['N/A'], ['N/A']],\n",
       " ['M97702.1', 'N/A_CDS', 'N/A', ['N/A'], ['N/A'], ['N/A']],\n",
       " ['M97702.1', 'N/A_CDS', 'N/A', ['N/A'], ['N/A'], ['N/A']],\n",
       " ['M97702.1', 'N/A_CDS', 'N/A', ['N/A'], ['N/A'], ['N/A']],\n",
       " ['M97702.1', 'N/A_CDS', 'N/A', ['N/A'], ['N/A'], ['N/A']],\n",
       " ['M97702.1', 'N/A_CDS', 'N/A', ['N/A'], ['N/A'], ['N/A']],\n",
       " ['M97702.1', 'N/A_CDS', 'N/A', ['N/A'], ['N/A'], ['N/A']],\n",
       " ['M97702.1', 'N/A_CDS', 'N/A', ['N/A'], ['N/A'], ['N/A']],\n",
       " ['M97702.1', 'N/A_CDS', 'N/A', ['N/A'], ['N/A'], ['N/A']],\n",
       " ['X68316.1', 'N/A_CDS', 'N/A', ['N/A'], ['N/A'], ['N/A']],\n",
       " ['X68316.1', 'N/A_CDS', 'N/A', ['N/A'], ['N/A'], ['N/A']],\n",
       " ['X68316.1', 'N/A_CDS', 'N/A', ['N/A'], ['N/A'], ['N/A']],\n",
       " ['X68316.1', 'N/A_CDS', 'N/A', ['N/A'], ['N/A'], ['N/A']],\n",
       " ['X68316.1', 'N/A_CDS', 'N/A', ['N/A'], ['N/A'], ['N/A']],\n",
       " ['X68316.1', 'N/A_CDS', 'N/A', ['N/A'], ['N/A'], ['N/A']],\n",
       " ['X68316.1', 'N/A_CDS', 'N/A', ['N/A'], ['N/A'], ['N/A']],\n",
       " ['X68316.1', 'N/A_CDS', 'N/A', ['N/A'], ['N/A'], ['N/A']],\n",
       " ['AAADS0003348.1', 'N/A_CDS', 'N/A', ['N/A'], ['N/A'], ['N/A']],\n",
       " ['AAADS0003348.1', 'N/A_CDS', 'N/A', ['N/A'], ['N/A'], ['N/A']],\n",
       " ['AAADS0003348.1', 'N/A_CDS', 'N/A', ['N/A'], ['N/A'], ['N/A']],\n",
       " ['AAADS0003348.1', 'N/A_CDS', 'N/A', ['N/A'], ['N/A'], ['N/A']],\n",
       " ['AAADS0003348.1', 'N/A_CDS', 'N/A', ['N/A'], ['N/A'], ['N/A']],\n",
       " ['AAADS0003348.1', 'N/A_CDS', 'N/A', ['N/A'], ['N/A'], ['N/A']],\n",
       " ['AAADS0003348.1', 'N/A_CDS', 'N/A', ['N/A'], ['N/A'], ['N/A']],\n",
       " ['AAADS0003348.1', 'N/A_CDS', 'N/A', ['N/A'], ['N/A'], ['N/A']],\n",
       " ['AAADW0009410.1', 'N/A_CDS', 'N/A', ['N/A'], ['N/A'], ['N/A']],\n",
       " ['AAADW0009410.1', 'N/A_CDS', 'N/A', ['N/A'], ['N/A'], ['N/A']],\n",
       " ['AAADW0009410.1', 'N/A_CDS', 'N/A', ['N/A'], ['N/A'], ['N/A']],\n",
       " ['AAADW0009410.1', 'N/A_CDS', 'N/A', ['N/A'], ['N/A'], ['N/A']],\n",
       " ['AAADW0009410.1', 'N/A_CDS', 'N/A', ['N/A'], ['N/A'], ['N/A']],\n",
       " ['AAADW0009410.1', 'N/A_CDS', 'N/A', ['N/A'], ['N/A'], ['N/A']],\n",
       " ['AAADW0009410.1', 'N/A_CDS', 'N/A', ['N/A'], ['N/A'], ['N/A']],\n",
       " ['AAADW0009410.1', 'N/A_CDS', 'N/A', ['N/A'], ['N/A'], ['N/A']],\n",
       " ['ABAAM0346030.1', 'N/A_CDS', 'N/A', ['N/A'], ['N/A'], ['N/A']],\n",
       " ['ABAAM0346030.1', 'N/A_CDS', 'N/A', ['N/A'], ['N/A'], ['N/A']],\n",
       " ['ABAAM0346030.1', 'N/A_CDS', 'N/A', ['N/A'], ['N/A'], ['N/A']],\n",
       " ['ABAAM0346030.1', 'N/A_CDS', 'N/A', ['N/A'], ['N/A'], ['N/A']],\n",
       " ['ABAAM0346030.1', 'N/A_CDS', 'N/A', ['N/A'], ['N/A'], ['N/A']],\n",
       " ['ABAAM0346030.1', 'N/A_CDS', 'N/A', ['N/A'], ['N/A'], ['N/A']],\n",
       " ['ABAAM0346030.1', 'N/A_CDS', 'N/A', ['N/A'], ['N/A'], ['N/A']],\n",
       " ['ABAAM0346030.1', 'N/A_CDS', 'N/A', ['N/A'], ['N/A'], ['N/A']]]"
      ]
     },
     "execution_count": 20,
     "metadata": {},
     "output_type": "execute_result"
    }
   ],
   "source": [
    "#final [idgenebank, protein_id, id_uniprot,location, product, translation]\n",
    "def join_lists(list1, list2):\n",
    "    result = []\n",
    "    for item1 in list1:\n",
    "        print(item1)\n",
    "        for item2 in list2:\n",
    "            print(item2)\n",
    "            string_item2 = str(item2[0])\n",
    "            string_item2 = string_item2.replace(\"[\",\"\").replace(\"]\",\"\").replace(\"'\",\"\")\n",
    "            if item1[1] == string_item2 or item1[1] == string_item2:\n",
    "                result.append(item1 + item2[1:])\n",
    "    return result\n",
    "join_lists(join_ids_CDS(result_dict,get_list_uniprot(ID_PROT, result_dict)), get_CDS_info(Ids))"
   ]
  },
  {
   "cell_type": "code",
   "execution_count": 108,
   "metadata": {},
   "outputs": [
    {
     "name": "stdout",
     "output_type": "stream",
     "text": [
      "['chlorophyll a/b binding protein (LHCP AB 65)']\n",
      "['gag protein']\n"
     ]
    }
   ],
   "source": [
    "for i in join_lists(join_ids_CDS(result_dict,get_list_uniprot(ID_PROT)), get_CDS_info(Ids)):\n",
    "    print(i[4])"
   ]
  },
  {
   "cell_type": "markdown",
   "metadata": {},
   "source": [
    "### Buscar seq dos genes:"
   ]
  },
  {
   "cell_type": "code",
   "execution_count": null,
   "metadata": {},
   "outputs": [],
   "source": [
    "#Biopython\n",
    "Ids=[]\n",
    "database = 'nucleotide'\n",
    "email= 'rodrigoce9@gmail.com'\n",
    "idlist= n_genes\n",
    "handle = Entrez.efetch(db=database, id=idlist, rettype=\"gb\") \n",
    "records = list(SeqIO.parse(handle,\"gb\"))\n",
    "handle.close()\n",
    "seq=[]\n",
    "for info in records:\n",
    "    print(info.id)\n",
    "    print(info.seq[0:50],'...',info.seq[-10:])\n",
    "    print()\n",
    "    seq.append(f'{info.seq[0:50]}...{info.seq[-10:]}')\n",
    "    "
   ]
  },
  {
   "cell_type": "markdown",
   "metadata": {},
   "source": [
    "### Buscar artigos:"
   ]
  },
  {
   "cell_type": "code",
   "execution_count": null,
   "metadata": {},
   "outputs": [],
   "source": [
    "Ids=[]\n",
    "database = 'PubMed'\n",
    "email= 'rodrigoce9@gmail.com'\n",
    "idlist= n_genes\n",
    "handle = Entrez.efetch(db=database, id=idlist, rettype=\"medline\", retmode=\"text\") \n",
    "records = Medline.parse(handle)\n",
    "description=[]\n",
    "for info in records:\n",
    "    print(\"title:\", info.get(\"TI\", \"-\"))\n",
    "    print('authors: ', info.get(\"AU\", \"-\"))\n",
    "    print(\"source:\", info.get(\"SO\", \"-\"))\n",
    "    print(\"affiliation: \", info.get(\"AD\", \"-\") ) # FAZER O IF/ELSE PARA O CASO DE NÃO TER AFFILIATION\n",
    "    print()"
   ]
  },
  {
   "cell_type": "markdown",
   "metadata": {},
   "source": [
    "### Começar povoar"
   ]
  },
  {
   "cell_type": "code",
   "execution_count": 50,
   "metadata": {},
   "outputs": [
    {
     "name": "stdout",
     "output_type": "stream",
     "text": [
      "['N/A_CDS', ['N/A'], ['N/A'], ['N/A']]\n",
      "['V00883.1', ['[223 : 316]', '[440 : 662]', '[1479 : 1608]'], [\"['beta-3 globin']\"], [\"['MVHFTAEEKAAITSTWKLVDVEDAGAEALGRLLVVYPWTQRFFDSFGNLSSSSAIMGNPKVKAHGKKVLTAFGDAVKNVDDLKNTFAHLSELHCDRLHVDPENFKLLGNVLVIVLAKYFGKEFTPQVQSAWQKLVAGVATALAHKYH']\"]]\n"
     ]
    }
   ],
   "source": [
    "#para povoar CDS\n",
    "# print(result_dict)\n",
    "# print(Ids)\n",
    "# print(get_CDS_location(Ids)[0])\n",
    "#key: id_genebank values: id_Uniprot\n",
    "for i in get_CDS_info(Ids):\n",
    "    print(i)"
   ]
  },
  {
   "cell_type": "code",
   "execution_count": 38,
   "metadata": {},
   "outputs": [
    {
     "data": {
      "text/plain": [
       "['N/A']"
      ]
     },
     "execution_count": 38,
     "metadata": {},
     "output_type": "execute_result"
    }
   ],
   "source": [
    "#para povoar CDS\n",
    "\n",
    "get_CDS_info(Ids)[0][1]"
   ]
  },
  {
   "cell_type": "code",
   "execution_count": 26,
   "metadata": {},
   "outputs": [
    {
     "name": "stdout",
     "output_type": "stream",
     "text": [
      "\n",
      "\n"
     ]
    },
    {
     "ename": "MySQLInterfaceError",
     "evalue": "Python type list cannot be converted",
     "output_type": "error",
     "traceback": [
      "\u001b[1;31m---------------------------------------------------------------------------\u001b[0m",
      "\u001b[1;31mMySQLInterfaceError\u001b[0m                       Traceback (most recent call last)",
      "Input \u001b[1;32mIn [26]\u001b[0m, in \u001b[0;36m<cell line: 16>\u001b[1;34m()\u001b[0m\n\u001b[0;32m     21\u001b[0m         val\u001b[38;5;241m=\u001b[39m(get_CDS_info(Ids)[index][\u001b[38;5;241m0\u001b[39m], get_CDS_info(Ids)[index][\u001b[38;5;241m2\u001b[39m], get_CDS_info(Ids)[index][\u001b[38;5;241m3\u001b[39m],get_CDS_info(Ids)[index][\u001b[38;5;241m1\u001b[39m],join_ids_CDS(result_dict,get_list_uniprot(ID_PROT, result_dict))[index][\u001b[38;5;241m0\u001b[39m],join_ids_CDS(result_dict,get_list_uniprot(ID_PROT, result_dict))[index][\u001b[38;5;241m2\u001b[39m])\n\u001b[0;32m     22\u001b[0m \u001b[38;5;66;03m#         print(type(des[index]))\u001b[39;00m\n\u001b[1;32m---> 23\u001b[0m         \u001b[43mCursor\u001b[49m\u001b[38;5;241;43m.\u001b[39;49m\u001b[43mexecute\u001b[49m\u001b[43m(\u001b[49m\u001b[43msql\u001b[49m\u001b[43m,\u001b[49m\u001b[43mval\u001b[49m\u001b[43m)\u001b[49m\n\u001b[0;32m     24\u001b[0m \u001b[38;5;66;03m#         for values in des:\u001b[39;00m\n\u001b[0;32m     25\u001b[0m \u001b[38;5;66;03m#             Cursor.execute(f\"INSERT INTO Gene ( Description)  VALUES ('{values}')\")\u001b[39;00m\n\u001b[0;32m     26\u001b[0m \u001b[38;5;28;01mexcept\u001b[39;00m mysql\u001b[38;5;241m.\u001b[39mconnector\u001b[38;5;241m.\u001b[39mError \u001b[38;5;28;01mas\u001b[39;00m e:\n",
      "File \u001b[1;32m~\\anaconda3\\lib\\site-packages\\mysql\\connector\\cursor_cext.py:266\u001b[0m, in \u001b[0;36mCMySQLCursor.execute\u001b[1;34m(self, operation, params, multi)\u001b[0m\n\u001b[0;32m    263\u001b[0m     \u001b[38;5;28;01mraise\u001b[39;00m ProgrammingError(\u001b[38;5;28mstr\u001b[39m(err)) \u001b[38;5;28;01mfrom\u001b[39;00m \u001b[38;5;21;01merr\u001b[39;00m\n\u001b[0;32m    265\u001b[0m \u001b[38;5;28;01mif\u001b[39;00m params:\n\u001b[1;32m--> 266\u001b[0m     prepared \u001b[38;5;241m=\u001b[39m \u001b[38;5;28;43mself\u001b[39;49m\u001b[38;5;241;43m.\u001b[39;49m\u001b[43m_cnx\u001b[49m\u001b[38;5;241;43m.\u001b[39;49m\u001b[43mprepare_for_mysql\u001b[49m\u001b[43m(\u001b[49m\u001b[43mparams\u001b[49m\u001b[43m)\u001b[49m\n\u001b[0;32m    267\u001b[0m     \u001b[38;5;28;01mif\u001b[39;00m \u001b[38;5;28misinstance\u001b[39m(prepared, \u001b[38;5;28mdict\u001b[39m):\n\u001b[0;32m    268\u001b[0m         \u001b[38;5;28;01mfor\u001b[39;00m key, value \u001b[38;5;129;01min\u001b[39;00m prepared\u001b[38;5;241m.\u001b[39mitems():\n",
      "File \u001b[1;32m~\\anaconda3\\lib\\site-packages\\mysql\\connector\\connection_cext.py:726\u001b[0m, in \u001b[0;36mCMySQLConnection.prepare_for_mysql\u001b[1;34m(self, params)\u001b[0m\n\u001b[0;32m    719\u001b[0m         result \u001b[38;5;241m=\u001b[39m [\n\u001b[0;32m    720\u001b[0m             \u001b[38;5;28mself\u001b[39m\u001b[38;5;241m.\u001b[39mconverter\u001b[38;5;241m.\u001b[39mquote(\n\u001b[0;32m    721\u001b[0m                 \u001b[38;5;28mself\u001b[39m\u001b[38;5;241m.\u001b[39mconverter\u001b[38;5;241m.\u001b[39mescape(\u001b[38;5;28mself\u001b[39m\u001b[38;5;241m.\u001b[39mconverter\u001b[38;5;241m.\u001b[39mto_mysql(value))\n\u001b[0;32m    722\u001b[0m             )\n\u001b[0;32m    723\u001b[0m             \u001b[38;5;28;01mfor\u001b[39;00m value \u001b[38;5;129;01min\u001b[39;00m params\n\u001b[0;32m    724\u001b[0m         ]\n\u001b[0;32m    725\u001b[0m     \u001b[38;5;28;01melse\u001b[39;00m:\n\u001b[1;32m--> 726\u001b[0m         result \u001b[38;5;241m=\u001b[39m \u001b[38;5;28;43mself\u001b[39;49m\u001b[38;5;241;43m.\u001b[39;49m\u001b[43m_cmysql\u001b[49m\u001b[38;5;241;43m.\u001b[39;49m\u001b[43mconvert_to_mysql\u001b[49m\u001b[43m(\u001b[49m\u001b[38;5;241;43m*\u001b[39;49m\u001b[43mparams\u001b[49m\u001b[43m)\u001b[49m\n\u001b[0;32m    727\u001b[0m \u001b[38;5;28;01melif\u001b[39;00m \u001b[38;5;28misinstance\u001b[39m(params, \u001b[38;5;28mdict\u001b[39m):\n\u001b[0;32m    728\u001b[0m     result \u001b[38;5;241m=\u001b[39m {}\n",
      "\u001b[1;31mMySQLInterfaceError\u001b[0m: Python type list cannot be converted"
     ]
    }
   ],
   "source": [
    "#Povoação \"CDS\"\n",
    "\n",
    "import mysql.connector as SQLC\n",
    "import mysql.connector\n",
    "\n",
    "\n",
    "DataBase = SQLC.connect(\n",
    "    host =\"geo.di.uminho.pt\",\n",
    "    user =\"bioinformatica\",\n",
    "    password =\"20221207\",\n",
    "    database =\"AP_db_KRG\"\n",
    ")\n",
    "DataBase.autocommit = True # allows the change be done\n",
    "\n",
    "Cursor = DataBase.cursor()\n",
    "try:\n",
    "    for index, value in enumerate(Ids):\n",
    "        #print(value)\n",
    "        #print(des[index])\n",
    "        sql= \"INSERT INTO CDS (ID_CDS, Product, Translation, Location, ID_genebank, ID_Uniprot) VALUES (%s, %s, %s, %s, %s, %s, %s, %s, %s, %s)\"\n",
    "        val=(get_CDS_info(Ids)[index][0], get_CDS_info(Ids)[index][2], get_CDS_info(Ids)[index][3],get_CDS_info(Ids)[index][1],join_ids_CDS(result_dict,get_list_uniprot(ID_PROT, result_dict))[index][0],join_ids_CDS(result_dict,get_list_uniprot(ID_PROT, result_dict))[index][2])\n",
    "#         print(type(des[index]))\n",
    "        Cursor.execute(sql,val)\n",
    "#         for values in des:\n",
    "#             Cursor.execute(f\"INSERT INTO Gene ( Description)  VALUES ('{values}')\")\n",
    "except mysql.connector.Error as e:\n",
    "    print(\"Erro na escrita na base de dados: {}\".format(e) )    \n",
    "finally:\n",
    "    DataBase.close()"
   ]
  },
  {
   "cell_type": "code",
   "execution_count": 367,
   "metadata": {},
   "outputs": [
    {
     "name": "stdout",
     "output_type": "stream",
     "text": [
      "P02099\n",
      "https://www.uniprot.org/uniprotkb/P02099/entry\n",
      "https://www.uniprot.org/uniprotkb/Q00873/entry\n"
     ]
    }
   ],
   "source": [
    "#mini testes\n",
    "# print(get_list_uniprot(ID_PROT)) #list of lists (ID_Uniprot, Function, Subcelular location, Protein seq, length_aa)\n",
    "print(get_list_uniprot(ID_PROT)[0][0])\n",
    "for index, value in enumerate(get_list_uniprot(ID_PROT)):\n",
    "    print(str(get_list_uniprot(ID_PROT)[index][5]))"
   ]
  },
  {
   "cell_type": "code",
   "execution_count": 137,
   "metadata": {},
   "outputs": [],
   "source": [
    "#Povoação \"Uniprot\"\n",
    "# print(uniprot_final_list) #(ID_Uniprot, Subcelular location, Function, Protein seq, length_aa)\n",
    "\n",
    "import mysql.connector as SQLC\n",
    "import mysql.connector\n",
    "\n",
    "\n",
    "DataBase = SQLC.connect(\n",
    "    host =\"geo.di.uminho.pt\",\n",
    "    user =\"bioinformatica\",\n",
    "    password =\"20221207\",\n",
    "    database =\"AP_db_KRG\"\n",
    ")\n",
    "DataBase.autocommit = True # allows the change be done\n",
    "\n",
    "Cursor = DataBase.cursor()\n",
    "try:\n",
    "#     sql = \"ALTER TABLE Uniprot AUTO_INCREMENT = 0\"\n",
    "#     Cursor.execute(sql)\n",
    "    for index, value in enumerate(get_list_uniprot(ID_PROT)):\n",
    "        #print(value)\n",
    "        sql= \"INSERT INTO Uniprot (ID_Uniprot, Subcelular_Location, Function, Protein_sequence, length_aa, Link_Uniprot) VALUES (%s, %s, %s, %s, %s, %s)\"\n",
    "        val=(get_list_uniprot(ID_PROT)[index][0],get_list_uniprot(ID_PROT)[index][1], get_list_uniprot(ID_PROT)[index][2], get_list_uniprot(ID_PROT)[index][3], get_list_uniprot(ID_PROT)[index][4], get_list_uniprot(ID_PROT)[index][5])\n",
    "        Cursor.execute(sql,val)\n",
    "    \n",
    "    ID_AI=[]\n",
    "    sql= \"Select ID_AI FROM Uniprot\"\n",
    "    Cursor.execute(sql)\n",
    "    for row in Cursor:\n",
    "        ID_AI.append(str(row))\n",
    "    div_= ', '.join(ID_AI)\n",
    "    h_= div_.replace(\"(\",'')\n",
    "    hh_= h_.replace(\",)\",'')\n",
    "    SEARCH_ID_AI= hh_.split(', ')\n",
    "except mysql.connector.Error as e:\n",
    "    print(\"Erro na escrita na base de dados: {}\".format(e) )    \n",
    "finally:\n",
    "    DataBase.close()"
   ]
  },
  {
   "cell_type": "code",
   "execution_count": 136,
   "metadata": {},
   "outputs": [
    {
     "name": "stdout",
     "output_type": "stream",
     "text": [
      "['7', '8']\n"
     ]
    }
   ],
   "source": [
    "print(SEARCH_ID_AI)"
   ]
  },
  {
   "cell_type": "code",
   "execution_count": 130,
   "metadata": {},
   "outputs": [
    {
     "name": "stdout",
     "output_type": "stream",
     "text": [
      "['(1,)', '(2,)']\n",
      "['1', '2']\n"
     ]
    }
   ],
   "source": [
    "#para buscar os ids da tabela Uniprot, que sao AI\n",
    "ID_AI=[]\n",
    "DataBase = SQLC.connect(\n",
    "    host =\"geo.di.uminho.pt\",\n",
    "    user =\"bioinformatica\",\n",
    "    password =\"20221207\",\n",
    "    database =\"AP_db_KRG\"\n",
    ")\n",
    "DataBase.autocommit = True # allows the change be done\n",
    "\n",
    "Cursor = DataBase.cursor()\n",
    "try:\n",
    "    sql= \"Select ID_AI FROM Uniprot\"\n",
    "    Cursor.execute(sql)\n",
    "    for row in Cursor:\n",
    "        #print(row)\n",
    "        ID_AI.append(str(row))       \n",
    "except mysql.connector.Error as e:\n",
    "    print(\"Erro na escrita na base de dados: {}\".format(e) )    \n",
    "finally:\n",
    "    DataBase.close()\n",
    "    \n",
    "div_= ', '.join(ID_AI)\n",
    "h_= div_.replace(\"(\",'')\n",
    "hh_= h_.replace(\",)\",'')\n",
    "SEARCH_ID_AI= hh_.split(', ')\n",
    "print(SEARCH_ID_AI)"
   ]
  },
  {
   "cell_type": "code",
   "execution_count": null,
   "metadata": {},
   "outputs": [],
   "source": [
    "import pandas as pd \n",
    "\n",
    "DataBase = SQLC.connect(\n",
    "    host =\"geo.di.uminho.pt\",\n",
    "    user =\"bioinformatica\",\n",
    "    password =\"20221207\",\n",
    "    database =\"AP_db_KRG\"\n",
    ")\n",
    "\n",
    "####### end of connection ####\n",
    "tabela = pd.read_sql(\"Select * FROM Gene\", DataBase)\n",
    "DataBase.close()\n",
    "print(tabela)"
   ]
  },
  {
   "cell_type": "code",
   "execution_count": null,
   "metadata": {},
   "outputs": [],
   "source": []
  },
  {
   "cell_type": "code",
   "execution_count": null,
   "metadata": {},
   "outputs": [],
   "source": []
  }
 ],
 "metadata": {
  "authors": [
   {
    "name": "Jorge Gustavo Rocha"
   }
  ],
  "kernelspec": {
   "display_name": "Python 3 (ipykernel)",
   "language": "python",
   "name": "python3"
  },
  "language_info": {
   "codemirror_mode": {
    "name": "ipython",
    "version": 3
   },
   "file_extension": ".py",
   "mimetype": "text/x-python",
   "name": "python",
   "nbconvert_exporter": "python",
   "pygments_lexer": "ipython3",
   "version": "3.9.12"
  },
  "vscode": {
   "interpreter": {
    "hash": "916dbcbb3f70747c44a77c7bcd40155683ae19c65e1c03b4aa3499c5328201f1"
   }
  }
 },
 "nbformat": 4,
 "nbformat_minor": 2
}
