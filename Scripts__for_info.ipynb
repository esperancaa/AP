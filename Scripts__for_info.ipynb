{
 "cells": [
  {
   "cell_type": "code",
   "execution_count": 1,
   "metadata": {},
   "outputs": [],
   "source": [
    "from Bio.Blast import NCBIXML \n",
    "from Bio.Blast import NCBIWWW\n",
    "import requests, sys, json\n",
    "import re\n",
    "from Bio import SeqIO\n",
    "from Bio import Entrez\n",
    "from Bio import Medline\n",
    "import pandas as pd\n",
    "import numpy as np\n",
    "from tqdm import tqdm\n",
    "from Bio import SearchIO\n",
    "from Bio.SeqRecord import SeqRecord\n",
    "from Bio.Seq import Seq\n",
    "from bs4 import BeautifulSoup"
   ]
  },
  {
   "cell_type": "markdown",
   "metadata": {},
   "source": [
    "### web scraping (escolher condição e nº de genes)"
   ]
  },
  {
   "cell_type": "code",
   "execution_count": 12,
   "metadata": {},
   "outputs": [
    {
     "name": "stdout",
     "output_type": "stream",
     "text": [
      "escolha o que quer pesquisar: irs1\n",
      "escolha o nº de genes que quer obter (máximo 20) atenção que o reultado pode ser menor que o desejado: 10\n",
      "['3667', '3667', '16367', '25467', '559281', '3077574', '100512686', '538598', '459985', '100607873']\n"
     ]
    }
   ],
   "source": [
    "query= input('escolha o que quer pesquisar: ')\n",
    "def url_get(i):\n",
    "    url_list= [ ]\n",
    "    url = \"https://www.ncbi.nlm.nih.gov/gene/?term={}\".format( query )\n",
    "    url_list.append(url)\n",
    "    return url_list\n",
    "url_get(1)\n",
    "\n",
    "content = []\n",
    "for url in url_get(1):\n",
    "    r = requests.get(url)\n",
    "    content.append(r.content)\n",
    "#print(content)\n",
    "\n",
    "# Parsing the HTML\n",
    "for c in content:\n",
    "    soup = BeautifulSoup(c, 'html.parser')\n",
    "    a= soup.get_text()\n",
    "#     print (a)\n",
    "\n",
    "exist = re.findall(r\"ID:\\s+\\d*(?=\\D)\", a, re.DOTALL)\n",
    "\n",
    "c= ', '.join(exist)\n",
    "h= c.replace('ID: ','')\n",
    "IDS= h.split(', ')\n",
    "\n",
    "n_genes= IDS[0:int(input('escolha o nº de genes que quer obter (máximo 20) atenção que o reultado pode ser menor que o desejado: '))] #can be more. related to ncbi pagination\n",
    "print(n_genes)\n",
    "\n",
    "if n_genes == ['']:\n",
    "    print (\"Não encontramos resultado para a sua pesquisa\")\n",
    "# else:\n",
    "#     print (n_genes)"
   ]
  },
  {
   "cell_type": "markdown",
   "metadata": {},
   "source": [
    "### Buscar Links dos genes:"
   ]
  },
  {
   "cell_type": "code",
   "execution_count": 13,
   "metadata": {},
   "outputs": [
    {
     "data": {
      "text/plain": [
       "['https://www.ncbi.nlm.nih.gov/nuccore/3667',\n",
       " 'https://www.ncbi.nlm.nih.gov/nuccore/3667',\n",
       " 'https://www.ncbi.nlm.nih.gov/nuccore/16367',\n",
       " 'https://www.ncbi.nlm.nih.gov/nuccore/25467',\n",
       " 'https://www.ncbi.nlm.nih.gov/nuccore/559281',\n",
       " 'https://www.ncbi.nlm.nih.gov/nuccore/3077574',\n",
       " 'https://www.ncbi.nlm.nih.gov/nuccore/100512686',\n",
       " 'https://www.ncbi.nlm.nih.gov/nuccore/538598',\n",
       " 'https://www.ncbi.nlm.nih.gov/nuccore/459985',\n",
       " 'https://www.ncbi.nlm.nih.gov/nuccore/100607873']"
      ]
     },
     "execution_count": 13,
     "metadata": {},
     "output_type": "execute_result"
    }
   ],
   "source": [
    "def url_get_id(i):\n",
    "    url_list= [ ]\n",
    "    for id in n_genes:\n",
    "        url = \"https://www.ncbi.nlm.nih.gov/nuccore/{}\".format( id )\n",
    "        url_list.append(url)\n",
    "    return url_list\n",
    "url_get_id(n_genes)"
   ]
  },
  {
   "cell_type": "code",
   "execution_count": null,
   "metadata": {},
   "outputs": [],
   "source": [
    "    # FAZER HISTORICO?"
   ]
  },
  {
   "cell_type": "markdown",
   "metadata": {},
   "source": [
    "### Buscar ids do ncbi:"
   ]
  },
  {
   "cell_type": "code",
   "execution_count": 14,
   "metadata": {
    "scrolled": true
   },
   "outputs": [
    {
     "name": "stdout",
     "output_type": "stream",
     "text": [
      "5 ['X03907.1', 'AA928418.1', 'AAADR0035516.1', 'L20655.1', 'AAADU0045050.1']\n"
     ]
    }
   ],
   "source": [
    "Ids=[]\n",
    "database = 'nucleotide'\n",
    "email= 'rodrigoce9@gmail.com'\n",
    "idlist= n_genes\n",
    "handle = Entrez.efetch(db=database, id=idlist, rettype=\"gb\") \n",
    "records = list(SeqIO.parse(handle,\"gb\"))\n",
    "handle.close()\n",
    "for info in records:\n",
    "    Ids.append(info.id)\n",
    "print(len(Ids), Ids)"
   ]
  },
  {
   "cell_type": "markdown",
   "metadata": {},
   "source": [
    "### Buscar quantidade de cds e a sua localização:"
   ]
  },
  {
   "cell_type": "code",
   "execution_count": 70,
   "metadata": {},
   "outputs": [
    {
     "name": "stdout",
     "output_type": "stream",
     "text": [
      "True\n",
      "True\n",
      "[FeatureLocation(ExactPosition(145), ExactPosition(949), strand=1), FeatureLocation(BeforePosition(0), AfterPosition(92), strand=1)]\n"
     ]
    }
   ],
   "source": [
    "#original\n",
    "database = 'nucleotide'\n",
    "email= 'rodrigoce9@gmail.com'\n",
    "idlist= n_genes\n",
    "handle = Entrez.efetch(db=database, id=idlist, rettype=\"gb\") \n",
    "records = list(SeqIO.parse(handle,\"gb\"))\n",
    "handle.close()\n",
    "featcds = [ ]\n",
    "position=0\n",
    "cds_location=[]\n",
    "for info in records:\n",
    "#     print(info.id)\n",
    "    for i in range(len(info.features)):\n",
    "        if info.features[i].type == \"CDS\":\n",
    "            print(info.features[i].type == \"CDS\")\n",
    "            featcds.append(i)\n",
    "            cds=i\n",
    "            a=str(cds)\n",
    "#             print (len(a))\n",
    "            position=i\n",
    "            cds_location.append(info.features[position].location)\n",
    "print(cds_location)\n",
    "            \n",
    "# print (pos)"
   ]
  },
  {
   "cell_type": "code",
   "execution_count": 91,
   "metadata": {},
   "outputs": [
    {
     "name": "stdout",
     "output_type": "stream",
     "text": [
      "['X03907.1', 'AA928418.1', 'AAADR0035516.1', 'L20655.1', 'AAADU0045050.1', 'U49845.1']\n",
      "['X03907.1', FeatureLocation(ExactPosition(145), ExactPosition(949), strand=1)]\n",
      "['AA928418.1', 0]\n",
      "['AAADR0035516.1', 0]\n",
      "['L20655.1', FeatureLocation(BeforePosition(0), AfterPosition(92), strand=1)]\n",
      "['AAADU0045050.1', 0]\n",
      "['U49845.1', FeatureLocation(BeforePosition(0), ExactPosition(206), strand=1), FeatureLocation(ExactPosition(686), ExactPosition(3158), strand=1), FeatureLocation(ExactPosition(3299), ExactPosition(4037), strand=-1)]\n"
     ]
    }
   ],
   "source": [
    "def get_CDS_location(id_list):\n",
    "    database = 'nucleotide'\n",
    "    email= 'rodrigoce9@gmail.com'\n",
    "    Entrez.email = email\n",
    "    handle = Entrez.efetch(db=database, id=id_list, rettype=\"gb\") \n",
    "    records = list(SeqIO.parse(handle,\"gb\"))\n",
    "    handle.close()\n",
    "    cds_location_list = []\n",
    "    for info in records:\n",
    "        cds_location = []\n",
    "        cds_location.append(info.id)\n",
    "        for i in range(len(info.features)):\n",
    "            if info.features[i].type == \"CDS\":\n",
    "                cds_location.append(info.features[i].location)\n",
    "        if len(cds_location)==1:\n",
    "            cds_location.append(0)\n",
    "        cds_location_list.append(cds_location)\n",
    "    return cds_location_list\n",
    "print(Ids)\n",
    "# Ids.remove('U49845.1')\n",
    "for i in get_CDS_location(Ids):\n",
    "    print(i)"
   ]
  },
  {
   "cell_type": "code",
   "execution_count": 94,
   "metadata": {},
   "outputs": [],
   "source": [
    "Ids.append('NG_009030.2')"
   ]
  },
  {
   "cell_type": "code",
   "execution_count": 95,
   "metadata": {},
   "outputs": [
    {
     "name": "stdout",
     "output_type": "stream",
     "text": [
      "['X03907.1', FeatureLocation(ExactPosition(145), ExactPosition(949), strand=1)]\n",
      "['L20655.1', FeatureLocation(BeforePosition(0), AfterPosition(92), strand=1)]\n",
      "['U49845.1', FeatureLocation(BeforePosition(0), ExactPosition(206), strand=1)]\n",
      "['U49845.1', FeatureLocation(ExactPosition(686), ExactPosition(3158), strand=1)]\n",
      "['U49845.1', FeatureLocation(ExactPosition(3299), ExactPosition(4037), strand=-1)]\n",
      "['NG_009030.2', CompoundLocation([FeatureLocation(ExactPosition(66454), ExactPosition(66602), strand=1), FeatureLocation(ExactPosition(196494), ExactPosition(196600), strand=1), FeatureLocation(ExactPosition(220376), ExactPosition(220579), strand=1), FeatureLocation(ExactPosition(224378), ExactPosition(224564), strand=1), FeatureLocation(ExactPosition(237847), ExactPosition(238049), strand=1), FeatureLocation(ExactPosition(239526), ExactPosition(239740), strand=1), FeatureLocation(ExactPosition(241074), ExactPosition(241197), strand=1), FeatureLocation(ExactPosition(244108), ExactPosition(244243), strand=1), FeatureLocation(ExactPosition(247567), ExactPosition(247717), strand=1), FeatureLocation(ExactPosition(251849), ExactPosition(252014), strand=1), FeatureLocation(ExactPosition(253604), ExactPosition(253877), strand=1), FeatureLocation(ExactPosition(255411), ExactPosition(255748), strand=1), FeatureLocation(ExactPosition(257341), ExactPosition(259809), strand=1)], 'join')]\n"
     ]
    }
   ],
   "source": [
    "def get_CDS_location(id_list):\n",
    "    database = 'nucleotide'\n",
    "    email= 'rodrigoce9@gmail.com'\n",
    "    Entrez.email = email\n",
    "    handle = Entrez.efetch(db=database, id=id_list, rettype=\"gb\") \n",
    "    records = list(SeqIO.parse(handle,\"gb\"))\n",
    "    handle.close()\n",
    "    cds_location_list = []\n",
    "    for info in records:\n",
    "        for i in range(len(info.features)):\n",
    "            if info.features[i].type == \"CDS\":\n",
    "                cds_location = []\n",
    "                cds_location.append(info.id)\n",
    "                cds_location.append(info.features[i].location)\n",
    "                cds_location_list.append(cds_location)\n",
    "    return cds_location_list\n",
    "for i in get_CDS_location(Ids):\n",
    "    print(i)"
   ]
  },
  {
   "cell_type": "code",
   "execution_count": 122,
   "metadata": {},
   "outputs": [
    {
     "name": "stdout",
     "output_type": "stream",
     "text": [
      "['X03907.1', '[145 : 949]']\n",
      "['L20655.1', '[<0 : >92]']\n",
      "['U49845.1', '[<0 : 206]']\n",
      "['U49845.1', '[686 : 3158]']\n",
      "['U49845.1', '[3299 : 4037]']\n",
      "['NG_009030.2', ['[66454 : 66602]', '[196494 : 196600]', '[220376 : 220579]', '[224378 : 224564]', '[237847 : 238049]', '[239526 : 239740]', '[241074 : 241197]', '[244108 : 244243]', '[247567 : 247717]', '[251849 : 252014]', '[253604 : 253877]', '[255411 : 255748]', '[257341 : 259809]']]\n"
     ]
    }
   ],
   "source": [
    "from Bio.SeqFeature import CompoundLocation\n",
    "def get_CDS_location(id_list):\n",
    "    database = 'nucleotide'\n",
    "    email= 'rodrigoce9@gmail.com'\n",
    "    Entrez.email = email\n",
    "    handle = Entrez.efetch(db=database, id=id_list, rettype=\"gb\") \n",
    "    records = list(SeqIO.parse(handle,\"gb\"))\n",
    "    handle.close()\n",
    "    cds_location_list = []\n",
    "    several_location = []\n",
    "    for info in records:\n",
    "        for i in range(len(info.features)):\n",
    "            if info.features[i].type == \"CDS\":\n",
    "                cds_location = []\n",
    "                cds_location.append(info.id)\n",
    "                if isinstance(info.features[i].location, CompoundLocation):\n",
    "                    for sub_location in info.features[i].location.parts:\n",
    "                        several_location.append(\"[{} : {}]\".format(sub_location.start, sub_location.end))\n",
    "                    cds_location.append(several_location)\n",
    "                else:\n",
    "                    cds_location.append(\"[{} : {}]\".format(info.features[i].location.start, info.features[i].location.end))\n",
    "                cds_location_list.append(cds_location)\n",
    "    return cds_location_list\n",
    "for i in get_CDS_location(Ids):\n",
    "    print(i)\n",
    "\n",
    "# < indicates 5' to 3' (forward direction)\n",
    "# < indicates 3' to 5' (reverse direction)  one of the sugestion to improve work ++++++++++++++++++++++++++++++++"
   ]
  },
  {
   "cell_type": "markdown",
   "metadata": {},
   "source": [
    "### Buscar organismos (ainda em processo): "
   ]
  },
  {
   "cell_type": "code",
   "execution_count": 25,
   "metadata": {},
   "outputs": [
    {
     "name": "stdout",
     "output_type": "stream",
     "text": [
      "X03907.1\n",
      "AA928418.1\n",
      "AAADR0035516.1\n",
      "L20655.1\n",
      "AAADU0045050.1\n"
     ]
    }
   ],
   "source": [
    "Organismos=[]\n",
    "database = 'nucleotide'\n",
    "email= 'rodrigoce9@gmail.com'\n",
    "idlist= n_genes\n",
    "handle = Entrez.efetch(db=database, id=idlist, rettype=\"gb\") \n",
    "records = list(SeqIO.parse(handle,\"gb\"))\n",
    "handle.close()\n",
    "for info in records:\n",
    "    Ids.append(info.id)\n",
    "    print(info.id)"
   ]
  },
  {
   "cell_type": "markdown",
   "metadata": {},
   "source": [
    "### Buscar Ids de proteinas"
   ]
  },
  {
   "cell_type": "code",
   "execution_count": 15,
   "metadata": {},
   "outputs": [
    {
     "name": "stdout",
     "output_type": "stream",
     "text": [
      "['CAA27540.1', 'AAA47844.1']\n"
     ]
    }
   ],
   "source": [
    "#original\n",
    "list_pro=[]\n",
    "database = 'nucleotide'\n",
    "email= 'rodrigoce9@gmail.com'\n",
    "idlist= n_genes\n",
    "handle = Entrez.efetch(db=database, id=idlist, rettype=\"gb\") \n",
    "records = list(SeqIO.parse(handle,\"gb\"))\n",
    "handle.close()\n",
    "for info in records:\n",
    "    for i in info.features:\n",
    "        if i.type == \"CDS\":\n",
    "            pro= str(i.qualifiers[\"protein_id\"])\n",
    "            list_pro.append(pro)\n",
    "div= ', '.join(list_pro)\n",
    "h= div.replace(\"['\",'')\n",
    "hh= h.replace(\"']\",'')\n",
    "ID_PROT= hh.split(', ')\n",
    "print (ID_PROT) # is used below in Uniprot"
   ]
  },
  {
   "cell_type": "code",
   "execution_count": 67,
   "metadata": {},
   "outputs": [
    {
     "name": "stdout",
     "output_type": "stream",
     "text": [
      "{'X03907.1': 'CAA27540.1', 'AA928418.1': 'N/A', 'AAADR0035516.1': 'N/A', 'L20655.1': 'AAA47844.1', 'AAADU0045050.1': 'N/A'}\n"
     ]
    }
   ],
   "source": [
    "#FINAL\n",
    "result_dict = {}\n",
    "database = 'nucleotide'\n",
    "email= 'rodrigoce9@gmail.com'\n",
    "idlist=Ids\n",
    "# idlist= Ids.remove('U49845')\n",
    "for ids in idlist:\n",
    "    list_pro=[]\n",
    "    handle = Entrez.efetch(db=database, id=ids, rettype=\"gb\") \n",
    "    records = list(SeqIO.parse(handle,\"gb\"))\n",
    "    handle.close()\n",
    "    for info in records:\n",
    "        list_pro.append(info.id)\n",
    "        for i in info.features:\n",
    "            if i.type == \"CDS\":\n",
    "                pro= str(i.qualifiers[\"protein_id\"])\n",
    "                list_pro.append(pro)\n",
    "        if len(list_pro)==1: #if no protein_id was found\n",
    "            result_dict[info.id] = \"N/A\"\n",
    "        else:\n",
    "            list_pro = [x.replace(\"['\",'').replace(\"']\",'') for x in list_pro]\n",
    "            result_dict[info.id] = ', '.join(list_pro[1:])\n",
    "print(result_dict)\n",
    "#key: id_genebank values: id_Uniprot"
   ]
  },
  {
   "cell_type": "code",
   "execution_count": 27,
   "metadata": {},
   "outputs": [
    {
     "name": "stdout",
     "output_type": "stream",
     "text": [
      "[['U49845.1', 'AAA98665.1', 'AAA98666.1', 'AAA98667.1']]\n"
     ]
    }
   ],
   "source": [
    "#TESTE\n",
    "lista =[]\n",
    "database = 'nucleotide'\n",
    "email= 'rodrigoce9@gmail.com'\n",
    "\n",
    "list_pro=[]\n",
    "handle = Entrez.efetch(db=database, id='U49845', rettype=\"gb\") \n",
    "records = list(SeqIO.parse(handle,\"gb\"))\n",
    "handle.close()\n",
    "for info in records:\n",
    "    list_pro.append(info.id)\n",
    "    for i in info.features:\n",
    "        if i.type == \"CDS\":\n",
    "            pro= str(i.qualifiers[\"protein_id\"])\n",
    "            list_pro.append(pro)\n",
    "\n",
    "div= ', '.join(list_pro)\n",
    "h= div.replace(\"['\",'')\n",
    "hh= h.replace(\"']\",'')\n",
    "ID_PROT= hh.split(', ')\n",
    "lista.append(ID_PROT)\n",
    "print(lista) "
   ]
  },
  {
   "cell_type": "markdown",
   "metadata": {},
   "source": [
    "### Buscar Links de proteinas:"
   ]
  },
  {
   "cell_type": "code",
   "execution_count": 32,
   "metadata": {},
   "outputs": [
    {
     "name": "stdout",
     "output_type": "stream",
     "text": [
      "['https://www.uniprot.org/uniprotkb?query=AAADU0045050.1']\n"
     ]
    }
   ],
   "source": [
    "def url_get_id_p(dic):\n",
    "    url_list_p=[ ]\n",
    "    for key, value in dic.items():\n",
    "        if\n",
    "        url_id_p= \"https://www.uniprot.org/uniprotkb?query={}\".format(id_p)\n",
    "        url_list_p.append(url_id_p)\n",
    "    return url_list_p\n",
    "url_ids_protein=url_get_id_p(result_dict)\n",
    "print(url_ids_protein)  # but we don't need to save this links"
   ]
  },
  {
   "cell_type": "code",
   "execution_count": 63,
   "metadata": {},
   "outputs": [
    {
     "name": "stdout",
     "output_type": "stream",
     "text": [
      "['https://www.uniprot.org/uniprotkb?query=CAA27540.1', 'https://www.uniprot.org/uniprotkb?query=AAA47844.1']\n"
     ]
    }
   ],
   "source": [
    "def url_get_id_p(dic):\n",
    "    url_list_p=[ ]\n",
    "    for key, value in dic.items():\n",
    "        if dic[key] !='N/A':\n",
    "            url_id_p= \"https://www.uniprot.org/uniprotkb?query={}\".format(value)\n",
    "            url_list_p.append(url_id_p)\n",
    "    return url_list_p\n",
    "url_ids_protein=url_get_id_p(result_dict)\n",
    "print(url_ids_protein)  # but we don't need to save this links"
   ]
  },
  {
   "cell_type": "markdown",
   "metadata": {},
   "source": [
    "### Buscar id proteina (uniprot):"
   ]
  },
  {
   "cell_type": "code",
   "execution_count": 65,
   "metadata": {},
   "outputs": [],
   "source": [
    "def get_url(url, **kwargs):\n",
    "    response = requests.get(url, **kwargs);\n",
    "\n",
    "    if not response.ok:\n",
    "        print(response.text)\n",
    "        response.raise_for_status()\n",
    "        sys.exit()\n",
    "\n",
    "    return response"
   ]
  },
  {
   "cell_type": "code",
   "execution_count": 66,
   "metadata": {},
   "outputs": [],
   "source": [
    "#final version\n",
    "WEBSITE_API = \"https://rest.uniprot.org\"\n",
    "fields = [\"accession\",\"organism_name\",\"protein_name\",\"cc_subcellular_location\",\"cc_function\", \"sequence\"]\n",
    "\n",
    "def get_field_for_id(ID_PROT, field):\n",
    "    response = get_url(\"{}/uniprotkb/search?query={} AND (reviewed:true)&fields={}&size=1&format=tsv\".format(WEBSITE_API,ID_PROT,field))\n",
    "    return str(response.content)\n",
    "\n",
    "\n",
    "result = {}\n",
    "for field in fields:\n",
    "    result[field] = [get_field_for_id(i, field) for i in ID_PROT]\n",
    "\n",
    "for field, values in result.items():\n",
    "#     print(f\"Results for {field}\")\n",
    "#     print(values)\n",
    "    #regex\n",
    "    for x in values:\n",
    "        entry = re.search(r'b\\'Entry\\\\n(.+?(?=\\\\n\\'))', x, re.DOTALL)\n",
    "        organism = re.search(r'b\\'Organism\\\\n(.+?(?=\\\\n\\'))', x, re.DOTALL)\n",
    "        function = re.search( r'b\\'Function \\[(CC)\\]\\\\n.{9} (.+?(?=\\\\n\\'))', x, re.DOTALL )\n",
    "        location = re.search( r'b\\'Subcellular location .{27} (.+?(?=\\\\n\\'))', x, re.DOTALL )\n",
    "        sequence = re.search(r'b\\'Sequence\\\\n(.+?(?=\\\\n\\'))', x, re.DOTALL)\n",
    "        if entry:\n",
    "            e = re.match(r'b\\'Entry\\\\n(.+?(?=\\\\n\\'))', x, re.DOTALL )\n",
    "            print(e.group(1))\n",
    "        elif organism:\n",
    "            o = re.match(r'b\\'Organism\\\\n(.+?(?=\\\\n\\'))', x, re.DOTALL )\n",
    "            print(o.group(1))\n",
    "        elif function:\n",
    "            f = re.match(r'b\\'Function .{15} (.+?(?=\\\\n\\'))', x, re.DOTALL )\n",
    "            print(f.group(1))\n",
    "        elif location:\n",
    "            l = re.match(r'b\\'Subcellular location .{27} (.+?(?=\\\\n\\'))', x, re.DOTALL )\n",
    "            print(l.group(1))\n",
    "        elif sequence:\n",
    "            s = re.match(r'b\\'Sequence\\\\n(.+?(?=\\\\n\\'))', x, re.DOTALL)\n",
    "            print(s.group(1) , len(s.group(1)) )\n",
    "#         else:\n",
    "#             print(\"fail\")\n",
    "#ADD CONDITION FOR EMPY RESULT (MEANS THE ID PROTEIN IS NOT REVIEWED)"
   ]
  },
  {
   "cell_type": "markdown",
   "metadata": {},
   "source": [
    "### Buscar seq dos genes:"
   ]
  },
  {
   "cell_type": "code",
   "execution_count": null,
   "metadata": {},
   "outputs": [],
   "source": [
    "#Biopython\n",
    "Ids=[]\n",
    "database = 'nucleotide'\n",
    "email= 'rodrigoce9@gmail.com'\n",
    "idlist= n_genes\n",
    "handle = Entrez.efetch(db=database, id=idlist, rettype=\"gb\") \n",
    "records = list(SeqIO.parse(handle,\"gb\"))\n",
    "handle.close()\n",
    "seq=[]\n",
    "for info in records:\n",
    "    print(info.id)\n",
    "    print(info.seq[0:50],'...',info.seq[-10:])\n",
    "    print()\n",
    "    seq.append(f'{info.seq[0:50]}...{info.seq[-10:]}')\n",
    "    "
   ]
  },
  {
   "cell_type": "markdown",
   "metadata": {},
   "source": [
    "### Buscar gene description:"
   ]
  },
  {
   "cell_type": "code",
   "execution_count": null,
   "metadata": {},
   "outputs": [],
   "source": [
    "Ids=[]\n",
    "database = 'nucleotide'\n",
    "email= 'rodrigoce9@gmail.com'\n",
    "idlist= n_genes\n",
    "handle = Entrez.efetch(db=database, id=idlist, rettype=\"gb\") \n",
    "records = list(SeqIO.parse(handle,\"gb\"))\n",
    "handle.close()\n",
    "description=[]\n",
    "for info in records:\n",
    "    print(info.id)\n",
    "    print(info.description)\n",
    "    description.append(info.description)"
   ]
  },
  {
   "cell_type": "markdown",
   "metadata": {},
   "source": [
    "### Buscar artigos:"
   ]
  },
  {
   "cell_type": "code",
   "execution_count": null,
   "metadata": {},
   "outputs": [],
   "source": [
    "Ids=[]\n",
    "database = 'PubMed'\n",
    "email= 'rodrigoce9@gmail.com'\n",
    "idlist= n_genes\n",
    "handle = Entrez.efetch(db=database, id=idlist, rettype=\"medline\", retmode=\"text\") \n",
    "records = Medline.parse(handle)\n",
    "description=[]\n",
    "for info in records:\n",
    "    print(\"title:\", info.get(\"TI\", \"-\"))\n",
    "    print('authors: ', info.get(\"AU\", \"-\"))\n",
    "    print(\"source:\", info.get(\"SO\", \"-\"))\n",
    "    print(\"affiliation: \", info.get(\"AD\", \"-\") ) # FAZER O IF/ELSE PARA O CASO DE NÃO TER AFFILIATION\n",
    "    print()"
   ]
  },
  {
   "cell_type": "code",
   "execution_count": null,
   "metadata": {},
   "outputs": [],
   "source": []
  }
 ],
 "metadata": {
  "authors": [
   {
    "name": "Jorge Gustavo Rocha"
   }
  ],
  "kernelspec": {
   "display_name": "Python 3 (ipykernel)",
   "language": "python",
   "name": "python3"
  },
  "language_info": {
   "codemirror_mode": {
    "name": "ipython",
    "version": 3
   },
   "file_extension": ".py",
   "mimetype": "text/x-python",
   "name": "python",
   "nbconvert_exporter": "python",
   "pygments_lexer": "ipython3",
   "version": "3.9.12"
  },
  "vscode": {
   "interpreter": {
    "hash": "916dbcbb3f70747c44a77c7bcd40155683ae19c65e1c03b4aa3499c5328201f1"
   }
  }
 },
 "nbformat": 4,
 "nbformat_minor": 2
}
