{
 "cells": [
  {
   "cell_type": "code",
   "execution_count": 6,
   "id": "cc000ad1",
   "metadata": {},
   "outputs": [],
   "source": [
    "import requests\n",
    "from bs4 import BeautifulSoup\n",
    "import re\n",
    "from Bio import Entrez\n",
    "from Bio import Medline"
   ]
  },
  {
   "cell_type": "markdown",
   "id": "8f53a5dd",
   "metadata": {},
   "source": [
    "BeautifulSoup documentation https://www.crummy.com/software/BeautifulSoup/bs4/doc/"
   ]
  },
  {
   "cell_type": "code",
   "execution_count": null,
   "id": "1dbcecd1",
   "metadata": {},
   "outputs": [],
   "source": [
    "#original\n",
    "file= open(\"CDS_protein_result_blast.txt\", \"r\")\n",
    "fields=\"sequence\"\n",
    "WEBSITE_API=\"https://rest.uniprot.org\"\n",
    "seqs=[]\n",
    "\n",
    "for i in file:\n",
    "    r=get_url(\"{}/uniprotkb/search?query={} AND (reviewed:true)&fields={}&size=1&format=tsv\".format(WEBSITE_API,i, fields))\n",
    "    seqs.append(str(r.content))\n",
    "\n",
    "with open('allOrg_CDS_prot_fromUniprot.fasta', 'w') as f:\n",
    "    for index, seq in enumerate(seqs):\n",
    "        existe = re.search(r'b\\'Sequence\\\\n(.+?(?=\\\\n\\'))', seq, re.DOTALL)\n",
    "        if existe:\n",
    "            m = re.match( r'b\\'Sequence\\\\n(.+?(?=\\\\n\\'))', seq, re.DOTALL )\n",
    "            f.write(f\">{titles_list[index]}\\n{m.group(1)}\\n\\n\")                    \n",
    "            #print(m.group(1)) "
   ]
  },
  {
   "cell_type": "code",
   "execution_count": 7,
   "id": "14e13276",
   "metadata": {},
   "outputs": [],
   "source": [
    "def get_url(url, **kwargs):\n",
    "    response = requests.get(url, **kwargs);\n",
    "\n",
    "    if not response.ok:\n",
    "        print(response.text)\n",
    "        response.raise_for_status()\n",
    "        sys.exit()\n",
    "\n",
    "    return response"
   ]
  },
  {
   "cell_type": "code",
   "execution_count": 12,
   "id": "ee28118c",
   "metadata": {},
   "outputs": [
    {
     "name": "stdout",
     "output_type": "stream",
     "text": [
      "b'Subcellular location [CC]\\n\\n'\n",
      "b'Subcellular location [CC]\\n\\n'\n",
      "b'Subcellular location [CC]\\n\\n'\n",
      "b'Subcellular location [CC]\\n\\n'\n",
      "b'Subcellular location [CC]\\n\\n'\n",
      "b'Subcellular location [CC]\\n\\n'\n",
      "b'Subcellular location [CC]\\n\\n'\n",
      "b'Subcellular location [CC]\\n\\n'\n",
      "b'Subcellular location [CC]\\nSUBCELLULAR LOCATION: Cytoplasm, cytosol {ECO:0000269|PubMed:17636024}.\\n'\n",
      "b'Subcellular location [CC]\\nSUBCELLULAR LOCATION: Cytoplasm, cytosol {ECO:0000250}.\\n'\n",
      "b'Subcellular location [CC]\\nSUBCELLULAR LOCATION: Cytoplasm, cytosol {ECO:0000250}.\\n'\n",
      "b'Subcellular location [CC]\\n\\n'\n",
      "b'Subcellular location [CC]\\n\\n'\n",
      "b'Subcellular location [CC]\\nSUBCELLULAR LOCATION: Cell membrane {ECO:0000269|PubMed:9553137}; Peripheral membrane protein {ECO:0000269|PubMed:9553137}; Cytoplasmic side {ECO:0000269|PubMed:9553137}.\\n'\n",
      "b'Subcellular location [CC]\\nSUBCELLULAR LOCATION: Cell membrane; Peripheral membrane protein; Cytoplasmic side.\\n'\n",
      "b'Subcellular location [CC]\\n\\n'\n",
      "b'Subcellular location [CC]\\n\\n'\n",
      "b'Subcellular location [CC]\\n\\n'\n",
      "b'Subcellular location [CC]\\n\\n'\n",
      "b'Subcellular location [CC]\\n\\n'\n",
      "b'Subcellular location [CC]\\nSUBCELLULAR LOCATION: Cytoplasm {ECO:0000250}. Cell membrane {ECO:0000250}.\\n'\n",
      "b'Subcellular location [CC]\\nSUBCELLULAR LOCATION: Cytoplasm {ECO:0000250}. Cell membrane {ECO:0000250}.\\n'\n",
      "b'Subcellular location [CC]\\nSUBCELLULAR LOCATION: Cytoplasm {ECO:0000269|PubMed:19172738}. Cell membrane {ECO:0000269|PubMed:19172738}.\\n'\n",
      "b'Subcellular location [CC]\\n\\n'\n",
      "b'Subcellular location [CC]\\n\\n'\n",
      "b'Subcellular location [CC]\\n\\n'\n",
      "b'Subcellular location [CC]\\n\\n'\n",
      "b'Subcellular location [CC]\\n\\n'\n",
      "b'Subcellular location [CC]\\n\\n'\n",
      "b'Subcellular location [CC]\\n\\n'\n",
      "b'Subcellular location [CC]\\n\\n'\n"
     ]
    }
   ],
   "source": [
    "file= open(\"CDS_protein_result_blast.txt\", \"r\")\n",
    "fields=\"cc_subcellular_location\"\n",
    "WEBSITE_API=\"https://rest.uniprot.org\"\n",
    "seqs=[]\n",
    "\n",
    "for i in file:\n",
    "    r=get_url(\"{}/uniprotkb/search?query={} AND (reviewed:true)&fields={}&size=1&format=tsv\".format(WEBSITE_API,i, fields))\n",
    "    seqs.append(str(r.content))\n",
    "   \n",
    "for x in seqs:\n",
    "    print(x)\n",
    "\n",
    "# for index, seq in enumerate(seqs):\n",
    "#     existe = re.search(r'b\\'Sequence\\\\n(.+?(?=\\\\n\\'))', seq, re.DOTALL)\n",
    "#     if existe:\n",
    "#         m = re.match( r'b\\'Sequence\\\\n(.+?(?=\\\\n\\'))', seq, re.DOTALL )\n",
    "#         print(m.group(1))"
   ]
  },
  {
   "cell_type": "code",
   "execution_count": null,
   "id": "55b4ce1a",
   "metadata": {},
   "outputs": [],
   "source": []
  },
  {
   "cell_type": "code",
   "execution_count": null,
   "id": "96ddbce2",
   "metadata": {},
   "outputs": [],
   "source": []
  },
  {
   "cell_type": "code",
   "execution_count": 4,
   "id": "0af9c92a",
   "metadata": {},
   "outputs": [],
   "source": [
    "def get_url(url, **kwargs):\n",
    "    response = requests.get(url, **kwargs);\n",
    "\n",
    "    if not response.ok:\n",
    "        print(response.text)\n",
    "        response.raise_for_status()\n",
    "        sys.exit()\n",
    "\n",
    "    return response"
   ]
  },
  {
   "cell_type": "code",
   "execution_count": null,
   "id": "90b5a054",
   "metadata": {},
   "outputs": [],
   "source": [
    "file= open(\"CDS_protein_result_blastp.txt\", \"r\")\n",
    "fields=\"accession,organism_name,protein_name,cc_subcellular_location,cc_function\"\n",
    "WEBSITE_API=\"https://rest.uniprot.org\"\n",
    "with open('uniprot_result_CDS_filtered.txt', 'w',encoding='utf-8') as f:\n",
    "    for i in file:\n",
    "        r=get_url(\"{}/uniprotkb/search?query={} AND (reviewed:true)&fields={}&size=1&format=tsv\".format(WEBSITE_API,i, fields))\n",
    "        print(r.text)\n",
    "        f.write(r.text)\n",
    "        f.write('\\n')"
   ]
  },
  {
   "cell_type": "code",
   "execution_count": 19,
   "id": "7f0964fe",
   "metadata": {},
   "outputs": [
    {
     "name": "stdout",
     "output_type": "stream",
     "text": [
      "Protein name: None\n"
     ]
    }
   ],
   "source": [
    "import requests\n",
    "from bs4 import BeautifulSoup\n",
    "\n",
    "# send a GET request to the Uniprot webpage\n",
    "response = requests.get(\"https://www.uniprot.org/uniprot/P12345\")\n",
    "\n",
    "# parse the HTML of the webpage\n",
    "soup = BeautifulSoup(response.text, \"html.parser\")\n",
    "\n",
    "# extract the protein name\n",
    "# protein_name = soup.find(\"h1\", class_=\"entry-summary-content\").text\n",
    "try:\n",
    "    protein_name = soup.find(\"h1\", class_=\"entry-summary-content\")\n",
    "except Exception as e:\n",
    "    print(e)\n",
    "\n",
    "\n",
    "# extract the protein function\n",
    "# function_tag = soup.find(\"div\", class_=\"entry-summary-content\")\n",
    "# protein_function = function_tag.find(\"p\").text\n",
    "\n",
    "print(\"Protein name:\", protein_name)\n",
    "# print(\"Protein function:\", protein_function)"
   ]
  }
 ],
 "metadata": {
  "kernelspec": {
   "display_name": "Python 3 (ipykernel)",
   "language": "python",
   "name": "python3"
  },
  "language_info": {
   "codemirror_mode": {
    "name": "ipython",
    "version": 3
   },
   "file_extension": ".py",
   "mimetype": "text/x-python",
   "name": "python",
   "nbconvert_exporter": "python",
   "pygments_lexer": "ipython3",
   "version": "3.9.12"
  }
 },
 "nbformat": 4,
 "nbformat_minor": 5
}
